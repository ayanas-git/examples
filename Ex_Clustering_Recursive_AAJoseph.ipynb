{
 "cells": [
  {
   "cell_type": "markdown",
   "metadata": {},
   "source": [
    "**AAJoseph**  \n",
    "Example - Python Coding  \n",
    "**<span style='color:blue '>BLUE</span>** text indicates notes."
   ]
  },
  {
   "cell_type": "markdown",
   "metadata": {},
   "source": [
    "Credits: [AAprillant, k-prototype as clustering for mized data](https://towardsdatascience.com/the-k-prototype-as-clustering-algorithm-for-mixed-data-type-categorical-and-numerical-fe7c50538ebb)"
   ]
  },
  {
   "cell_type": "markdown",
   "metadata": {
    "id": "sGBQRh8Mt9Xx"
   },
   "source": [
    "K-Prototypes is a clustering method based on partitioning. Its algorithm is an improvement of the K-Means and K-Mode clustering algorithm, offering an advantage of handling mixed data types. "
   ]
  },
  {
   "cell_type": "markdown",
   "metadata": {},
   "source": [
    "## Imports"
   ]
  },
  {
   "cell_type": "code",
   "execution_count": 1,
   "metadata": {
    "executionInfo": {
     "elapsed": 109,
     "status": "ok",
     "timestamp": 1662835784337,
     "user": {
      "displayName": "Ayana Andrews-Joseph",
      "userId": "11583984214977101586"
     },
     "user_tz": 240
    },
    "id": "_3Zv4jNGt9Xx",
    "outputId": "37457368-883e-4c46-8186-0e26207174f8"
   },
   "outputs": [],
   "source": [
    "# data processing \n",
    "import pandas as pd\n",
    "import numpy as np\n",
    "import os\n",
    "\n",
    "# analysis\n",
    "from sklearn.preprocessing import PowerTransformer\n",
    "\n",
    "# modeling\n",
    "from kmodes.kprototypes import KPrototypes\n",
    "\n",
    "# visuals \n",
    "import plotnine\n",
    "from plotnine import *\n",
    "\n",
    "# random number generator\n",
    "import random"
   ]
  },
  {
   "cell_type": "markdown",
   "metadata": {},
   "source": [
    "#### Data"
   ]
  },
  {
   "cell_type": "code",
   "execution_count": 2,
   "metadata": {},
   "outputs": [],
   "source": [
    "# read data\n",
    "ex_raw = pd.read_csv(r'V:/My Drive/VCU _ MDA/GROUP 1 - Practicums/Example/Data/Practicum_Data_Grp1.txt', index_col=0)"
   ]
  },
  {
   "cell_type": "code",
   "execution_count": 3,
   "metadata": {},
   "outputs": [],
   "source": [
    "# Create working copy and remove rows where product revenue LE $0\n",
    "posRev = ex_raw[ex_raw['PRODUCT_REVENUE']>1.0]\n",
    "\n",
    "# Drop rows with FEI Internal business group\n",
    "noFEI = posRev[posRev['BUSINESS_GROUP'] != ('FEI Internal')]\n",
    "\n",
    "# Drop rows of unwanted Customer Type IDs \n",
    "custOnly = noFEI[(noFEI['CUSTOMER_TYPE_ID'] != ('O_BRCHACCT')) | \n",
    "             (noFEI['CUSTOMER_TYPE_ID'] != ('O_EXPORTER')) | \n",
    "             (noFEI['CUSTOMER_TYPE_ID'] != ('O_INTRBRNCH')) | \n",
    "             (noFEI['CUSTOMER_TYPE_ID'] != ('O_OTHER')) | \n",
    "             (noFEI['CUSTOMER_TYPE_ID'] != ('E_EMPLOY')) | \n",
    "             (noFEI['CUSTOMER_TYPE_ID'] != ('E_ENDUSER')) | \n",
    "             (noFEI['CUSTOMER_TYPE_ID'] != ('E_ETAILER')) | \n",
    "             (noFEI['CUSTOMER_TYPE_ID'] != ('E_HMEOWNR_NSC'))] \n",
    "\n",
    "# Only keep central cluster of clusters\n",
    "ex = custOnly[custOnly['MCA'] == ('Multi_RESB_H_W_F_plus')]\n",
    "ex2_raw = ex"
   ]
  },
  {
   "cell_type": "code",
   "execution_count": 4,
   "metadata": {},
   "outputs": [
    {
     "data": {
      "text/html": [
       "<div>\n",
       "<style scoped>\n",
       "    .dataframe tbody tr th:only-of-type {\n",
       "        vertical-align: middle;\n",
       "    }\n",
       "\n",
       "    .dataframe tbody tr th {\n",
       "        vertical-align: top;\n",
       "    }\n",
       "\n",
       "    .dataframe thead th {\n",
       "        text-align: right;\n",
       "    }\n",
       "</style>\n",
       "<table border=\"1\" class=\"dataframe\">\n",
       "  <thead>\n",
       "    <tr style=\"text-align: right;\">\n",
       "      <th></th>\n",
       "      <th>ORD_CHNL_ID</th>\n",
       "      <th>FFMT_CHNL_ID</th>\n",
       "      <th>BUSINESS_GROUP</th>\n",
       "      <th>MCA</th>\n",
       "      <th>CUSTOMER_TYPE_ID</th>\n",
       "      <th>PRODUCT_REVENUE</th>\n",
       "      <th>PROD_REV_bins</th>\n",
       "      <th>PROD_REV_Std</th>\n",
       "      <th>COUNTER_FLAG</th>\n",
       "      <th>SHOWROOM_FLAG</th>\n",
       "      <th>REGION_NAME</th>\n",
       "      <th>LEVEL1</th>\n",
       "      <th>X_MCA_D1</th>\n",
       "      <th>Y_MCA_D2</th>\n",
       "      <th>MCA_GRP_ALL</th>\n",
       "    </tr>\n",
       "    <tr>\n",
       "      <th>locROW</th>\n",
       "      <th></th>\n",
       "      <th></th>\n",
       "      <th></th>\n",
       "      <th></th>\n",
       "      <th></th>\n",
       "      <th></th>\n",
       "      <th></th>\n",
       "      <th></th>\n",
       "      <th></th>\n",
       "      <th></th>\n",
       "      <th></th>\n",
       "      <th></th>\n",
       "      <th></th>\n",
       "      <th></th>\n",
       "      <th></th>\n",
       "    </tr>\n",
       "  </thead>\n",
       "  <tbody>\n",
       "    <tr>\n",
       "      <th>31890</th>\n",
       "      <td>CTR</td>\n",
       "      <td>PKUP</td>\n",
       "      <td>Residential Builder</td>\n",
       "      <td>Multi_RESB_H_W_F_plus</td>\n",
       "      <td>B_PROD_BUILD</td>\n",
       "      <td>1.01</td>\n",
       "      <td>0.01 — 5.575</td>\n",
       "      <td>0.166107</td>\n",
       "      <td>Y_COUNTER_FLAG</td>\n",
       "      <td>N_SHOWROOM_FLAG</td>\n",
       "      <td>Blended West</td>\n",
       "      <td>WATER WORKS</td>\n",
       "      <td>-0.048080</td>\n",
       "      <td>1.193475</td>\n",
       "      <td>GRPB1.6</td>\n",
       "    </tr>\n",
       "    <tr>\n",
       "      <th>39624</th>\n",
       "      <td>CTR</td>\n",
       "      <td>PKUP</td>\n",
       "      <td>Residential Builder</td>\n",
       "      <td>Multi_RESB_H_W_F_plus</td>\n",
       "      <td>B_SGLNEW</td>\n",
       "      <td>1.01</td>\n",
       "      <td>0.01 — 5.575</td>\n",
       "      <td>0.166107</td>\n",
       "      <td>Y_COUNTER_FLAG</td>\n",
       "      <td>N_SHOWROOM_FLAG</td>\n",
       "      <td>Blended West</td>\n",
       "      <td>PLUMBING - ROUGH</td>\n",
       "      <td>-0.048239</td>\n",
       "      <td>1.185296</td>\n",
       "      <td>GRPB1.6</td>\n",
       "    </tr>\n",
       "    <tr>\n",
       "      <th>66057</th>\n",
       "      <td>CTR</td>\n",
       "      <td>PKUP</td>\n",
       "      <td>Residential Builder</td>\n",
       "      <td>Multi_RESB_H_W_F_plus</td>\n",
       "      <td>B_SGLNEW</td>\n",
       "      <td>1.01</td>\n",
       "      <td>0.01 — 5.575</td>\n",
       "      <td>0.166107</td>\n",
       "      <td>Y_COUNTER_FLAG</td>\n",
       "      <td>Y_SHOWROOM_FLAG</td>\n",
       "      <td>Blended West</td>\n",
       "      <td>PLUMBING - ROUGH</td>\n",
       "      <td>-0.048239</td>\n",
       "      <td>1.185296</td>\n",
       "      <td>GRPB1.6</td>\n",
       "    </tr>\n",
       "    <tr>\n",
       "      <th>108527</th>\n",
       "      <td>CTR</td>\n",
       "      <td>PKUP</td>\n",
       "      <td>Residential Builder</td>\n",
       "      <td>Multi_RESB_H_W_F_plus</td>\n",
       "      <td>B_SGLNEW</td>\n",
       "      <td>1.01</td>\n",
       "      <td>0.01 — 5.575</td>\n",
       "      <td>0.166107</td>\n",
       "      <td>Y_COUNTER_FLAG</td>\n",
       "      <td>N_SHOWROOM_FLAG</td>\n",
       "      <td>Blended Central</td>\n",
       "      <td>PIPE, VALVES AND FITTINGS</td>\n",
       "      <td>-0.048239</td>\n",
       "      <td>1.185296</td>\n",
       "      <td>GRPB1.6</td>\n",
       "    </tr>\n",
       "    <tr>\n",
       "      <th>127791</th>\n",
       "      <td>TRDL</td>\n",
       "      <td>PKUP</td>\n",
       "      <td>Residential Builder</td>\n",
       "      <td>Multi_RESB_H_W_F_plus</td>\n",
       "      <td>B_SGLNEW</td>\n",
       "      <td>1.01</td>\n",
       "      <td>0.01 — 5.575</td>\n",
       "      <td>0.166107</td>\n",
       "      <td>Y_COUNTER_FLAG</td>\n",
       "      <td>N_SHOWROOM_FLAG</td>\n",
       "      <td>Blended West</td>\n",
       "      <td>PIPE, VALVES AND FITTINGS</td>\n",
       "      <td>-0.048239</td>\n",
       "      <td>1.185296</td>\n",
       "      <td>GRPB1.6</td>\n",
       "    </tr>\n",
       "  </tbody>\n",
       "</table>\n",
       "</div>"
      ],
      "text/plain": [
       "       ORD_CHNL_ID FFMT_CHNL_ID       BUSINESS_GROUP                    MCA  \\\n",
       "locROW                                                                        \n",
       "31890          CTR         PKUP  Residential Builder  Multi_RESB_H_W_F_plus   \n",
       "39624          CTR         PKUP  Residential Builder  Multi_RESB_H_W_F_plus   \n",
       "66057          CTR         PKUP  Residential Builder  Multi_RESB_H_W_F_plus   \n",
       "108527         CTR         PKUP  Residential Builder  Multi_RESB_H_W_F_plus   \n",
       "127791        TRDL         PKUP  Residential Builder  Multi_RESB_H_W_F_plus   \n",
       "\n",
       "       CUSTOMER_TYPE_ID  PRODUCT_REVENUE PROD_REV_bins  PROD_REV_Std  \\\n",
       "locROW                                                                 \n",
       "31890      B_PROD_BUILD             1.01  0.01 — 5.575      0.166107   \n",
       "39624          B_SGLNEW             1.01  0.01 — 5.575      0.166107   \n",
       "66057          B_SGLNEW             1.01  0.01 — 5.575      0.166107   \n",
       "108527         B_SGLNEW             1.01  0.01 — 5.575      0.166107   \n",
       "127791         B_SGLNEW             1.01  0.01 — 5.575      0.166107   \n",
       "\n",
       "          COUNTER_FLAG    SHOWROOM_FLAG      REGION_NAME  \\\n",
       "locROW                                                     \n",
       "31890   Y_COUNTER_FLAG  N_SHOWROOM_FLAG     Blended West   \n",
       "39624   Y_COUNTER_FLAG  N_SHOWROOM_FLAG     Blended West   \n",
       "66057   Y_COUNTER_FLAG  Y_SHOWROOM_FLAG     Blended West   \n",
       "108527  Y_COUNTER_FLAG  N_SHOWROOM_FLAG  Blended Central   \n",
       "127791  Y_COUNTER_FLAG  N_SHOWROOM_FLAG     Blended West   \n",
       "\n",
       "                           LEVEL1  X_MCA_D1  Y_MCA_D2 MCA_GRP_ALL  \n",
       "locROW                                                             \n",
       "31890                 WATER WORKS -0.048080  1.193475     GRPB1.6  \n",
       "39624            PLUMBING - ROUGH -0.048239  1.185296     GRPB1.6  \n",
       "66057            PLUMBING - ROUGH -0.048239  1.185296     GRPB1.6  \n",
       "108527  PIPE, VALVES AND FITTINGS -0.048239  1.185296     GRPB1.6  \n",
       "127791  PIPE, VALVES AND FITTINGS -0.048239  1.185296     GRPB1.6  "
      ]
     },
     "execution_count": 4,
     "metadata": {},
     "output_type": "execute_result"
    }
   ],
   "source": [
    "ex.head()"
   ]
  },
  {
   "cell_type": "code",
   "execution_count": 5,
   "metadata": {},
   "outputs": [
    {
     "data": {
      "text/plain": [
       "(1074311, 15)"
      ]
     },
     "execution_count": 5,
     "metadata": {},
     "output_type": "execute_result"
    }
   ],
   "source": [
    "ex.shape"
   ]
  },
  {
   "cell_type": "code",
   "execution_count": 6,
   "metadata": {},
   "outputs": [
    {
     "name": "stdout",
     "output_type": "stream",
     "text": [
      "Dimension data: 1074311 rows and 15 columns\n"
     ]
    },
    {
     "data": {
      "text/html": [
       "<div>\n",
       "<style scoped>\n",
       "    .dataframe tbody tr th:only-of-type {\n",
       "        vertical-align: middle;\n",
       "    }\n",
       "\n",
       "    .dataframe tbody tr th {\n",
       "        vertical-align: top;\n",
       "    }\n",
       "\n",
       "    .dataframe thead th {\n",
       "        text-align: right;\n",
       "    }\n",
       "</style>\n",
       "<table border=\"1\" class=\"dataframe\">\n",
       "  <thead>\n",
       "    <tr style=\"text-align: right;\">\n",
       "      <th></th>\n",
       "      <th>ORD_CHNL_ID</th>\n",
       "      <th>FFMT_CHNL_ID</th>\n",
       "      <th>BUSINESS_GROUP</th>\n",
       "      <th>MCA</th>\n",
       "      <th>CUSTOMER_TYPE_ID</th>\n",
       "      <th>PRODUCT_REVENUE</th>\n",
       "      <th>PROD_REV_bins</th>\n",
       "      <th>PROD_REV_Std</th>\n",
       "      <th>COUNTER_FLAG</th>\n",
       "      <th>SHOWROOM_FLAG</th>\n",
       "      <th>REGION_NAME</th>\n",
       "      <th>LEVEL1</th>\n",
       "      <th>X_MCA_D1</th>\n",
       "      <th>Y_MCA_D2</th>\n",
       "      <th>MCA_GRP_ALL</th>\n",
       "    </tr>\n",
       "    <tr>\n",
       "      <th>locROW</th>\n",
       "      <th></th>\n",
       "      <th></th>\n",
       "      <th></th>\n",
       "      <th></th>\n",
       "      <th></th>\n",
       "      <th></th>\n",
       "      <th></th>\n",
       "      <th></th>\n",
       "      <th></th>\n",
       "      <th></th>\n",
       "      <th></th>\n",
       "      <th></th>\n",
       "      <th></th>\n",
       "      <th></th>\n",
       "      <th></th>\n",
       "    </tr>\n",
       "  </thead>\n",
       "  <tbody>\n",
       "    <tr>\n",
       "      <th>31890</th>\n",
       "      <td>CTR</td>\n",
       "      <td>PKUP</td>\n",
       "      <td>Residential Builder</td>\n",
       "      <td>Multi_RESB_H_W_F_plus</td>\n",
       "      <td>B_PROD_BUILD</td>\n",
       "      <td>1.01</td>\n",
       "      <td>0.01 — 5.575</td>\n",
       "      <td>0.166107</td>\n",
       "      <td>Y_COUNTER_FLAG</td>\n",
       "      <td>N_SHOWROOM_FLAG</td>\n",
       "      <td>Blended West</td>\n",
       "      <td>WATER WORKS</td>\n",
       "      <td>-0.048080</td>\n",
       "      <td>1.193475</td>\n",
       "      <td>GRPB1.6</td>\n",
       "    </tr>\n",
       "    <tr>\n",
       "      <th>39624</th>\n",
       "      <td>CTR</td>\n",
       "      <td>PKUP</td>\n",
       "      <td>Residential Builder</td>\n",
       "      <td>Multi_RESB_H_W_F_plus</td>\n",
       "      <td>B_SGLNEW</td>\n",
       "      <td>1.01</td>\n",
       "      <td>0.01 — 5.575</td>\n",
       "      <td>0.166107</td>\n",
       "      <td>Y_COUNTER_FLAG</td>\n",
       "      <td>N_SHOWROOM_FLAG</td>\n",
       "      <td>Blended West</td>\n",
       "      <td>PLUMBING - ROUGH</td>\n",
       "      <td>-0.048239</td>\n",
       "      <td>1.185296</td>\n",
       "      <td>GRPB1.6</td>\n",
       "    </tr>\n",
       "    <tr>\n",
       "      <th>66057</th>\n",
       "      <td>CTR</td>\n",
       "      <td>PKUP</td>\n",
       "      <td>Residential Builder</td>\n",
       "      <td>Multi_RESB_H_W_F_plus</td>\n",
       "      <td>B_SGLNEW</td>\n",
       "      <td>1.01</td>\n",
       "      <td>0.01 — 5.575</td>\n",
       "      <td>0.166107</td>\n",
       "      <td>Y_COUNTER_FLAG</td>\n",
       "      <td>Y_SHOWROOM_FLAG</td>\n",
       "      <td>Blended West</td>\n",
       "      <td>PLUMBING - ROUGH</td>\n",
       "      <td>-0.048239</td>\n",
       "      <td>1.185296</td>\n",
       "      <td>GRPB1.6</td>\n",
       "    </tr>\n",
       "    <tr>\n",
       "      <th>108527</th>\n",
       "      <td>CTR</td>\n",
       "      <td>PKUP</td>\n",
       "      <td>Residential Builder</td>\n",
       "      <td>Multi_RESB_H_W_F_plus</td>\n",
       "      <td>B_SGLNEW</td>\n",
       "      <td>1.01</td>\n",
       "      <td>0.01 — 5.575</td>\n",
       "      <td>0.166107</td>\n",
       "      <td>Y_COUNTER_FLAG</td>\n",
       "      <td>N_SHOWROOM_FLAG</td>\n",
       "      <td>Blended Central</td>\n",
       "      <td>PIPE, VALVES AND FITTINGS</td>\n",
       "      <td>-0.048239</td>\n",
       "      <td>1.185296</td>\n",
       "      <td>GRPB1.6</td>\n",
       "    </tr>\n",
       "    <tr>\n",
       "      <th>127791</th>\n",
       "      <td>TRDL</td>\n",
       "      <td>PKUP</td>\n",
       "      <td>Residential Builder</td>\n",
       "      <td>Multi_RESB_H_W_F_plus</td>\n",
       "      <td>B_SGLNEW</td>\n",
       "      <td>1.01</td>\n",
       "      <td>0.01 — 5.575</td>\n",
       "      <td>0.166107</td>\n",
       "      <td>Y_COUNTER_FLAG</td>\n",
       "      <td>N_SHOWROOM_FLAG</td>\n",
       "      <td>Blended West</td>\n",
       "      <td>PIPE, VALVES AND FITTINGS</td>\n",
       "      <td>-0.048239</td>\n",
       "      <td>1.185296</td>\n",
       "      <td>GRPB1.6</td>\n",
       "    </tr>\n",
       "    <tr>\n",
       "      <th>132261</th>\n",
       "      <td>CTR</td>\n",
       "      <td>PKUP</td>\n",
       "      <td>Residential Builder</td>\n",
       "      <td>Multi_RESB_H_W_F_plus</td>\n",
       "      <td>B_SGLNEW</td>\n",
       "      <td>1.01</td>\n",
       "      <td>0.01 — 5.575</td>\n",
       "      <td>0.166107</td>\n",
       "      <td>Y_COUNTER_FLAG</td>\n",
       "      <td>N_SHOWROOM_FLAG</td>\n",
       "      <td>Blended West</td>\n",
       "      <td>PLUMBING - ROUGH</td>\n",
       "      <td>-0.048239</td>\n",
       "      <td>1.185296</td>\n",
       "      <td>GRPB1.6</td>\n",
       "    </tr>\n",
       "    <tr>\n",
       "      <th>166638</th>\n",
       "      <td>CTR</td>\n",
       "      <td>PKUP</td>\n",
       "      <td>Residential Builder</td>\n",
       "      <td>Multi_RESB_H_W_F_plus</td>\n",
       "      <td>B_SGLNEW</td>\n",
       "      <td>1.01</td>\n",
       "      <td>0.01 — 5.575</td>\n",
       "      <td>0.166107</td>\n",
       "      <td>Y_COUNTER_FLAG</td>\n",
       "      <td>N_SHOWROOM_FLAG</td>\n",
       "      <td>Blended West</td>\n",
       "      <td>PIPE, VALVES AND FITTINGS</td>\n",
       "      <td>-0.048239</td>\n",
       "      <td>1.185296</td>\n",
       "      <td>GRPB1.6</td>\n",
       "    </tr>\n",
       "    <tr>\n",
       "      <th>264172</th>\n",
       "      <td>CTR</td>\n",
       "      <td>PKUP</td>\n",
       "      <td>Residential Builder</td>\n",
       "      <td>Multi_RESB_H_W_F_plus</td>\n",
       "      <td>B_SGLREMDL</td>\n",
       "      <td>1.01</td>\n",
       "      <td>0.01 — 5.575</td>\n",
       "      <td>0.166107</td>\n",
       "      <td>Y_COUNTER_FLAG</td>\n",
       "      <td>N_SHOWROOM_FLAG</td>\n",
       "      <td>Blended West</td>\n",
       "      <td>PLUMBING - ROUGH</td>\n",
       "      <td>-0.048376</td>\n",
       "      <td>1.194069</td>\n",
       "      <td>GRPB1.6</td>\n",
       "    </tr>\n",
       "    <tr>\n",
       "      <th>267277</th>\n",
       "      <td>CTR</td>\n",
       "      <td>PKUP</td>\n",
       "      <td>Residential Builder</td>\n",
       "      <td>Multi_RESB_H_W_F_plus</td>\n",
       "      <td>B_SGLREMDL</td>\n",
       "      <td>1.01</td>\n",
       "      <td>0.01 — 5.575</td>\n",
       "      <td>0.166107</td>\n",
       "      <td>Y_COUNTER_FLAG</td>\n",
       "      <td>Y_SHOWROOM_FLAG</td>\n",
       "      <td>Blended West</td>\n",
       "      <td>PIPE, VALVES AND FITTINGS</td>\n",
       "      <td>-0.048376</td>\n",
       "      <td>1.194069</td>\n",
       "      <td>GRPB1.6</td>\n",
       "    </tr>\n",
       "    <tr>\n",
       "      <th>267917</th>\n",
       "      <td>CTR</td>\n",
       "      <td>PKUP</td>\n",
       "      <td>Residential Builder</td>\n",
       "      <td>Multi_RESB_H_W_F_plus</td>\n",
       "      <td>B_SGLREMDL</td>\n",
       "      <td>1.01</td>\n",
       "      <td>0.01 — 5.575</td>\n",
       "      <td>0.166107</td>\n",
       "      <td>Y_COUNTER_FLAG</td>\n",
       "      <td>N_SHOWROOM_FLAG</td>\n",
       "      <td>Blended East</td>\n",
       "      <td>PIPE, VALVES AND FITTINGS</td>\n",
       "      <td>-0.048376</td>\n",
       "      <td>1.194069</td>\n",
       "      <td>GRPB1.6</td>\n",
       "    </tr>\n",
       "  </tbody>\n",
       "</table>\n",
       "</div>"
      ],
      "text/plain": [
       "       ORD_CHNL_ID FFMT_CHNL_ID       BUSINESS_GROUP                    MCA  \\\n",
       "locROW                                                                        \n",
       "31890          CTR         PKUP  Residential Builder  Multi_RESB_H_W_F_plus   \n",
       "39624          CTR         PKUP  Residential Builder  Multi_RESB_H_W_F_plus   \n",
       "66057          CTR         PKUP  Residential Builder  Multi_RESB_H_W_F_plus   \n",
       "108527         CTR         PKUP  Residential Builder  Multi_RESB_H_W_F_plus   \n",
       "127791        TRDL         PKUP  Residential Builder  Multi_RESB_H_W_F_plus   \n",
       "132261         CTR         PKUP  Residential Builder  Multi_RESB_H_W_F_plus   \n",
       "166638         CTR         PKUP  Residential Builder  Multi_RESB_H_W_F_plus   \n",
       "264172         CTR         PKUP  Residential Builder  Multi_RESB_H_W_F_plus   \n",
       "267277         CTR         PKUP  Residential Builder  Multi_RESB_H_W_F_plus   \n",
       "267917         CTR         PKUP  Residential Builder  Multi_RESB_H_W_F_plus   \n",
       "\n",
       "       CUSTOMER_TYPE_ID  PRODUCT_REVENUE PROD_REV_bins  PROD_REV_Std  \\\n",
       "locROW                                                                 \n",
       "31890      B_PROD_BUILD             1.01  0.01 — 5.575      0.166107   \n",
       "39624          B_SGLNEW             1.01  0.01 — 5.575      0.166107   \n",
       "66057          B_SGLNEW             1.01  0.01 — 5.575      0.166107   \n",
       "108527         B_SGLNEW             1.01  0.01 — 5.575      0.166107   \n",
       "127791         B_SGLNEW             1.01  0.01 — 5.575      0.166107   \n",
       "132261         B_SGLNEW             1.01  0.01 — 5.575      0.166107   \n",
       "166638         B_SGLNEW             1.01  0.01 — 5.575      0.166107   \n",
       "264172       B_SGLREMDL             1.01  0.01 — 5.575      0.166107   \n",
       "267277       B_SGLREMDL             1.01  0.01 — 5.575      0.166107   \n",
       "267917       B_SGLREMDL             1.01  0.01 — 5.575      0.166107   \n",
       "\n",
       "          COUNTER_FLAG    SHOWROOM_FLAG      REGION_NAME  \\\n",
       "locROW                                                     \n",
       "31890   Y_COUNTER_FLAG  N_SHOWROOM_FLAG     Blended West   \n",
       "39624   Y_COUNTER_FLAG  N_SHOWROOM_FLAG     Blended West   \n",
       "66057   Y_COUNTER_FLAG  Y_SHOWROOM_FLAG     Blended West   \n",
       "108527  Y_COUNTER_FLAG  N_SHOWROOM_FLAG  Blended Central   \n",
       "127791  Y_COUNTER_FLAG  N_SHOWROOM_FLAG     Blended West   \n",
       "132261  Y_COUNTER_FLAG  N_SHOWROOM_FLAG     Blended West   \n",
       "166638  Y_COUNTER_FLAG  N_SHOWROOM_FLAG     Blended West   \n",
       "264172  Y_COUNTER_FLAG  N_SHOWROOM_FLAG     Blended West   \n",
       "267277  Y_COUNTER_FLAG  Y_SHOWROOM_FLAG     Blended West   \n",
       "267917  Y_COUNTER_FLAG  N_SHOWROOM_FLAG     Blended East   \n",
       "\n",
       "                           LEVEL1  X_MCA_D1  Y_MCA_D2 MCA_GRP_ALL  \n",
       "locROW                                                             \n",
       "31890                 WATER WORKS -0.048080  1.193475     GRPB1.6  \n",
       "39624            PLUMBING - ROUGH -0.048239  1.185296     GRPB1.6  \n",
       "66057            PLUMBING - ROUGH -0.048239  1.185296     GRPB1.6  \n",
       "108527  PIPE, VALVES AND FITTINGS -0.048239  1.185296     GRPB1.6  \n",
       "127791  PIPE, VALVES AND FITTINGS -0.048239  1.185296     GRPB1.6  \n",
       "132261           PLUMBING - ROUGH -0.048239  1.185296     GRPB1.6  \n",
       "166638  PIPE, VALVES AND FITTINGS -0.048239  1.185296     GRPB1.6  \n",
       "264172           PLUMBING - ROUGH -0.048376  1.194069     GRPB1.6  \n",
       "267277  PIPE, VALVES AND FITTINGS -0.048376  1.194069     GRPB1.6  \n",
       "267917  PIPE, VALVES AND FITTINGS -0.048376  1.194069     GRPB1.6  "
      ]
     },
     "execution_count": 6,
     "metadata": {},
     "output_type": "execute_result"
    }
   ],
   "source": [
    "print('Dimension data: {} rows and {} columns'.format(len(ex), len(ex.columns)))\n",
    "ex.head(10)"
   ]
  },
  {
   "cell_type": "markdown",
   "metadata": {},
   "source": [
    "### NOTE: Value Types\n",
    "May require positions of categorical vs. numeric"
   ]
  },
  {
   "cell_type": "code",
   "execution_count": 7,
   "metadata": {},
   "outputs": [
    {
     "data": {
      "text/plain": [
       "ORD_CHNL_ID          object\n",
       "FFMT_CHNL_ID         object\n",
       "BUSINESS_GROUP       object\n",
       "MCA                  object\n",
       "CUSTOMER_TYPE_ID     object\n",
       "PRODUCT_REVENUE     float64\n",
       "PROD_REV_bins        object\n",
       "PROD_REV_Std        float64\n",
       "COUNTER_FLAG         object\n",
       "SHOWROOM_FLAG        object\n",
       "REGION_NAME          object\n",
       "LEVEL1               object\n",
       "X_MCA_D1            float64\n",
       "Y_MCA_D2            float64\n",
       "MCA_GRP_ALL          object\n",
       "dtype: object"
      ]
     },
     "execution_count": 7,
     "metadata": {},
     "output_type": "execute_result"
    }
   ],
   "source": [
    "ex.dtypes"
   ]
  },
  {
   "cell_type": "code",
   "execution_count": 8,
   "metadata": {},
   "outputs": [
    {
     "data": {
      "text/plain": [
       "ORD_CHNL_ID           0\n",
       "FFMT_CHNL_ID          0\n",
       "BUSINESS_GROUP        0\n",
       "MCA                   0\n",
       "CUSTOMER_TYPE_ID    374\n",
       "PRODUCT_REVENUE       0\n",
       "PROD_REV_bins         0\n",
       "PROD_REV_Std          0\n",
       "COUNTER_FLAG          0\n",
       "SHOWROOM_FLAG         0\n",
       "REGION_NAME           0\n",
       "LEVEL1                0\n",
       "X_MCA_D1              0\n",
       "Y_MCA_D2              0\n",
       "MCA_GRP_ALL           0\n",
       "dtype: int64"
      ]
     },
     "execution_count": 8,
     "metadata": {},
     "output_type": "execute_result"
    }
   ],
   "source": [
    "# Check missing value\n",
    "ex.isna().sum()"
   ]
  },
  {
   "cell_type": "markdown",
   "metadata": {},
   "source": [
    "Not concerned about the rows missing CUSTOMER_TYPE_ID. This level of customer is not being used for clustering."
   ]
  },
  {
   "cell_type": "code",
   "execution_count": 9,
   "metadata": {},
   "outputs": [
    {
     "data": {
      "text/html": [
       "<div>\n",
       "<style scoped>\n",
       "    .dataframe tbody tr th:only-of-type {\n",
       "        vertical-align: middle;\n",
       "    }\n",
       "\n",
       "    .dataframe tbody tr th {\n",
       "        vertical-align: top;\n",
       "    }\n",
       "\n",
       "    .dataframe thead th {\n",
       "        text-align: right;\n",
       "    }\n",
       "</style>\n",
       "<table border=\"1\" class=\"dataframe\">\n",
       "  <thead>\n",
       "    <tr style=\"text-align: right;\">\n",
       "      <th>col_0</th>\n",
       "      <th>% observations</th>\n",
       "    </tr>\n",
       "    <tr>\n",
       "      <th>ORD_CHNL_ID</th>\n",
       "      <th></th>\n",
       "    </tr>\n",
       "  </thead>\n",
       "  <tbody>\n",
       "    <tr>\n",
       "      <th>CTR</th>\n",
       "      <td>43.595663</td>\n",
       "    </tr>\n",
       "    <tr>\n",
       "      <th>ECOMM</th>\n",
       "      <td>4.488737</td>\n",
       "    </tr>\n",
       "    <tr>\n",
       "      <th>SHWFOL</th>\n",
       "      <td>0.706220</td>\n",
       "    </tr>\n",
       "    <tr>\n",
       "      <th>SHWRM</th>\n",
       "      <td>15.126905</td>\n",
       "    </tr>\n",
       "    <tr>\n",
       "      <th>TRDL</th>\n",
       "      <td>36.082475</td>\n",
       "    </tr>\n",
       "  </tbody>\n",
       "</table>\n",
       "</div>"
      ],
      "text/plain": [
       "col_0        % observations\n",
       "ORD_CHNL_ID                \n",
       "CTR               43.595663\n",
       "ECOMM              4.488737\n",
       "SHWFOL             0.706220\n",
       "SHWRM             15.126905\n",
       "TRDL              36.082475"
      ]
     },
     "metadata": {},
     "output_type": "display_data"
    },
    {
     "data": {
      "text/html": [
       "<div>\n",
       "<style scoped>\n",
       "    .dataframe tbody tr th:only-of-type {\n",
       "        vertical-align: middle;\n",
       "    }\n",
       "\n",
       "    .dataframe tbody tr th {\n",
       "        vertical-align: top;\n",
       "    }\n",
       "\n",
       "    .dataframe thead th {\n",
       "        text-align: right;\n",
       "    }\n",
       "</style>\n",
       "<table border=\"1\" class=\"dataframe\">\n",
       "  <thead>\n",
       "    <tr style=\"text-align: right;\">\n",
       "      <th>col_0</th>\n",
       "      <th>% observations</th>\n",
       "    </tr>\n",
       "    <tr>\n",
       "      <th>FFMT_CHNL_ID</th>\n",
       "      <th></th>\n",
       "    </tr>\n",
       "  </thead>\n",
       "  <tbody>\n",
       "    <tr>\n",
       "      <th>DLVR</th>\n",
       "      <td>36.274226</td>\n",
       "    </tr>\n",
       "    <tr>\n",
       "      <th>EX-DIR</th>\n",
       "      <td>3.483907</td>\n",
       "    </tr>\n",
       "    <tr>\n",
       "      <th>IN-DIR</th>\n",
       "      <td>4.303968</td>\n",
       "    </tr>\n",
       "    <tr>\n",
       "      <th>PKUP</th>\n",
       "      <td>55.937899</td>\n",
       "    </tr>\n",
       "  </tbody>\n",
       "</table>\n",
       "</div>"
      ],
      "text/plain": [
       "col_0         % observations\n",
       "FFMT_CHNL_ID                \n",
       "DLVR               36.274226\n",
       "EX-DIR              3.483907\n",
       "IN-DIR              4.303968\n",
       "PKUP               55.937899"
      ]
     },
     "metadata": {},
     "output_type": "display_data"
    },
    {
     "data": {
      "text/html": [
       "<div>\n",
       "<style scoped>\n",
       "    .dataframe tbody tr th:only-of-type {\n",
       "        vertical-align: middle;\n",
       "    }\n",
       "\n",
       "    .dataframe tbody tr th {\n",
       "        vertical-align: top;\n",
       "    }\n",
       "\n",
       "    .dataframe thead th {\n",
       "        text-align: right;\n",
       "    }\n",
       "</style>\n",
       "<table border=\"1\" class=\"dataframe\">\n",
       "  <thead>\n",
       "    <tr style=\"text-align: right;\">\n",
       "      <th>col_0</th>\n",
       "      <th>% observations</th>\n",
       "    </tr>\n",
       "    <tr>\n",
       "      <th>BUSINESS_GROUP</th>\n",
       "      <th></th>\n",
       "    </tr>\n",
       "  </thead>\n",
       "  <tbody>\n",
       "    <tr>\n",
       "      <th>Commercial</th>\n",
       "      <td>0.010518</td>\n",
       "    </tr>\n",
       "    <tr>\n",
       "      <th>Fire and Fabrication</th>\n",
       "      <td>6.597624</td>\n",
       "    </tr>\n",
       "    <tr>\n",
       "      <th>HVAC</th>\n",
       "      <td>29.479545</td>\n",
       "    </tr>\n",
       "    <tr>\n",
       "      <th>Industrial</th>\n",
       "      <td>8.191576</td>\n",
       "    </tr>\n",
       "    <tr>\n",
       "      <th>Other</th>\n",
       "      <td>0.581675</td>\n",
       "    </tr>\n",
       "    <tr>\n",
       "      <th>Residential Builder</th>\n",
       "      <td>38.088040</td>\n",
       "    </tr>\n",
       "    <tr>\n",
       "      <th>Unknown</th>\n",
       "      <td>0.032393</td>\n",
       "    </tr>\n",
       "    <tr>\n",
       "      <th>Waterworks</th>\n",
       "      <td>17.018629</td>\n",
       "    </tr>\n",
       "  </tbody>\n",
       "</table>\n",
       "</div>"
      ],
      "text/plain": [
       "col_0                 % observations\n",
       "BUSINESS_GROUP                      \n",
       "Commercial                  0.010518\n",
       "Fire and Fabrication        6.597624\n",
       "HVAC                       29.479545\n",
       "Industrial                  8.191576\n",
       "Other                       0.581675\n",
       "Residential Builder        38.088040\n",
       "Unknown                     0.032393\n",
       "Waterworks                 17.018629"
      ]
     },
     "metadata": {},
     "output_type": "display_data"
    },
    {
     "data": {
      "text/html": [
       "<div>\n",
       "<style scoped>\n",
       "    .dataframe tbody tr th:only-of-type {\n",
       "        vertical-align: middle;\n",
       "    }\n",
       "\n",
       "    .dataframe tbody tr th {\n",
       "        vertical-align: top;\n",
       "    }\n",
       "\n",
       "    .dataframe thead th {\n",
       "        text-align: right;\n",
       "    }\n",
       "</style>\n",
       "<table border=\"1\" class=\"dataframe\">\n",
       "  <thead>\n",
       "    <tr style=\"text-align: right;\">\n",
       "      <th>col_0</th>\n",
       "      <th>% observations</th>\n",
       "    </tr>\n",
       "    <tr>\n",
       "      <th>MCA</th>\n",
       "      <th></th>\n",
       "    </tr>\n",
       "  </thead>\n",
       "  <tbody>\n",
       "    <tr>\n",
       "      <th>Multi_RESB_H_W_F_plus</th>\n",
       "      <td>100.0</td>\n",
       "    </tr>\n",
       "  </tbody>\n",
       "</table>\n",
       "</div>"
      ],
      "text/plain": [
       "col_0                  % observations\n",
       "MCA                                  \n",
       "Multi_RESB_H_W_F_plus           100.0"
      ]
     },
     "metadata": {},
     "output_type": "display_data"
    },
    {
     "data": {
      "text/html": [
       "<div>\n",
       "<style scoped>\n",
       "    .dataframe tbody tr th:only-of-type {\n",
       "        vertical-align: middle;\n",
       "    }\n",
       "\n",
       "    .dataframe tbody tr th {\n",
       "        vertical-align: top;\n",
       "    }\n",
       "\n",
       "    .dataframe thead th {\n",
       "        text-align: right;\n",
       "    }\n",
       "</style>\n",
       "<table border=\"1\" class=\"dataframe\">\n",
       "  <thead>\n",
       "    <tr style=\"text-align: right;\">\n",
       "      <th>col_0</th>\n",
       "      <th>% observations</th>\n",
       "    </tr>\n",
       "    <tr>\n",
       "      <th>CUSTOMER_TYPE_ID</th>\n",
       "      <th></th>\n",
       "    </tr>\n",
       "  </thead>\n",
       "  <tbody>\n",
       "    <tr>\n",
       "      <th>B_INDUS</th>\n",
       "      <td>0.000466</td>\n",
       "    </tr>\n",
       "    <tr>\n",
       "      <th>B_MULTI</th>\n",
       "      <td>0.950428</td>\n",
       "    </tr>\n",
       "    <tr>\n",
       "      <th>B_PREFAB</th>\n",
       "      <td>0.074678</td>\n",
       "    </tr>\n",
       "    <tr>\n",
       "      <th>B_PROD_BUILD</th>\n",
       "      <td>1.243090</td>\n",
       "    </tr>\n",
       "    <tr>\n",
       "      <th>B_SGLNEW</th>\n",
       "      <td>11.191159</td>\n",
       "    </tr>\n",
       "    <tr>\n",
       "      <th>...</th>\n",
       "      <td>...</td>\n",
       "    </tr>\n",
       "    <tr>\n",
       "      <th>U_UTLTYCON</th>\n",
       "      <td>0.000466</td>\n",
       "    </tr>\n",
       "    <tr>\n",
       "      <th>U_UTLTYPW</th>\n",
       "      <td>1.306129</td>\n",
       "    </tr>\n",
       "    <tr>\n",
       "      <th>U_UTLTYRES</th>\n",
       "      <td>1.608102</td>\n",
       "    </tr>\n",
       "    <tr>\n",
       "      <th>U_WWOTHERS</th>\n",
       "      <td>1.933074</td>\n",
       "    </tr>\n",
       "    <tr>\n",
       "      <th>Z_PROFILE</th>\n",
       "      <td>0.000093</td>\n",
       "    </tr>\n",
       "  </tbody>\n",
       "</table>\n",
       "<p>111 rows × 1 columns</p>\n",
       "</div>"
      ],
      "text/plain": [
       "col_0             % observations\n",
       "CUSTOMER_TYPE_ID                \n",
       "B_INDUS                 0.000466\n",
       "B_MULTI                 0.950428\n",
       "B_PREFAB                0.074678\n",
       "B_PROD_BUILD            1.243090\n",
       "B_SGLNEW               11.191159\n",
       "...                          ...\n",
       "U_UTLTYCON              0.000466\n",
       "U_UTLTYPW               1.306129\n",
       "U_UTLTYRES              1.608102\n",
       "U_WWOTHERS              1.933074\n",
       "Z_PROFILE               0.000093\n",
       "\n",
       "[111 rows x 1 columns]"
      ]
     },
     "metadata": {},
     "output_type": "display_data"
    },
    {
     "data": {
      "text/html": [
       "<div>\n",
       "<style scoped>\n",
       "    .dataframe tbody tr th:only-of-type {\n",
       "        vertical-align: middle;\n",
       "    }\n",
       "\n",
       "    .dataframe tbody tr th {\n",
       "        vertical-align: top;\n",
       "    }\n",
       "\n",
       "    .dataframe thead th {\n",
       "        text-align: right;\n",
       "    }\n",
       "</style>\n",
       "<table border=\"1\" class=\"dataframe\">\n",
       "  <thead>\n",
       "    <tr style=\"text-align: right;\">\n",
       "      <th>col_0</th>\n",
       "      <th>% observations</th>\n",
       "    </tr>\n",
       "    <tr>\n",
       "      <th>PROD_REV_bins</th>\n",
       "      <th></th>\n",
       "    </tr>\n",
       "  </thead>\n",
       "  <tbody>\n",
       "    <tr>\n",
       "      <th>0.01 — 5.575</th>\n",
       "      <td>4.017552</td>\n",
       "    </tr>\n",
       "    <tr>\n",
       "      <th>178.5 — 715.55</th>\n",
       "      <td>22.499630</td>\n",
       "    </tr>\n",
       "    <tr>\n",
       "      <th>37.25 — 178.5</th>\n",
       "      <td>29.985823</td>\n",
       "    </tr>\n",
       "    <tr>\n",
       "      <th>5.575 — 37.25</th>\n",
       "      <td>24.787887</td>\n",
       "    </tr>\n",
       "    <tr>\n",
       "      <th>715.55 — 2500000</th>\n",
       "      <td>18.709108</td>\n",
       "    </tr>\n",
       "  </tbody>\n",
       "</table>\n",
       "</div>"
      ],
      "text/plain": [
       "col_0             % observations\n",
       "PROD_REV_bins                   \n",
       "0.01 — 5.575            4.017552\n",
       "178.5 — 715.55         22.499630\n",
       "37.25 — 178.5          29.985823\n",
       "5.575 — 37.25          24.787887\n",
       "715.55 — 2500000       18.709108"
      ]
     },
     "metadata": {},
     "output_type": "display_data"
    },
    {
     "data": {
      "text/html": [
       "<div>\n",
       "<style scoped>\n",
       "    .dataframe tbody tr th:only-of-type {\n",
       "        vertical-align: middle;\n",
       "    }\n",
       "\n",
       "    .dataframe tbody tr th {\n",
       "        vertical-align: top;\n",
       "    }\n",
       "\n",
       "    .dataframe thead th {\n",
       "        text-align: right;\n",
       "    }\n",
       "</style>\n",
       "<table border=\"1\" class=\"dataframe\">\n",
       "  <thead>\n",
       "    <tr style=\"text-align: right;\">\n",
       "      <th>col_0</th>\n",
       "      <th>% observations</th>\n",
       "    </tr>\n",
       "    <tr>\n",
       "      <th>COUNTER_FLAG</th>\n",
       "      <th></th>\n",
       "    </tr>\n",
       "  </thead>\n",
       "  <tbody>\n",
       "    <tr>\n",
       "      <th>N_COUNTER_FLAG</th>\n",
       "      <td>13.842360</td>\n",
       "    </tr>\n",
       "    <tr>\n",
       "      <th>U_COUNTER_FLAG</th>\n",
       "      <td>0.500972</td>\n",
       "    </tr>\n",
       "    <tr>\n",
       "      <th>Y_COUNTER_FLAG</th>\n",
       "      <td>85.656667</td>\n",
       "    </tr>\n",
       "  </tbody>\n",
       "</table>\n",
       "</div>"
      ],
      "text/plain": [
       "col_0           % observations\n",
       "COUNTER_FLAG                  \n",
       "N_COUNTER_FLAG       13.842360\n",
       "U_COUNTER_FLAG        0.500972\n",
       "Y_COUNTER_FLAG       85.656667"
      ]
     },
     "metadata": {},
     "output_type": "display_data"
    },
    {
     "data": {
      "text/html": [
       "<div>\n",
       "<style scoped>\n",
       "    .dataframe tbody tr th:only-of-type {\n",
       "        vertical-align: middle;\n",
       "    }\n",
       "\n",
       "    .dataframe tbody tr th {\n",
       "        vertical-align: top;\n",
       "    }\n",
       "\n",
       "    .dataframe thead th {\n",
       "        text-align: right;\n",
       "    }\n",
       "</style>\n",
       "<table border=\"1\" class=\"dataframe\">\n",
       "  <thead>\n",
       "    <tr style=\"text-align: right;\">\n",
       "      <th>col_0</th>\n",
       "      <th>% observations</th>\n",
       "    </tr>\n",
       "    <tr>\n",
       "      <th>SHOWROOM_FLAG</th>\n",
       "      <th></th>\n",
       "    </tr>\n",
       "  </thead>\n",
       "  <tbody>\n",
       "    <tr>\n",
       "      <th>N_SHOWROOM_FLAG</th>\n",
       "      <td>72.076708</td>\n",
       "    </tr>\n",
       "    <tr>\n",
       "      <th>U_SHOWROOM_FLAG</th>\n",
       "      <td>0.500972</td>\n",
       "    </tr>\n",
       "    <tr>\n",
       "      <th>Y_SHOWROOM_FLAG</th>\n",
       "      <td>27.422320</td>\n",
       "    </tr>\n",
       "  </tbody>\n",
       "</table>\n",
       "</div>"
      ],
      "text/plain": [
       "col_0            % observations\n",
       "SHOWROOM_FLAG                  \n",
       "N_SHOWROOM_FLAG       72.076708\n",
       "U_SHOWROOM_FLAG        0.500972\n",
       "Y_SHOWROOM_FLAG       27.422320"
      ]
     },
     "metadata": {},
     "output_type": "display_data"
    },
    {
     "data": {
      "text/html": [
       "<div>\n",
       "<style scoped>\n",
       "    .dataframe tbody tr th:only-of-type {\n",
       "        vertical-align: middle;\n",
       "    }\n",
       "\n",
       "    .dataframe tbody tr th {\n",
       "        vertical-align: top;\n",
       "    }\n",
       "\n",
       "    .dataframe thead th {\n",
       "        text-align: right;\n",
       "    }\n",
       "</style>\n",
       "<table border=\"1\" class=\"dataframe\">\n",
       "  <thead>\n",
       "    <tr style=\"text-align: right;\">\n",
       "      <th>col_0</th>\n",
       "      <th>% observations</th>\n",
       "    </tr>\n",
       "    <tr>\n",
       "      <th>REGION_NAME</th>\n",
       "      <th></th>\n",
       "    </tr>\n",
       "  </thead>\n",
       "  <tbody>\n",
       "    <tr>\n",
       "      <th>Blended Central</th>\n",
       "      <td>25.440771</td>\n",
       "    </tr>\n",
       "    <tr>\n",
       "      <th>Blended East</th>\n",
       "      <td>29.937234</td>\n",
       "    </tr>\n",
       "    <tr>\n",
       "      <th>Blended Misc</th>\n",
       "      <td>0.316482</td>\n",
       "    </tr>\n",
       "    <tr>\n",
       "      <th>Blended West</th>\n",
       "      <td>21.959377</td>\n",
       "    </tr>\n",
       "    <tr>\n",
       "      <th>Distribution Center BUS</th>\n",
       "      <td>0.005864</td>\n",
       "    </tr>\n",
       "    <tr>\n",
       "      <th>Ebusiness</th>\n",
       "      <td>0.250300</td>\n",
       "    </tr>\n",
       "    <tr>\n",
       "      <th>Fire And Fabrication</th>\n",
       "      <td>6.269600</td>\n",
       "    </tr>\n",
       "    <tr>\n",
       "      <th>Missing Region</th>\n",
       "      <td>0.500972</td>\n",
       "    </tr>\n",
       "    <tr>\n",
       "      <th>Own Brand</th>\n",
       "      <td>0.003165</td>\n",
       "    </tr>\n",
       "    <tr>\n",
       "      <th>Waterworks</th>\n",
       "      <td>15.316235</td>\n",
       "    </tr>\n",
       "  </tbody>\n",
       "</table>\n",
       "</div>"
      ],
      "text/plain": [
       "col_0                    % observations\n",
       "REGION_NAME                            \n",
       "Blended Central               25.440771\n",
       "Blended East                  29.937234\n",
       "Blended Misc                   0.316482\n",
       "Blended West                  21.959377\n",
       "Distribution Center BUS        0.005864\n",
       "Ebusiness                      0.250300\n",
       "Fire And Fabrication           6.269600\n",
       "Missing Region                 0.500972\n",
       "Own Brand                      0.003165\n",
       "Waterworks                    15.316235"
      ]
     },
     "metadata": {},
     "output_type": "display_data"
    },
    {
     "data": {
      "text/html": [
       "<div>\n",
       "<style scoped>\n",
       "    .dataframe tbody tr th:only-of-type {\n",
       "        vertical-align: middle;\n",
       "    }\n",
       "\n",
       "    .dataframe tbody tr th {\n",
       "        vertical-align: top;\n",
       "    }\n",
       "\n",
       "    .dataframe thead th {\n",
       "        text-align: right;\n",
       "    }\n",
       "</style>\n",
       "<table border=\"1\" class=\"dataframe\">\n",
       "  <thead>\n",
       "    <tr style=\"text-align: right;\">\n",
       "      <th>col_0</th>\n",
       "      <th>% observations</th>\n",
       "    </tr>\n",
       "    <tr>\n",
       "      <th>LEVEL1</th>\n",
       "      <th></th>\n",
       "    </tr>\n",
       "  </thead>\n",
       "  <tbody>\n",
       "    <tr>\n",
       "      <th>ACCOUNTING AND SERVICES</th>\n",
       "      <td>3.722665</td>\n",
       "    </tr>\n",
       "    <tr>\n",
       "      <th>BUILDER</th>\n",
       "      <td>6.152874</td>\n",
       "    </tr>\n",
       "    <tr>\n",
       "      <th>ELECTRICAL</th>\n",
       "      <td>1.979315</td>\n",
       "    </tr>\n",
       "    <tr>\n",
       "      <th>HEATING, VENTILATION AND AIR CONDITIONING</th>\n",
       "      <td>16.912421</td>\n",
       "    </tr>\n",
       "    <tr>\n",
       "      <th>LEVEL1 UNK</th>\n",
       "      <td>0.001862</td>\n",
       "    </tr>\n",
       "    <tr>\n",
       "      <th>LIGHTING</th>\n",
       "      <td>1.751914</td>\n",
       "    </tr>\n",
       "    <tr>\n",
       "      <th>MRO AND CONSUMABLES</th>\n",
       "      <td>8.795125</td>\n",
       "    </tr>\n",
       "    <tr>\n",
       "      <th>PIPE, VALVES AND FITTINGS</th>\n",
       "      <td>29.876358</td>\n",
       "    </tr>\n",
       "    <tr>\n",
       "      <th>PLUMBING - FINISHED</th>\n",
       "      <td>12.400599</td>\n",
       "    </tr>\n",
       "    <tr>\n",
       "      <th>PLUMBING - ROUGH</th>\n",
       "      <td>6.136770</td>\n",
       "    </tr>\n",
       "    <tr>\n",
       "      <th>PRODUCTS WITH ISSUES</th>\n",
       "      <td>0.051009</td>\n",
       "    </tr>\n",
       "    <tr>\n",
       "      <th>SAFETY</th>\n",
       "      <td>1.313214</td>\n",
       "    </tr>\n",
       "    <tr>\n",
       "      <th>TOOLS</th>\n",
       "      <td>4.048362</td>\n",
       "    </tr>\n",
       "    <tr>\n",
       "      <th>WATER SYSTEMS</th>\n",
       "      <td>2.158779</td>\n",
       "    </tr>\n",
       "    <tr>\n",
       "      <th>WATER WORKS</th>\n",
       "      <td>4.698732</td>\n",
       "    </tr>\n",
       "  </tbody>\n",
       "</table>\n",
       "</div>"
      ],
      "text/plain": [
       "col_0                                      % observations\n",
       "LEVEL1                                                   \n",
       "ACCOUNTING AND SERVICES                          3.722665\n",
       "BUILDER                                          6.152874\n",
       "ELECTRICAL                                       1.979315\n",
       "HEATING, VENTILATION AND AIR CONDITIONING       16.912421\n",
       "LEVEL1 UNK                                       0.001862\n",
       "LIGHTING                                         1.751914\n",
       "MRO AND CONSUMABLES                              8.795125\n",
       "PIPE, VALVES AND FITTINGS                       29.876358\n",
       "PLUMBING - FINISHED                             12.400599\n",
       "PLUMBING - ROUGH                                 6.136770\n",
       "PRODUCTS WITH ISSUES                             0.051009\n",
       "SAFETY                                           1.313214\n",
       "TOOLS                                            4.048362\n",
       "WATER SYSTEMS                                    2.158779\n",
       "WATER WORKS                                      4.698732"
      ]
     },
     "metadata": {},
     "output_type": "display_data"
    },
    {
     "data": {
      "text/html": [
       "<div>\n",
       "<style scoped>\n",
       "    .dataframe tbody tr th:only-of-type {\n",
       "        vertical-align: middle;\n",
       "    }\n",
       "\n",
       "    .dataframe tbody tr th {\n",
       "        vertical-align: top;\n",
       "    }\n",
       "\n",
       "    .dataframe thead th {\n",
       "        text-align: right;\n",
       "    }\n",
       "</style>\n",
       "<table border=\"1\" class=\"dataframe\">\n",
       "  <thead>\n",
       "    <tr style=\"text-align: right;\">\n",
       "      <th>col_0</th>\n",
       "      <th>% observations</th>\n",
       "    </tr>\n",
       "    <tr>\n",
       "      <th>MCA_GRP_ALL</th>\n",
       "      <th></th>\n",
       "    </tr>\n",
       "  </thead>\n",
       "  <tbody>\n",
       "    <tr>\n",
       "      <th>GRPB1.1</th>\n",
       "      <td>16.210948</td>\n",
       "    </tr>\n",
       "    <tr>\n",
       "      <th>GRPB1.2</th>\n",
       "      <td>0.034906</td>\n",
       "    </tr>\n",
       "    <tr>\n",
       "      <th>GRPB1.3</th>\n",
       "      <td>6.361007</td>\n",
       "    </tr>\n",
       "    <tr>\n",
       "      <th>GRPB1.4</th>\n",
       "      <td>8.373367</td>\n",
       "    </tr>\n",
       "    <tr>\n",
       "      <th>GRPB1.5</th>\n",
       "      <td>29.339735</td>\n",
       "    </tr>\n",
       "    <tr>\n",
       "      <th>GRPB1.6</th>\n",
       "      <td>39.680037</td>\n",
       "    </tr>\n",
       "  </tbody>\n",
       "</table>\n",
       "</div>"
      ],
      "text/plain": [
       "col_0        % observations\n",
       "MCA_GRP_ALL                \n",
       "GRPB1.1           16.210948\n",
       "GRPB1.2            0.034906\n",
       "GRPB1.3            6.361007\n",
       "GRPB1.4            8.373367\n",
       "GRPB1.5           29.339735\n",
       "GRPB1.6           39.680037"
      ]
     },
     "metadata": {},
     "output_type": "display_data"
    }
   ],
   "source": [
    "# Frequency tables for each categorical feature\n",
    "for column in ex.select_dtypes(include=['object']).columns:\n",
    "    display(pd.crosstab(index=ex[column], columns='% observations', normalize='columns')*100)"
   ]
  },
  {
   "cell_type": "markdown",
   "metadata": {},
   "source": [
    "# **<span style='color:blue '>Reduced Customer Groupings</span>**"
   ]
  },
  {
   "cell_type": "markdown",
   "metadata": {},
   "source": [
    "### Hierarchical Clustering (Agglomerative)"
   ]
  },
  {
   "cell_type": "markdown",
   "metadata": {},
   "source": [
    "#### Use MCA plot points"
   ]
  },
  {
   "cell_type": "code",
   "execution_count": 10,
   "metadata": {},
   "outputs": [],
   "source": [
    "# clustering\n",
    "from scipy.cluster.hierarchy import dendrogram, linkage, fcluster\n",
    "\n",
    "# plotting\n",
    "import seaborn as sns\n",
    "from matplotlib import pyplot as plt\n",
    "sns.set_theme(style='dark');"
   ]
  },
  {
   "cell_type": "markdown",
   "metadata": {},
   "source": [
    "#### Example Sample Dataset"
   ]
  },
  {
   "cell_type": "code",
   "execution_count": 11,
   "metadata": {},
   "outputs": [
    {
     "name": "stdout",
     "output_type": "stream",
     "text": [
      "10743\n"
     ]
    }
   ],
   "source": [
    "# ex sample\n",
    "ex_sample = ex.sample(frac=.01, random_state=314)\n",
    "print(len(ex_sample))"
   ]
  },
  {
   "cell_type": "code",
   "execution_count": 12,
   "metadata": {},
   "outputs": [
    {
     "data": {
      "text/html": [
       "<div>\n",
       "<style scoped>\n",
       "    .dataframe tbody tr th:only-of-type {\n",
       "        vertical-align: middle;\n",
       "    }\n",
       "\n",
       "    .dataframe tbody tr th {\n",
       "        vertical-align: top;\n",
       "    }\n",
       "\n",
       "    .dataframe thead th {\n",
       "        text-align: right;\n",
       "    }\n",
       "</style>\n",
       "<table border=\"1\" class=\"dataframe\">\n",
       "  <thead>\n",
       "    <tr style=\"text-align: right;\">\n",
       "      <th></th>\n",
       "      <th>ORD_CHNL_ID</th>\n",
       "      <th>FFMT_CHNL_ID</th>\n",
       "      <th>BUSINESS_GROUP</th>\n",
       "      <th>MCA</th>\n",
       "      <th>CUSTOMER_TYPE_ID</th>\n",
       "      <th>PRODUCT_REVENUE</th>\n",
       "      <th>PROD_REV_bins</th>\n",
       "      <th>PROD_REV_Std</th>\n",
       "      <th>COUNTER_FLAG</th>\n",
       "      <th>SHOWROOM_FLAG</th>\n",
       "      <th>REGION_NAME</th>\n",
       "      <th>LEVEL1</th>\n",
       "      <th>X_MCA_D1</th>\n",
       "      <th>Y_MCA_D2</th>\n",
       "      <th>MCA_GRP_ALL</th>\n",
       "    </tr>\n",
       "    <tr>\n",
       "      <th>locROW</th>\n",
       "      <th></th>\n",
       "      <th></th>\n",
       "      <th></th>\n",
       "      <th></th>\n",
       "      <th></th>\n",
       "      <th></th>\n",
       "      <th></th>\n",
       "      <th></th>\n",
       "      <th></th>\n",
       "      <th></th>\n",
       "      <th></th>\n",
       "      <th></th>\n",
       "      <th></th>\n",
       "      <th></th>\n",
       "      <th></th>\n",
       "    </tr>\n",
       "  </thead>\n",
       "  <tbody>\n",
       "    <tr>\n",
       "      <th>3671792</th>\n",
       "      <td>CTR</td>\n",
       "      <td>PKUP</td>\n",
       "      <td>Waterworks</td>\n",
       "      <td>Multi_RESB_H_W_F_plus</td>\n",
       "      <td>U_UTLTYRES</td>\n",
       "      <td>14.00</td>\n",
       "      <td>5.575 — 37.25</td>\n",
       "      <td>0.166112</td>\n",
       "      <td>Y_COUNTER_FLAG</td>\n",
       "      <td>N_SHOWROOM_FLAG</td>\n",
       "      <td>Waterworks</td>\n",
       "      <td>MRO AND CONSUMABLES</td>\n",
       "      <td>-0.042204</td>\n",
       "      <td>0.617152</td>\n",
       "      <td>GRPB1.1</td>\n",
       "    </tr>\n",
       "    <tr>\n",
       "      <th>797473</th>\n",
       "      <td>SHWRM</td>\n",
       "      <td>EX-DIR</td>\n",
       "      <td>Residential Builder</td>\n",
       "      <td>Multi_RESB_H_W_F_plus</td>\n",
       "      <td>E_ENDUSER</td>\n",
       "      <td>1114.04</td>\n",
       "      <td>715.55 — 2500000</td>\n",
       "      <td>0.166540</td>\n",
       "      <td>Y_COUNTER_FLAG</td>\n",
       "      <td>Y_SHOWROOM_FLAG</td>\n",
       "      <td>Blended West</td>\n",
       "      <td>PLUMBING - FINISHED</td>\n",
       "      <td>-0.045826</td>\n",
       "      <td>1.164083</td>\n",
       "      <td>GRPB1.6</td>\n",
       "    </tr>\n",
       "    <tr>\n",
       "      <th>1268014</th>\n",
       "      <td>CTR</td>\n",
       "      <td>PKUP</td>\n",
       "      <td>HVAC</td>\n",
       "      <td>Multi_RESB_H_W_F_plus</td>\n",
       "      <td>H_HVACRNC</td>\n",
       "      <td>98.60</td>\n",
       "      <td>37.25 — 178.5</td>\n",
       "      <td>0.166145</td>\n",
       "      <td>Y_COUNTER_FLAG</td>\n",
       "      <td>Y_SHOWROOM_FLAG</td>\n",
       "      <td>Blended West</td>\n",
       "      <td>PLUMBING - ROUGH</td>\n",
       "      <td>-0.284433</td>\n",
       "      <td>0.464878</td>\n",
       "      <td>GRPB1.5</td>\n",
       "    </tr>\n",
       "    <tr>\n",
       "      <th>290939</th>\n",
       "      <td>SHWRM</td>\n",
       "      <td>PKUP</td>\n",
       "      <td>Residential Builder</td>\n",
       "      <td>Multi_RESB_H_W_F_plus</td>\n",
       "      <td>B_SGLREMDL</td>\n",
       "      <td>41.58</td>\n",
       "      <td>37.25 — 178.5</td>\n",
       "      <td>0.166123</td>\n",
       "      <td>Y_COUNTER_FLAG</td>\n",
       "      <td>Y_SHOWROOM_FLAG</td>\n",
       "      <td>Blended East</td>\n",
       "      <td>PLUMBING - FINISHED</td>\n",
       "      <td>-0.048376</td>\n",
       "      <td>1.194069</td>\n",
       "      <td>GRPB1.6</td>\n",
       "    </tr>\n",
       "    <tr>\n",
       "      <th>234380</th>\n",
       "      <td>SHWRM</td>\n",
       "      <td>DLVR</td>\n",
       "      <td>Residential Builder</td>\n",
       "      <td>Multi_RESB_H_W_F_plus</td>\n",
       "      <td>B_SGLREMDL</td>\n",
       "      <td>142.16</td>\n",
       "      <td>37.25 — 178.5</td>\n",
       "      <td>0.166162</td>\n",
       "      <td>Y_COUNTER_FLAG</td>\n",
       "      <td>Y_SHOWROOM_FLAG</td>\n",
       "      <td>Blended East</td>\n",
       "      <td>WATER SYSTEMS</td>\n",
       "      <td>-0.048376</td>\n",
       "      <td>1.194069</td>\n",
       "      <td>GRPB1.6</td>\n",
       "    </tr>\n",
       "  </tbody>\n",
       "</table>\n",
       "</div>"
      ],
      "text/plain": [
       "        ORD_CHNL_ID FFMT_CHNL_ID       BUSINESS_GROUP                    MCA  \\\n",
       "locROW                                                                         \n",
       "3671792         CTR         PKUP           Waterworks  Multi_RESB_H_W_F_plus   \n",
       "797473        SHWRM       EX-DIR  Residential Builder  Multi_RESB_H_W_F_plus   \n",
       "1268014         CTR         PKUP                 HVAC  Multi_RESB_H_W_F_plus   \n",
       "290939        SHWRM         PKUP  Residential Builder  Multi_RESB_H_W_F_plus   \n",
       "234380        SHWRM         DLVR  Residential Builder  Multi_RESB_H_W_F_plus   \n",
       "\n",
       "        CUSTOMER_TYPE_ID  PRODUCT_REVENUE     PROD_REV_bins  PROD_REV_Std  \\\n",
       "locROW                                                                      \n",
       "3671792       U_UTLTYRES            14.00     5.575 — 37.25      0.166112   \n",
       "797473         E_ENDUSER          1114.04  715.55 — 2500000      0.166540   \n",
       "1268014        H_HVACRNC            98.60     37.25 — 178.5      0.166145   \n",
       "290939        B_SGLREMDL            41.58     37.25 — 178.5      0.166123   \n",
       "234380        B_SGLREMDL           142.16     37.25 — 178.5      0.166162   \n",
       "\n",
       "           COUNTER_FLAG    SHOWROOM_FLAG   REGION_NAME               LEVEL1  \\\n",
       "locROW                                                                        \n",
       "3671792  Y_COUNTER_FLAG  N_SHOWROOM_FLAG    Waterworks  MRO AND CONSUMABLES   \n",
       "797473   Y_COUNTER_FLAG  Y_SHOWROOM_FLAG  Blended West  PLUMBING - FINISHED   \n",
       "1268014  Y_COUNTER_FLAG  Y_SHOWROOM_FLAG  Blended West     PLUMBING - ROUGH   \n",
       "290939   Y_COUNTER_FLAG  Y_SHOWROOM_FLAG  Blended East  PLUMBING - FINISHED   \n",
       "234380   Y_COUNTER_FLAG  Y_SHOWROOM_FLAG  Blended East        WATER SYSTEMS   \n",
       "\n",
       "         X_MCA_D1  Y_MCA_D2 MCA_GRP_ALL  \n",
       "locROW                                   \n",
       "3671792 -0.042204  0.617152     GRPB1.1  \n",
       "797473  -0.045826  1.164083     GRPB1.6  \n",
       "1268014 -0.284433  0.464878     GRPB1.5  \n",
       "290939  -0.048376  1.194069     GRPB1.6  \n",
       "234380  -0.048376  1.194069     GRPB1.6  "
      ]
     },
     "execution_count": 12,
     "metadata": {},
     "output_type": "execute_result"
    }
   ],
   "source": [
    "ex_sample.head()"
   ]
  },
  {
   "cell_type": "code",
   "execution_count": 13,
   "metadata": {},
   "outputs": [
    {
     "name": "stdout",
     "output_type": "stream",
     "text": [
      "Dimension data: 1074311 rows and 2 columns\n"
     ]
    }
   ],
   "source": [
    "#keep needed columns\n",
    "mca_xy = ex2_raw[['X_MCA_D1', 'Y_MCA_D2']]\n",
    "#dim after drop\n",
    "print('Dimension data: {} rows and {} columns'.format(len(mca_xy), len(mca_xy.columns)))"
   ]
  },
  {
   "cell_type": "markdown",
   "metadata": {},
   "source": [
    "#### MCA Sample"
   ]
  },
  {
   "cell_type": "code",
   "execution_count": 14,
   "metadata": {},
   "outputs": [
    {
     "name": "stdout",
     "output_type": "stream",
     "text": [
      "10743\n"
     ]
    }
   ],
   "source": [
    "# Use the ex sample data set\n",
    "mca_sample = ex_sample[['X_MCA_D1', 'Y_MCA_D2']]\n",
    "print(len(mca_sample))"
   ]
  },
  {
   "cell_type": "markdown",
   "metadata": {},
   "source": [
    "#### Convert data structure"
   ]
  },
  {
   "cell_type": "code",
   "execution_count": 15,
   "metadata": {},
   "outputs": [],
   "source": [
    "#array\n",
    "mca = mca_xy.to_numpy()\n",
    "mca_s = mca_sample.to_numpy()"
   ]
  },
  {
   "cell_type": "markdown",
   "metadata": {},
   "source": [
    "#### Visualize overlay of sample on raw data to visualize fit."
   ]
  },
  {
   "cell_type": "code",
   "execution_count": 16,
   "metadata": {},
   "outputs": [
    {
     "data": {
      "image/png": "[encoded data removed]",
      "text/plain": [
       "<Figure size 600x600 with 1 Axes>"
      ]
     },
     "metadata": {},
     "output_type": "display_data"
    }
   ],
   "source": [
    "# visualize data\n",
    "plt.figure(figsize=(6, 6))\n",
    "sns.scatterplot(x=mca[:, 0], y=mca[:, 1], s=80)\n",
    "sns.scatterplot(x=mca_s[:, 0], y=mca_s[:, 1], s=80);"
   ]
  },
  {
   "cell_type": "markdown",
   "metadata": {},
   "source": [
    "#### Address Z"
   ]
  },
  {
   "cell_type": "code",
   "execution_count": 17,
   "metadata": {},
   "outputs": [],
   "source": [
    "# generate the linkage matrix\n",
    "Z = linkage(mca_s, 'average')"
   ]
  },
  {
   "cell_type": "code",
   "execution_count": 18,
   "metadata": {},
   "outputs": [
    {
     "data": {
      "text/plain": [
       "(10742, 4)"
      ]
     },
     "execution_count": 18,
     "metadata": {},
     "output_type": "execute_result"
    }
   ],
   "source": [
    "Z.shape"
   ]
  },
  {
   "cell_type": "code",
   "execution_count": 19,
   "metadata": {},
   "outputs": [
    {
     "data": {
      "image/png": "[encoded data removed]",
      "text/plain": [
       "<Figure size 2500x1500 with 1 Axes>"
      ]
     },
     "metadata": {},
     "output_type": "display_data"
    }
   ],
   "source": [
    "# plot dendrogram\n",
    "plt.figure(figsize=(25, 15))\n",
    "\n",
    "dendrogram(Z, leaf_rotation=90, leaf_font_size=9)\n",
    "\n",
    "plt.title('Hierarchical Clustering Dendrogram - Average Link', fontsize=14)\n",
    "plt.xlabel('Sample index', fontsize=14)\n",
    "plt.ylabel('Distance', fontsize=14);"
   ]
  },
  {
   "cell_type": "markdown",
   "metadata": {},
   "source": [
    "#### Appropriate Cutoff"
   ]
  },
  {
   "cell_type": "code",
   "execution_count": 20,
   "metadata": {},
   "outputs": [
    {
     "data": {
      "text/plain": [
       "array([[1.48790000e+04, 2.14780000e+04, 1.78316089e-01, 1.75000000e+03],\n",
       "       [2.14770000e+04, 2.14800000e+04, 1.93555901e-01, 2.44000000e+03],\n",
       "       [2.14760000e+04, 2.14790000e+04, 2.41186286e-01, 5.18900000e+03],\n",
       "       [2.14710000e+04, 2.14810000e+04, 3.33712847e-01, 5.55400000e+03],\n",
       "       [2.14820000e+04, 2.14830000e+04, 6.58404294e-01, 1.07430000e+04]])"
      ]
     },
     "execution_count": 20,
     "metadata": {},
     "output_type": "execute_result"
    }
   ],
   "source": [
    "# the last five merges\n",
    "Z[-5:]"
   ]
  },
  {
   "cell_type": "markdown",
   "metadata": {},
   "source": [
    "#### Visualize Truncated Dendrogram"
   ]
  },
  {
   "cell_type": "code",
   "execution_count": 21,
   "metadata": {},
   "outputs": [
    {
     "data": {
      "image/png": "[encoded data removed]",
      "text/plain": [
       "<Figure size 900x600 with 1 Axes>"
      ]
     },
     "metadata": {},
     "output_type": "display_data"
    }
   ],
   "source": [
    "# truncated dendrogram\n",
    "plt.figure(figsize=(9, 6))\n",
    "\n",
    "# set cut-off to 50\n",
    "max_d = .185  # max_d as in max_distance\n",
    "\n",
    "dendrogram(Z, \n",
    "           truncate_mode='lastp',  # show only the last p merged clusters\n",
    "           p=12,  # show only the last p merged clusters\n",
    "           leaf_rotation=90,\n",
    "           leaf_font_size=12)\n",
    "\n",
    "plt.suptitle('Hierarchical Clustering Dendrogram of MCA Customer Groupings', fontsize=16, y=1)\n",
    "plt.title('Distance = Average Link', fontsize=12)\n",
    "plt.xlabel('Sample index or cluster size', fontsize=12)\n",
    "plt.ylabel('Distance', fontsize=12)\n",
    "\n",
    "plt.axhline(y=max_d, color='black', linestyle='--');"
   ]
  },
  {
   "cell_type": "markdown",
   "metadata": {},
   "source": [
    "This cut-off value results in `five` \"main\" customer categories."
   ]
  },
  {
   "cell_type": "code",
   "execution_count": 22,
   "metadata": {},
   "outputs": [
    {
     "data": {
      "text/plain": [
       "array([5, 1, 3, ..., 1, 1, 5], dtype=int32)"
      ]
     },
     "execution_count": 22,
     "metadata": {},
     "output_type": "execute_result"
    }
   ],
   "source": [
    "# retrieve cluster numbers (assignments) based on max_d\n",
    "clusters = fcluster(Z, max_d, criterion='distance')\n",
    "clusters"
   ]
  },
  {
   "cell_type": "code",
   "execution_count": 23,
   "metadata": {},
   "outputs": [
    {
     "data": {
      "text/plain": [
       "array([5, 1, 3, ..., 1, 1, 5], dtype=int32)"
      ]
     },
     "execution_count": 23,
     "metadata": {},
     "output_type": "execute_result"
    }
   ],
   "source": [
    "# alternatively, retrieve cluster numbers (assignments) based on k\n",
    "k = 5\n",
    "fcluster(Z, k, criterion='maxclust')"
   ]
  },
  {
   "cell_type": "code",
   "execution_count": 24,
   "metadata": {},
   "outputs": [
    {
     "name": "stderr",
     "output_type": "stream",
     "text": [
      "c:\\Users\\Ayana\\anaconda3\\envs\\ferg\\lib\\site-packages\\seaborn\\_decorators.py:36: FutureWarning: Pass the following variables as keyword args: x, y. From version 0.12, the only valid positional argument will be `data`, and passing other arguments without an explicit keyword will result in an error or misinterpretation.\n"
     ]
    },
    {
     "data": {
      "image/png": "[encoded data removed]",
      "text/plain": [
       "<Figure size 600x600 with 1 Axes>"
      ]
     },
     "metadata": {},
     "output_type": "display_data"
    }
   ],
   "source": [
    "# visualize clusters\n",
    "plt.figure(figsize=(6, 6))\n",
    "sns.scatterplot(mca_s[:,0], mca_s[:,1], hue=clusters, s=80, legend=True,\n",
    "                palette=['royalblue', 'tomato', 'purple', 'green', 'orange'])\n",
    "\n",
    "plt.suptitle('MCA Final Core Customer Groupings', fontsize=16)\n",
    "plt.xlabel('Sample index or cluster size', fontsize=12)\n",
    "plt.ylabel('Distance', fontsize=12);"
   ]
  },
  {
   "cell_type": "markdown",
   "metadata": {},
   "source": [
    "Collapse CUSTOMER_TYPE_ID into the four groups."
   ]
  },
  {
   "cell_type": "code",
   "execution_count": 25,
   "metadata": {},
   "outputs": [
    {
     "data": {
      "text/plain": [
       "Multi_RESB_H_W_F_plus    10743\n",
       "Name: MCA, dtype: int64"
      ]
     },
     "execution_count": 25,
     "metadata": {},
     "output_type": "execute_result"
    }
   ],
   "source": [
    "def MCAgroups(dat):\n",
    "    if dat in [\"M_COMMPLBG_SML\"]:\n",
    "        return \"Multi_RESB_H_W_F_plus\"\n",
    "    elif dat in [\"P_IRRAG\", \"P_SEPTIC\"]:\n",
    "        return \"Nearest_RES_TRADE\"\n",
    "    elif dat in [\"S_ENGINEERS\"]:\n",
    "        return \"Nearest_COMMERCIAL\"\n",
    "    else:\n",
    "        return dat\n",
    "\n",
    "ex_sample['MCA'] = ex_sample['MCA'].apply(MCAgroups)\n",
    "ex_sample['MCA'].value_counts(sort=True)"
   ]
  },
  {
   "cell_type": "markdown",
   "metadata": {},
   "source": [
    "## ASSESS OPTIMAL CLUSTERS (*k*) - **<span style='color:blue '>ELBOW METHOD</span>**"
   ]
  },
  {
   "cell_type": "markdown",
   "metadata": {},
   "source": [
    "Sanity check"
   ]
  },
  {
   "cell_type": "code",
   "execution_count": 26,
   "metadata": {},
   "outputs": [
    {
     "data": {
      "text/plain": [
       "ORD_CHNL_ID          object\n",
       "FFMT_CHNL_ID         object\n",
       "BUSINESS_GROUP       object\n",
       "MCA                  object\n",
       "CUSTOMER_TYPE_ID     object\n",
       "PRODUCT_REVENUE     float64\n",
       "PROD_REV_bins        object\n",
       "PROD_REV_Std        float64\n",
       "COUNTER_FLAG         object\n",
       "SHOWROOM_FLAG        object\n",
       "REGION_NAME          object\n",
       "LEVEL1               object\n",
       "X_MCA_D1            float64\n",
       "Y_MCA_D2            float64\n",
       "MCA_GRP_ALL          object\n",
       "dtype: object"
      ]
     },
     "execution_count": 26,
     "metadata": {},
     "output_type": "execute_result"
    }
   ],
   "source": [
    "ex_sample.dtypes"
   ]
  },
  {
   "cell_type": "code",
   "execution_count": 27,
   "metadata": {},
   "outputs": [
    {
     "name": "stdout",
     "output_type": "stream",
     "text": [
      "Dimension data: 10743 rows and 8 columns\n"
     ]
    },
    {
     "data": {
      "text/html": [
       "<div>\n",
       "<style scoped>\n",
       "    .dataframe tbody tr th:only-of-type {\n",
       "        vertical-align: middle;\n",
       "    }\n",
       "\n",
       "    .dataframe tbody tr th {\n",
       "        vertical-align: top;\n",
       "    }\n",
       "\n",
       "    .dataframe thead th {\n",
       "        text-align: right;\n",
       "    }\n",
       "</style>\n",
       "<table border=\"1\" class=\"dataframe\">\n",
       "  <thead>\n",
       "    <tr style=\"text-align: right;\">\n",
       "      <th></th>\n",
       "      <th>ORD_CHNL_ID</th>\n",
       "      <th>FFMT_CHNL_ID</th>\n",
       "      <th>BUSINESS_GROUP</th>\n",
       "      <th>PRODUCT_REVENUE</th>\n",
       "      <th>COUNTER_FLAG</th>\n",
       "      <th>SHOWROOM_FLAG</th>\n",
       "      <th>REGION_NAME</th>\n",
       "      <th>LEVEL1</th>\n",
       "    </tr>\n",
       "    <tr>\n",
       "      <th>locROW</th>\n",
       "      <th></th>\n",
       "      <th></th>\n",
       "      <th></th>\n",
       "      <th></th>\n",
       "      <th></th>\n",
       "      <th></th>\n",
       "      <th></th>\n",
       "      <th></th>\n",
       "    </tr>\n",
       "  </thead>\n",
       "  <tbody>\n",
       "    <tr>\n",
       "      <th>3671792</th>\n",
       "      <td>CTR</td>\n",
       "      <td>PKUP</td>\n",
       "      <td>Waterworks</td>\n",
       "      <td>14.00</td>\n",
       "      <td>Y_COUNTER_FLAG</td>\n",
       "      <td>N_SHOWROOM_FLAG</td>\n",
       "      <td>Waterworks</td>\n",
       "      <td>MRO AND CONSUMABLES</td>\n",
       "    </tr>\n",
       "    <tr>\n",
       "      <th>797473</th>\n",
       "      <td>SHWRM</td>\n",
       "      <td>EX-DIR</td>\n",
       "      <td>Residential Builder</td>\n",
       "      <td>1114.04</td>\n",
       "      <td>Y_COUNTER_FLAG</td>\n",
       "      <td>Y_SHOWROOM_FLAG</td>\n",
       "      <td>Blended West</td>\n",
       "      <td>PLUMBING - FINISHED</td>\n",
       "    </tr>\n",
       "    <tr>\n",
       "      <th>1268014</th>\n",
       "      <td>CTR</td>\n",
       "      <td>PKUP</td>\n",
       "      <td>HVAC</td>\n",
       "      <td>98.60</td>\n",
       "      <td>Y_COUNTER_FLAG</td>\n",
       "      <td>Y_SHOWROOM_FLAG</td>\n",
       "      <td>Blended West</td>\n",
       "      <td>PLUMBING - ROUGH</td>\n",
       "    </tr>\n",
       "    <tr>\n",
       "      <th>290939</th>\n",
       "      <td>SHWRM</td>\n",
       "      <td>PKUP</td>\n",
       "      <td>Residential Builder</td>\n",
       "      <td>41.58</td>\n",
       "      <td>Y_COUNTER_FLAG</td>\n",
       "      <td>Y_SHOWROOM_FLAG</td>\n",
       "      <td>Blended East</td>\n",
       "      <td>PLUMBING - FINISHED</td>\n",
       "    </tr>\n",
       "    <tr>\n",
       "      <th>234380</th>\n",
       "      <td>SHWRM</td>\n",
       "      <td>DLVR</td>\n",
       "      <td>Residential Builder</td>\n",
       "      <td>142.16</td>\n",
       "      <td>Y_COUNTER_FLAG</td>\n",
       "      <td>Y_SHOWROOM_FLAG</td>\n",
       "      <td>Blended East</td>\n",
       "      <td>WATER SYSTEMS</td>\n",
       "    </tr>\n",
       "    <tr>\n",
       "      <th>1378000</th>\n",
       "      <td>TRDL</td>\n",
       "      <td>DLVR</td>\n",
       "      <td>Industrial</td>\n",
       "      <td>1565.25</td>\n",
       "      <td>N_COUNTER_FLAG</td>\n",
       "      <td>N_SHOWROOM_FLAG</td>\n",
       "      <td>Blended Central</td>\n",
       "      <td>PIPE, VALVES AND FITTINGS</td>\n",
       "    </tr>\n",
       "    <tr>\n",
       "      <th>3683129</th>\n",
       "      <td>TRDL</td>\n",
       "      <td>DLVR</td>\n",
       "      <td>Waterworks</td>\n",
       "      <td>20.96</td>\n",
       "      <td>Y_COUNTER_FLAG</td>\n",
       "      <td>N_SHOWROOM_FLAG</td>\n",
       "      <td>Waterworks</td>\n",
       "      <td>PIPE, VALVES AND FITTINGS</td>\n",
       "    </tr>\n",
       "    <tr>\n",
       "      <th>1180201</th>\n",
       "      <td>TRDL</td>\n",
       "      <td>DLVR</td>\n",
       "      <td>HVAC</td>\n",
       "      <td>153.15</td>\n",
       "      <td>Y_COUNTER_FLAG</td>\n",
       "      <td>N_SHOWROOM_FLAG</td>\n",
       "      <td>Blended East</td>\n",
       "      <td>HEATING, VENTILATION AND AIR CONDITIONING</td>\n",
       "    </tr>\n",
       "    <tr>\n",
       "      <th>3649243</th>\n",
       "      <td>TRDL</td>\n",
       "      <td>IN-DIR</td>\n",
       "      <td>Waterworks</td>\n",
       "      <td>2745.32</td>\n",
       "      <td>Y_COUNTER_FLAG</td>\n",
       "      <td>N_SHOWROOM_FLAG</td>\n",
       "      <td>Waterworks</td>\n",
       "      <td>WATER WORKS</td>\n",
       "    </tr>\n",
       "    <tr>\n",
       "      <th>1129039</th>\n",
       "      <td>CTR</td>\n",
       "      <td>PKUP</td>\n",
       "      <td>HVAC</td>\n",
       "      <td>23.85</td>\n",
       "      <td>Y_COUNTER_FLAG</td>\n",
       "      <td>N_SHOWROOM_FLAG</td>\n",
       "      <td>Blended East</td>\n",
       "      <td>HEATING, VENTILATION AND AIR CONDITIONING</td>\n",
       "    </tr>\n",
       "  </tbody>\n",
       "</table>\n",
       "</div>"
      ],
      "text/plain": [
       "        ORD_CHNL_ID FFMT_CHNL_ID       BUSINESS_GROUP  PRODUCT_REVENUE  \\\n",
       "locROW                                                                   \n",
       "3671792         CTR         PKUP           Waterworks            14.00   \n",
       "797473        SHWRM       EX-DIR  Residential Builder          1114.04   \n",
       "1268014         CTR         PKUP                 HVAC            98.60   \n",
       "290939        SHWRM         PKUP  Residential Builder            41.58   \n",
       "234380        SHWRM         DLVR  Residential Builder           142.16   \n",
       "1378000        TRDL         DLVR           Industrial          1565.25   \n",
       "3683129        TRDL         DLVR           Waterworks            20.96   \n",
       "1180201        TRDL         DLVR                 HVAC           153.15   \n",
       "3649243        TRDL       IN-DIR           Waterworks          2745.32   \n",
       "1129039         CTR         PKUP                 HVAC            23.85   \n",
       "\n",
       "           COUNTER_FLAG    SHOWROOM_FLAG      REGION_NAME  \\\n",
       "locROW                                                      \n",
       "3671792  Y_COUNTER_FLAG  N_SHOWROOM_FLAG       Waterworks   \n",
       "797473   Y_COUNTER_FLAG  Y_SHOWROOM_FLAG     Blended West   \n",
       "1268014  Y_COUNTER_FLAG  Y_SHOWROOM_FLAG     Blended West   \n",
       "290939   Y_COUNTER_FLAG  Y_SHOWROOM_FLAG     Blended East   \n",
       "234380   Y_COUNTER_FLAG  Y_SHOWROOM_FLAG     Blended East   \n",
       "1378000  N_COUNTER_FLAG  N_SHOWROOM_FLAG  Blended Central   \n",
       "3683129  Y_COUNTER_FLAG  N_SHOWROOM_FLAG       Waterworks   \n",
       "1180201  Y_COUNTER_FLAG  N_SHOWROOM_FLAG     Blended East   \n",
       "3649243  Y_COUNTER_FLAG  N_SHOWROOM_FLAG       Waterworks   \n",
       "1129039  Y_COUNTER_FLAG  N_SHOWROOM_FLAG     Blended East   \n",
       "\n",
       "                                            LEVEL1  \n",
       "locROW                                              \n",
       "3671792                        MRO AND CONSUMABLES  \n",
       "797473                         PLUMBING - FINISHED  \n",
       "1268014                           PLUMBING - ROUGH  \n",
       "290939                         PLUMBING - FINISHED  \n",
       "234380                               WATER SYSTEMS  \n",
       "1378000                  PIPE, VALVES AND FITTINGS  \n",
       "3683129                  PIPE, VALVES AND FITTINGS  \n",
       "1180201  HEATING, VENTILATION AND AIR CONDITIONING  \n",
       "3649243                                WATER WORKS  \n",
       "1129039  HEATING, VENTILATION AND AIR CONDITIONING  "
      ]
     },
     "execution_count": 27,
     "metadata": {},
     "output_type": "execute_result"
    }
   ],
   "source": [
    "#drop uneeded variables\n",
    "dat = ex_sample\n",
    "dat.drop(['CUSTOMER_TYPE_ID', 'PROD_REV_bins', 'PROD_REV_Std', \n",
    "          'X_MCA_D1', 'Y_MCA_D2', 'MCA_GRP_ALL', 'MCA'],\n",
    "                axis = 1, inplace = True)\n",
    "#dim after drop\n",
    "print('Dimension data: {} rows and {} columns'.format(len(dat), len(dat.columns)))\n",
    "dat.head(10)"
   ]
  },
  {
   "cell_type": "code",
   "execution_count": 28,
   "metadata": {},
   "outputs": [
    {
     "data": {
      "text/plain": [
       "ORD_CHNL_ID        0\n",
       "FFMT_CHNL_ID       0\n",
       "BUSINESS_GROUP     0\n",
       "PRODUCT_REVENUE    0\n",
       "COUNTER_FLAG       0\n",
       "SHOWROOM_FLAG      0\n",
       "REGION_NAME        0\n",
       "LEVEL1             0\n",
       "dtype: int64"
      ]
     },
     "execution_count": 28,
     "metadata": {},
     "output_type": "execute_result"
    }
   ],
   "source": [
    "# Check missing value\n",
    "dat.isna().sum()"
   ]
  },
  {
   "cell_type": "markdown",
   "metadata": {},
   "source": [
    "### Categorical Columns"
   ]
  },
  {
   "cell_type": "code",
   "execution_count": 29,
   "metadata": {},
   "outputs": [
    {
     "name": "stdout",
     "output_type": "stream",
     "text": [
      "Categorical columns           : ['ORD_CHNL_ID', 'FFMT_CHNL_ID', 'BUSINESS_GROUP', 'COUNTER_FLAG', 'SHOWROOM_FLAG', 'REGION_NAME', 'LEVEL1']\n",
      "Categorical columns position  : [0, 1, 2, 4, 5, 6, 7]\n"
     ]
    }
   ],
   "source": [
    "#position of categorical columns\n",
    "cat_cols = [dat.columns.get_loc(col) for col in list(dat.select_dtypes('object').columns)]\n",
    "print('Categorical columns           : {}'.format(list(dat.select_dtypes('object').columns)))\n",
    "print('Categorical columns position  : {}'.format(cat_cols))"
   ]
  },
  {
   "cell_type": "markdown",
   "metadata": {},
   "source": [
    "### Required Dataframe Matrix"
   ]
  },
  {
   "cell_type": "code",
   "execution_count": 30,
   "metadata": {},
   "outputs": [
    {
     "data": {
      "text/plain": [
       "array([['CTR', 'PKUP', 'Waterworks', ..., 'N_SHOWROOM_FLAG',\n",
       "        'Waterworks', 'MRO AND CONSUMABLES'],\n",
       "       ['SHWRM', 'EX-DIR', 'Residential Builder', ..., 'Y_SHOWROOM_FLAG',\n",
       "        'Blended West', 'PLUMBING - FINISHED'],\n",
       "       ['CTR', 'PKUP', 'HVAC', ..., 'Y_SHOWROOM_FLAG', 'Blended West',\n",
       "        'PLUMBING - ROUGH'],\n",
       "       ...,\n",
       "       ['SHWRM', 'DLVR', 'Residential Builder', ..., 'Y_SHOWROOM_FLAG',\n",
       "        'Blended East', 'BUILDER'],\n",
       "       ['CTR', 'PKUP', 'Residential Builder', ..., 'N_SHOWROOM_FLAG',\n",
       "        'Blended Central', 'PLUMBING - ROUGH'],\n",
       "       ['TRDL', 'DLVR', 'Waterworks', ..., 'N_SHOWROOM_FLAG',\n",
       "        'Waterworks', 'PIPE, VALVES AND FITTINGS']], dtype=object)"
      ]
     },
     "execution_count": 30,
     "metadata": {},
     "output_type": "execute_result"
    }
   ],
   "source": [
    "# Convert dataframe to matrix for required structure\n",
    "OpK_matrix = dat.to_numpy()\n",
    "OpK_matrix"
   ]
  },
  {
   "cell_type": "code",
   "execution_count": 31,
   "metadata": {},
   "outputs": [
    {
     "name": "stdout",
     "output_type": "stream",
     "text": [
      "Cluster initiation: 2\n",
      "Cluster initiation: 3\n",
      "Cluster initiation: 4\n",
      "Cluster initiation: 5\n",
      "Cluster initiation: 6\n",
      "Cluster initiation: 7\n"
     ]
    }
   ],
   "source": [
    "# Choose optimal K using Elbow method\n",
    "ad = []\n",
    "for cluster in range(2, 13):\n",
    "    try:\n",
    "        kprototype = KPrototypes(n_jobs = 1, n_clusters = cluster, init = 'Huang', random_state = 314)\n",
    "        kprototype.fit_predict(OpK_matrix, categorical = cat_cols)\n",
    "        ad.append(kprototype.cost_)\n",
    "        print('Cluster initiation: {}'.format(cluster))\n",
    "    except:\n",
    "        break"
   ]
  },
  {
   "cell_type": "code",
   "execution_count": 32,
   "metadata": {},
   "outputs": [
    {
     "name": "stdout",
     "output_type": "stream",
     "text": [
      "    Cluster          WSSE\n",
      "0       1.0  4.588478e+11\n",
      "1       2.0  2.123193e+11\n",
      "2       3.0  1.603778e+11\n",
      "3       4.0  1.307120e+11\n",
      "4       5.0  1.145947e+11\n",
      "5       6.0  1.063092e+11\n",
      "6       7.0           NaN\n",
      "7       8.0           NaN\n",
      "8       9.0           NaN\n",
      "9      10.0           NaN\n",
      "10     11.0           NaN\n",
      "11     12.0           NaN\n"
     ]
    }
   ],
   "source": [
    "# Converting the results into a dataframe and plotting them\n",
    "a = {'Cluster': range(1, 13), 'WSSE': ad}\n",
    "dat = pd.DataFrame.from_dict(a, orient='index')\n",
    "dat_ad = dat.transpose()\n",
    "print(dat_ad)"
   ]
  },
  {
   "cell_type": "markdown",
   "metadata": {},
   "source": [
    "### Visualize"
   ]
  },
  {
   "cell_type": "code",
   "execution_count": 33,
   "metadata": {},
   "outputs": [
    {
     "name": "stderr",
     "output_type": "stream",
     "text": [
      "c:\\Users\\Ayana\\anaconda3\\envs\\ferg\\lib\\site-packages\\plotnine\\geoms\\geom_path.py:75: PlotnineWarning: geom_path: Removed 6 rows containing missing values.\n",
      "c:\\Users\\Ayana\\anaconda3\\envs\\ferg\\lib\\site-packages\\plotnine\\layer.py:412: PlotnineWarning: geom_point : Removed 6 rows containing missing values.\n",
      "c:\\Users\\Ayana\\anaconda3\\envs\\ferg\\lib\\site-packages\\plotnine\\layer.py:412: PlotnineWarning: geom_label : Removed 6 rows containing missing values.\n"
     ]
    },
    {
     "data": {
      "image/png": "[encoded data removed]",
      "text/plain": [
       "<Figure size 900x500 with 1 Axes>"
      ]
     },
     "metadata": {
      "needs_background": "light"
     },
     "output_type": "display_data"
    },
    {
     "data": {
      "text/plain": [
       "<ggplot: (102408199431)>"
      ]
     },
     "execution_count": 33,
     "metadata": {},
     "output_type": "execute_result"
    }
   ],
   "source": [
    "# Data viz\n",
    "plotnine.options.figure_size = (9, 5)\n",
    "(   \n",
    "    ggplot(data = dat_ad)+\n",
    "    geom_line(aes(x = 'Cluster',\n",
    "                  y = 'WSSE'))+\n",
    "    geom_point(aes(x = 'Cluster',\n",
    "                   y = 'WSSE'))+\n",
    "    geom_label(aes(x = 'Cluster',\n",
    "                   y = 'WSSE',\n",
    "                   label = 'Cluster'),\n",
    "               size = 10,\n",
    "               nudge_y = 1000) +\n",
    "    labs(title = 'Optimal Number of Clusters with Elbow Method')+\n",
    "    xlab('Number of Clusters (k)')+\n",
    "    ylab('Average Dispersion')+\n",
    "    theme_minimal()\n",
    ")"
   ]
  },
  {
   "cell_type": "markdown",
   "metadata": {},
   "source": [
    "Using the `elbow method` and appropriate cutoff for k is 2 clusters for a k-prototype model. The dendrogram supports this as well."
   ]
  },
  {
   "cell_type": "code",
   "execution_count": 34,
   "metadata": {},
   "outputs": [
    {
     "data": {
      "text/plain": [
       "array([1, 1, 1, ..., 1, 1, 1], dtype=uint16)"
      ]
     },
     "execution_count": 34,
     "metadata": {},
     "output_type": "execute_result"
    }
   ],
   "source": [
    "# Fit the clusters\n",
    "kprototype = KPrototypes(n_jobs = -1, n_clusters = 3, init = 'Huang', random_state = 314)\n",
    "kprototype.fit_predict(OpK_matrix, categorical = cat_cols)"
   ]
  },
  {
   "cell_type": "code",
   "execution_count": 35,
   "metadata": {},
   "outputs": [
    {
     "data": {
      "text/plain": [
       "212319289019.03766"
      ]
     },
     "execution_count": 35,
     "metadata": {},
     "output_type": "execute_result"
    }
   ],
   "source": [
    "# Cluster centorid\n",
    "kprototype.cluster_centroids_\n",
    "# Check the iteration of the clusters created\n",
    "kprototype.n_iter_\n",
    "# Check the cost of the clusters created\n",
    "kprototype.cost_"
   ]
  },
  {
   "cell_type": "code",
   "execution_count": 36,
   "metadata": {},
   "outputs": [],
   "source": [
    "# Add the cluster to the dataframe\n",
    "ex_sample['Cluster Labels'] = kprototype.labels_\n",
    "ex_sample['Segment'] = ex_sample['Cluster Labels'].map({0:'First', 1:'Second', 2:'Third'})\n",
    "# Order the cluster\n",
    "ex_sample['Segment'] = ex_sample['Segment'].astype('category')\n",
    "ex_sample['Segment'] = ex_sample['Segment'].cat.reorder_categories(['First','Second', 'Third'])"
   ]
  },
  {
   "cell_type": "code",
   "execution_count": 37,
   "metadata": {},
   "outputs": [
    {
     "data": {
      "text/html": [
       "<div>\n",
       "<style scoped>\n",
       "    .dataframe tbody tr th:only-of-type {\n",
       "        vertical-align: middle;\n",
       "    }\n",
       "\n",
       "    .dataframe tbody tr th {\n",
       "        vertical-align: top;\n",
       "    }\n",
       "\n",
       "    .dataframe thead th {\n",
       "        text-align: right;\n",
       "    }\n",
       "</style>\n",
       "<table border=\"1\" class=\"dataframe\">\n",
       "  <thead>\n",
       "    <tr style=\"text-align: right;\">\n",
       "      <th></th>\n",
       "      <th>ORD_CHNL_ID</th>\n",
       "      <th>FFMT_CHNL_ID</th>\n",
       "      <th>BUSINESS_GROUP</th>\n",
       "      <th>PRODUCT_REVENUE</th>\n",
       "      <th>COUNTER_FLAG</th>\n",
       "      <th>SHOWROOM_FLAG</th>\n",
       "      <th>REGION_NAME</th>\n",
       "      <th>LEVEL1</th>\n",
       "      <th>Cluster Labels</th>\n",
       "      <th>Segment</th>\n",
       "    </tr>\n",
       "    <tr>\n",
       "      <th>locROW</th>\n",
       "      <th></th>\n",
       "      <th></th>\n",
       "      <th></th>\n",
       "      <th></th>\n",
       "      <th></th>\n",
       "      <th></th>\n",
       "      <th></th>\n",
       "      <th></th>\n",
       "      <th></th>\n",
       "      <th></th>\n",
       "    </tr>\n",
       "  </thead>\n",
       "  <tbody>\n",
       "    <tr>\n",
       "      <th>3671792</th>\n",
       "      <td>CTR</td>\n",
       "      <td>PKUP</td>\n",
       "      <td>Waterworks</td>\n",
       "      <td>14.00</td>\n",
       "      <td>Y_COUNTER_FLAG</td>\n",
       "      <td>N_SHOWROOM_FLAG</td>\n",
       "      <td>Waterworks</td>\n",
       "      <td>MRO AND CONSUMABLES</td>\n",
       "      <td>1</td>\n",
       "      <td>Second</td>\n",
       "    </tr>\n",
       "    <tr>\n",
       "      <th>797473</th>\n",
       "      <td>SHWRM</td>\n",
       "      <td>EX-DIR</td>\n",
       "      <td>Residential Builder</td>\n",
       "      <td>1114.04</td>\n",
       "      <td>Y_COUNTER_FLAG</td>\n",
       "      <td>Y_SHOWROOM_FLAG</td>\n",
       "      <td>Blended West</td>\n",
       "      <td>PLUMBING - FINISHED</td>\n",
       "      <td>1</td>\n",
       "      <td>Second</td>\n",
       "    </tr>\n",
       "    <tr>\n",
       "      <th>1268014</th>\n",
       "      <td>CTR</td>\n",
       "      <td>PKUP</td>\n",
       "      <td>HVAC</td>\n",
       "      <td>98.60</td>\n",
       "      <td>Y_COUNTER_FLAG</td>\n",
       "      <td>Y_SHOWROOM_FLAG</td>\n",
       "      <td>Blended West</td>\n",
       "      <td>PLUMBING - ROUGH</td>\n",
       "      <td>1</td>\n",
       "      <td>Second</td>\n",
       "    </tr>\n",
       "    <tr>\n",
       "      <th>290939</th>\n",
       "      <td>SHWRM</td>\n",
       "      <td>PKUP</td>\n",
       "      <td>Residential Builder</td>\n",
       "      <td>41.58</td>\n",
       "      <td>Y_COUNTER_FLAG</td>\n",
       "      <td>Y_SHOWROOM_FLAG</td>\n",
       "      <td>Blended East</td>\n",
       "      <td>PLUMBING - FINISHED</td>\n",
       "      <td>1</td>\n",
       "      <td>Second</td>\n",
       "    </tr>\n",
       "    <tr>\n",
       "      <th>234380</th>\n",
       "      <td>SHWRM</td>\n",
       "      <td>DLVR</td>\n",
       "      <td>Residential Builder</td>\n",
       "      <td>142.16</td>\n",
       "      <td>Y_COUNTER_FLAG</td>\n",
       "      <td>Y_SHOWROOM_FLAG</td>\n",
       "      <td>Blended East</td>\n",
       "      <td>WATER SYSTEMS</td>\n",
       "      <td>1</td>\n",
       "      <td>Second</td>\n",
       "    </tr>\n",
       "  </tbody>\n",
       "</table>\n",
       "</div>"
      ],
      "text/plain": [
       "        ORD_CHNL_ID FFMT_CHNL_ID       BUSINESS_GROUP  PRODUCT_REVENUE  \\\n",
       "locROW                                                                   \n",
       "3671792         CTR         PKUP           Waterworks            14.00   \n",
       "797473        SHWRM       EX-DIR  Residential Builder          1114.04   \n",
       "1268014         CTR         PKUP                 HVAC            98.60   \n",
       "290939        SHWRM         PKUP  Residential Builder            41.58   \n",
       "234380        SHWRM         DLVR  Residential Builder           142.16   \n",
       "\n",
       "           COUNTER_FLAG    SHOWROOM_FLAG   REGION_NAME               LEVEL1  \\\n",
       "locROW                                                                        \n",
       "3671792  Y_COUNTER_FLAG  N_SHOWROOM_FLAG    Waterworks  MRO AND CONSUMABLES   \n",
       "797473   Y_COUNTER_FLAG  Y_SHOWROOM_FLAG  Blended West  PLUMBING - FINISHED   \n",
       "1268014  Y_COUNTER_FLAG  Y_SHOWROOM_FLAG  Blended West     PLUMBING - ROUGH   \n",
       "290939   Y_COUNTER_FLAG  Y_SHOWROOM_FLAG  Blended East  PLUMBING - FINISHED   \n",
       "234380   Y_COUNTER_FLAG  Y_SHOWROOM_FLAG  Blended East        WATER SYSTEMS   \n",
       "\n",
       "         Cluster Labels Segment  \n",
       "locROW                           \n",
       "3671792               1  Second  \n",
       "797473                1  Second  \n",
       "1268014               1  Second  \n",
       "290939                1  Second  \n",
       "234380                1  Second  "
      ]
     },
     "execution_count": 37,
     "metadata": {},
     "output_type": "execute_result"
    }
   ],
   "source": [
    "ex_sample.head()"
   ]
  },
  {
   "cell_type": "code",
   "execution_count": 38,
   "metadata": {},
   "outputs": [
    {
     "data": {
      "text/plain": [
       "ORD_CHNL_ID          object\n",
       "FFMT_CHNL_ID         object\n",
       "BUSINESS_GROUP       object\n",
       "PRODUCT_REVENUE     float64\n",
       "COUNTER_FLAG         object\n",
       "SHOWROOM_FLAG        object\n",
       "REGION_NAME          object\n",
       "LEVEL1               object\n",
       "Cluster Labels       uint16\n",
       "Segment            category\n",
       "dtype: object"
      ]
     },
     "execution_count": 38,
     "metadata": {},
     "output_type": "execute_result"
    }
   ],
   "source": [
    "ex_sample.dtypes"
   ]
  },
  {
   "cell_type": "code",
   "execution_count": 39,
   "metadata": {},
   "outputs": [
    {
     "data": {
      "text/html": [
       "<div>\n",
       "<style scoped>\n",
       "    .dataframe tbody tr th:only-of-type {\n",
       "        vertical-align: middle;\n",
       "    }\n",
       "\n",
       "    .dataframe tbody tr th {\n",
       "        vertical-align: top;\n",
       "    }\n",
       "\n",
       "    .dataframe thead th {\n",
       "        text-align: right;\n",
       "    }\n",
       "</style>\n",
       "<table border=\"1\" class=\"dataframe\">\n",
       "  <thead>\n",
       "    <tr style=\"text-align: right;\">\n",
       "      <th></th>\n",
       "      <th>Segment</th>\n",
       "      <th>Total</th>\n",
       "      <th>ORD_CHNL_ID</th>\n",
       "      <th>FFMT_CHNL_ID</th>\n",
       "      <th>LEVEL1</th>\n",
       "      <th>BUSINESS_GROUP</th>\n",
       "      <th>COUNTER_FLAG</th>\n",
       "      <th>SHOWROOM_FLAG</th>\n",
       "      <th>REGION_NAME</th>\n",
       "      <th>PRODUCT_REVENUE</th>\n",
       "    </tr>\n",
       "  </thead>\n",
       "  <tbody>\n",
       "    <tr>\n",
       "      <th>0</th>\n",
       "      <td>First</td>\n",
       "      <td>13</td>\n",
       "      <td>TRDL</td>\n",
       "      <td>EX-DIR</td>\n",
       "      <td>PIPE, VALVES AND FITTINGS</td>\n",
       "      <td>Waterworks</td>\n",
       "      <td>Y_COUNTER_FLAG</td>\n",
       "      <td>N_SHOWROOM_FLAG</td>\n",
       "      <td>Waterworks</td>\n",
       "      <td>121493.830</td>\n",
       "    </tr>\n",
       "    <tr>\n",
       "      <th>1</th>\n",
       "      <td>Second</td>\n",
       "      <td>10728</td>\n",
       "      <td>CTR</td>\n",
       "      <td>PKUP</td>\n",
       "      <td>PIPE, VALVES AND FITTINGS</td>\n",
       "      <td>Residential Builder</td>\n",
       "      <td>Y_COUNTER_FLAG</td>\n",
       "      <td>N_SHOWROOM_FLAG</td>\n",
       "      <td>Blended East</td>\n",
       "      <td>110.000</td>\n",
       "    </tr>\n",
       "    <tr>\n",
       "      <th>2</th>\n",
       "      <td>Third</td>\n",
       "      <td>2</td>\n",
       "      <td>ECOMM</td>\n",
       "      <td>DLVR</td>\n",
       "      <td>BUILDER</td>\n",
       "      <td>Other</td>\n",
       "      <td>N_COUNTER_FLAG</td>\n",
       "      <td>N_SHOWROOM_FLAG</td>\n",
       "      <td>Ebusiness</td>\n",
       "      <td>612482.235</td>\n",
       "    </tr>\n",
       "  </tbody>\n",
       "</table>\n",
       "</div>"
      ],
      "text/plain": [
       "  Segment  Total ORD_CHNL_ID FFMT_CHNL_ID                     LEVEL1  \\\n",
       "0   First     13        TRDL       EX-DIR  PIPE, VALVES AND FITTINGS   \n",
       "1  Second  10728         CTR         PKUP  PIPE, VALVES AND FITTINGS   \n",
       "2   Third      2       ECOMM         DLVR                    BUILDER   \n",
       "\n",
       "        BUSINESS_GROUP    COUNTER_FLAG    SHOWROOM_FLAG   REGION_NAME  \\\n",
       "0           Waterworks  Y_COUNTER_FLAG  N_SHOWROOM_FLAG    Waterworks   \n",
       "1  Residential Builder  Y_COUNTER_FLAG  N_SHOWROOM_FLAG  Blended East   \n",
       "2                Other  N_COUNTER_FLAG  N_SHOWROOM_FLAG     Ebusiness   \n",
       "\n",
       "   PRODUCT_REVENUE  \n",
       "0       121493.830  \n",
       "1          110.000  \n",
       "2       612482.235  "
      ]
     },
     "execution_count": 39,
     "metadata": {},
     "output_type": "execute_result"
    }
   ],
   "source": [
    "interpret = ex_sample\n",
    "\n",
    "# Cluster interpretation\n",
    "interpret.rename(columns = {'Cluster Labels':'Total'}, inplace = True)\n",
    "interpret.groupby('Segment').agg(\n",
    "    {\n",
    "        'Total':'count',\n",
    "        'ORD_CHNL_ID': lambda x: x.value_counts().index[0],\n",
    "        'FFMT_CHNL_ID': lambda x: x.value_counts().index[0],\n",
    "        'LEVEL1': lambda x: x.value_counts().index[0],\n",
    "        'BUSINESS_GROUP': lambda x: x.value_counts().index[0],\n",
    "        'COUNTER_FLAG': lambda x: x.value_counts().index[0],\n",
    "        'SHOWROOM_FLAG': lambda x: x.value_counts().index[0],\n",
    "        'REGION_NAME': lambda x: x.value_counts().index[0],\n",
    "        'PRODUCT_REVENUE': 'median'\n",
    "    }\n",
    ").reset_index()"
   ]
  },
  {
   "cell_type": "markdown",
   "metadata": {},
   "source": [
    "The analysis thus far has proven that Example has done an overall great job in grouping customers at the business group level. We have introduced subcategories that can be used in lieu of business group.  \n",
    "Exploring possible clusters within groups is also of interest. "
   ]
  }
 ],
 "metadata": {
  "kernelspec": {
   "display_name": "Python 3.9.13 ('ferg')",
   "language": "python",
   "name": "python3"
  },
  "language_info": {
   "codemirror_mode": {
    "name": "ipython",
    "version": 3
   },
   "file_extension": ".py",
   "mimetype": "text/x-python",
   "name": "python",
   "nbconvert_exporter": "python",
   "pygments_lexer": "ipython3",
   "version": "3.9.13"
  },
  "orig_nbformat": 4,
  "vscode": {
   "interpreter": {
    "hash": "255c0eaa8f3a5cc933d51558edda6f0d038abf50a3e5a605f0ebd65ce14b6b3c"
   }
  }
 },
 "nbformat": 4,
 "nbformat_minor": 2
}
