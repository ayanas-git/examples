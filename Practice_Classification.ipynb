{
 "cells": [
  {
   "cell_type": "markdown",
   "metadata": {},
   "source": [
    "## Practice\n",
    "\n",
    "Author: Ayana Andrews-Joseph"
   ]
  },
  {
   "cell_type": "markdown",
   "metadata": {},
   "source": [
    "### Import Packages"
   ]
  },
  {
   "cell_type": "code",
   "execution_count": 2,
   "metadata": {},
   "outputs": [],
   "source": [
    "# data processing\n",
    "import pandas as pd\n",
    "import numpy as np\n",
    "\n",
    "# plotting\n",
    "import matplotlib.pyplot as plt\n",
    "import seaborn as sns\n",
    "\n",
    "# modeling\n",
    "from sklearn.ensemble import RandomForestClassifier, GradientBoostingClassifier\n",
    "from sklearn.linear_model import LinearRegression\n",
    "from sklearn.metrics import roc_curve, roc_auc_score \n",
    "from sklearn.model_selection import train_test_split\n",
    "from sklearn.tree import DecisionTreeClassifier\n",
    "from scipy import stats\n",
    "\n",
    "# grid search\n",
    "from sklearn.model_selection import GridSearchCV, RandomizedSearchCV\n",
    "\n",
    "# random number generator\n",
    "import random\n"
   ]
  },
  {
   "cell_type": "markdown",
   "metadata": {},
   "source": [
    "### 1.a - Load Data"
   ]
  },
  {
   "cell_type": "code",
   "execution_count": 3,
   "metadata": {},
   "outputs": [],
   "source": [
    "# read dataset as a pandas df\n",
    "heart = pd.read_csv(r'.../heart.csv')\n",
    "\n",
    "# target variable (column name)\n",
    "target = 'HeartDisease'\n",
    "\n",
    "sns.set(style='darkgrid')"
   ]
  },
  {
   "cell_type": "code",
   "execution_count": 4,
   "metadata": {},
   "outputs": [
    {
     "data": {
      "text/plain": [
       "(918, 12)"
      ]
     },
     "execution_count": 4,
     "metadata": {},
     "output_type": "execute_result"
    }
   ],
   "source": [
    "heart.shape"
   ]
  },
  {
   "cell_type": "code",
   "execution_count": 5,
   "metadata": {},
   "outputs": [
    {
     "data": {
      "text/html": [
       "<div>\n",
       "<style scoped>\n",
       "    .dataframe tbody tr th:only-of-type {\n",
       "        vertical-align: middle;\n",
       "    }\n",
       "\n",
       "    .dataframe tbody tr th {\n",
       "        vertical-align: top;\n",
       "    }\n",
       "\n",
       "    .dataframe thead th {\n",
       "        text-align: right;\n",
       "    }\n",
       "</style>\n",
       "<table border=\"1\" class=\"dataframe\">\n",
       "  <thead>\n",
       "    <tr style=\"text-align: right;\">\n",
       "      <th></th>\n",
       "      <th>Age</th>\n",
       "      <th>Sex</th>\n",
       "      <th>ChestPainType</th>\n",
       "      <th>RestingBP</th>\n",
       "      <th>Cholesterol</th>\n",
       "      <th>FastingBS</th>\n",
       "      <th>RestingECG</th>\n",
       "      <th>MaxHR</th>\n",
       "      <th>ExerciseAngina</th>\n",
       "      <th>Oldpeak</th>\n",
       "      <th>ST_Slope</th>\n",
       "      <th>HeartDisease</th>\n",
       "    </tr>\n",
       "  </thead>\n",
       "  <tbody>\n",
       "    <tr>\n",
       "      <th>0</th>\n",
       "      <td>40</td>\n",
       "      <td>M</td>\n",
       "      <td>ATA</td>\n",
       "      <td>140</td>\n",
       "      <td>289</td>\n",
       "      <td>0</td>\n",
       "      <td>Normal</td>\n",
       "      <td>172</td>\n",
       "      <td>N</td>\n",
       "      <td>0.0</td>\n",
       "      <td>Up</td>\n",
       "      <td>0</td>\n",
       "    </tr>\n",
       "    <tr>\n",
       "      <th>1</th>\n",
       "      <td>49</td>\n",
       "      <td>F</td>\n",
       "      <td>NAP</td>\n",
       "      <td>160</td>\n",
       "      <td>180</td>\n",
       "      <td>0</td>\n",
       "      <td>Normal</td>\n",
       "      <td>156</td>\n",
       "      <td>N</td>\n",
       "      <td>1.0</td>\n",
       "      <td>Flat</td>\n",
       "      <td>1</td>\n",
       "    </tr>\n",
       "    <tr>\n",
       "      <th>2</th>\n",
       "      <td>37</td>\n",
       "      <td>M</td>\n",
       "      <td>ATA</td>\n",
       "      <td>130</td>\n",
       "      <td>283</td>\n",
       "      <td>0</td>\n",
       "      <td>ST</td>\n",
       "      <td>98</td>\n",
       "      <td>N</td>\n",
       "      <td>0.0</td>\n",
       "      <td>Up</td>\n",
       "      <td>0</td>\n",
       "    </tr>\n",
       "    <tr>\n",
       "      <th>3</th>\n",
       "      <td>48</td>\n",
       "      <td>F</td>\n",
       "      <td>ASY</td>\n",
       "      <td>138</td>\n",
       "      <td>214</td>\n",
       "      <td>0</td>\n",
       "      <td>Normal</td>\n",
       "      <td>108</td>\n",
       "      <td>Y</td>\n",
       "      <td>1.5</td>\n",
       "      <td>Flat</td>\n",
       "      <td>1</td>\n",
       "    </tr>\n",
       "    <tr>\n",
       "      <th>4</th>\n",
       "      <td>54</td>\n",
       "      <td>M</td>\n",
       "      <td>NAP</td>\n",
       "      <td>150</td>\n",
       "      <td>195</td>\n",
       "      <td>0</td>\n",
       "      <td>Normal</td>\n",
       "      <td>122</td>\n",
       "      <td>N</td>\n",
       "      <td>0.0</td>\n",
       "      <td>Up</td>\n",
       "      <td>0</td>\n",
       "    </tr>\n",
       "  </tbody>\n",
       "</table>\n",
       "</div>"
      ],
      "text/plain": [
       "   Age Sex ChestPainType  RestingBP  Cholesterol  FastingBS RestingECG  MaxHR  \\\n",
       "0   40   M           ATA        140          289          0     Normal    172   \n",
       "1   49   F           NAP        160          180          0     Normal    156   \n",
       "2   37   M           ATA        130          283          0         ST     98   \n",
       "3   48   F           ASY        138          214          0     Normal    108   \n",
       "4   54   M           NAP        150          195          0     Normal    122   \n",
       "\n",
       "  ExerciseAngina  Oldpeak ST_Slope  HeartDisease  \n",
       "0              N      0.0       Up             0  \n",
       "1              N      1.0     Flat             1  \n",
       "2              N      0.0       Up             0  \n",
       "3              Y      1.5     Flat             1  \n",
       "4              N      0.0       Up             0  "
      ]
     },
     "execution_count": 5,
     "metadata": {},
     "output_type": "execute_result"
    }
   ],
   "source": [
    "# Looksee\n",
    "heart.head()"
   ]
  },
  {
   "cell_type": "code",
   "execution_count": 6,
   "metadata": {},
   "outputs": [
    {
     "data": {
      "text/plain": [
       "Index(['Age', 'Sex', 'ChestPainType', 'RestingBP', 'Cholesterol', 'FastingBS',\n",
       "       'RestingECG', 'MaxHR', 'ExerciseAngina', 'Oldpeak', 'ST_Slope',\n",
       "       'HeartDisease'],\n",
       "      dtype='object')"
      ]
     },
     "execution_count": 6,
     "metadata": {},
     "output_type": "execute_result"
    }
   ],
   "source": [
    "heart.columns"
   ]
  },
  {
   "cell_type": "markdown",
   "metadata": {},
   "source": [
    "### Quick Look and summary"
   ]
  },
  {
   "cell_type": "code",
   "execution_count": 7,
   "metadata": {},
   "outputs": [
    {
     "data": {
      "text/html": [
       "<div>\n",
       "<style scoped>\n",
       "    .dataframe tbody tr th:only-of-type {\n",
       "        vertical-align: middle;\n",
       "    }\n",
       "\n",
       "    .dataframe tbody tr th {\n",
       "        vertical-align: top;\n",
       "    }\n",
       "\n",
       "    .dataframe thead th {\n",
       "        text-align: right;\n",
       "    }\n",
       "</style>\n",
       "<table border=\"1\" class=\"dataframe\">\n",
       "  <thead>\n",
       "    <tr style=\"text-align: right;\">\n",
       "      <th></th>\n",
       "      <th>count</th>\n",
       "      <th>mean</th>\n",
       "      <th>std</th>\n",
       "      <th>min</th>\n",
       "      <th>25%</th>\n",
       "      <th>50%</th>\n",
       "      <th>75%</th>\n",
       "      <th>max</th>\n",
       "    </tr>\n",
       "  </thead>\n",
       "  <tbody>\n",
       "    <tr>\n",
       "      <th>Age</th>\n",
       "      <td>918.0</td>\n",
       "      <td>53.510893</td>\n",
       "      <td>9.432617</td>\n",
       "      <td>28.0</td>\n",
       "      <td>47.00</td>\n",
       "      <td>54.0</td>\n",
       "      <td>60.0</td>\n",
       "      <td>77.0</td>\n",
       "    </tr>\n",
       "    <tr>\n",
       "      <th>RestingBP</th>\n",
       "      <td>918.0</td>\n",
       "      <td>132.396514</td>\n",
       "      <td>18.514154</td>\n",
       "      <td>0.0</td>\n",
       "      <td>120.00</td>\n",
       "      <td>130.0</td>\n",
       "      <td>140.0</td>\n",
       "      <td>200.0</td>\n",
       "    </tr>\n",
       "    <tr>\n",
       "      <th>Cholesterol</th>\n",
       "      <td>918.0</td>\n",
       "      <td>198.799564</td>\n",
       "      <td>109.384145</td>\n",
       "      <td>0.0</td>\n",
       "      <td>173.25</td>\n",
       "      <td>223.0</td>\n",
       "      <td>267.0</td>\n",
       "      <td>603.0</td>\n",
       "    </tr>\n",
       "    <tr>\n",
       "      <th>FastingBS</th>\n",
       "      <td>918.0</td>\n",
       "      <td>0.233115</td>\n",
       "      <td>0.423046</td>\n",
       "      <td>0.0</td>\n",
       "      <td>0.00</td>\n",
       "      <td>0.0</td>\n",
       "      <td>0.0</td>\n",
       "      <td>1.0</td>\n",
       "    </tr>\n",
       "    <tr>\n",
       "      <th>MaxHR</th>\n",
       "      <td>918.0</td>\n",
       "      <td>136.809368</td>\n",
       "      <td>25.460334</td>\n",
       "      <td>60.0</td>\n",
       "      <td>120.00</td>\n",
       "      <td>138.0</td>\n",
       "      <td>156.0</td>\n",
       "      <td>202.0</td>\n",
       "    </tr>\n",
       "    <tr>\n",
       "      <th>Oldpeak</th>\n",
       "      <td>918.0</td>\n",
       "      <td>0.887364</td>\n",
       "      <td>1.066570</td>\n",
       "      <td>-2.6</td>\n",
       "      <td>0.00</td>\n",
       "      <td>0.6</td>\n",
       "      <td>1.5</td>\n",
       "      <td>6.2</td>\n",
       "    </tr>\n",
       "    <tr>\n",
       "      <th>HeartDisease</th>\n",
       "      <td>918.0</td>\n",
       "      <td>0.553377</td>\n",
       "      <td>0.497414</td>\n",
       "      <td>0.0</td>\n",
       "      <td>0.00</td>\n",
       "      <td>1.0</td>\n",
       "      <td>1.0</td>\n",
       "      <td>1.0</td>\n",
       "    </tr>\n",
       "  </tbody>\n",
       "</table>\n",
       "</div>"
      ],
      "text/plain": [
       "              count        mean         std   min     25%    50%    75%    max\n",
       "Age           918.0   53.510893    9.432617  28.0   47.00   54.0   60.0   77.0\n",
       "RestingBP     918.0  132.396514   18.514154   0.0  120.00  130.0  140.0  200.0\n",
       "Cholesterol   918.0  198.799564  109.384145   0.0  173.25  223.0  267.0  603.0\n",
       "FastingBS     918.0    0.233115    0.423046   0.0    0.00    0.0    0.0    1.0\n",
       "MaxHR         918.0  136.809368   25.460334  60.0  120.00  138.0  156.0  202.0\n",
       "Oldpeak       918.0    0.887364    1.066570  -2.6    0.00    0.6    1.5    6.2\n",
       "HeartDisease  918.0    0.553377    0.497414   0.0    0.00    1.0    1.0    1.0"
      ]
     },
     "execution_count": 7,
     "metadata": {},
     "output_type": "execute_result"
    }
   ],
   "source": [
    "# check averages and other descriptive stats\n",
    "heart.describe().T"
   ]
  },
  {
   "cell_type": "code",
   "execution_count": 8,
   "metadata": {},
   "outputs": [
    {
     "data": {
      "image/png": "[encoded data removed]",
      "text/plain": [
       "<Figure size 864x648 with 12 Axes>"
      ]
     },
     "metadata": {},
     "output_type": "display_data"
    }
   ],
   "source": [
    "fig, axes = plt.subplots(nrows=4, ncols=3, figsize=(12, 9))\n",
    "fig.tight_layout()\n",
    "\n",
    "for i, ax in enumerate(axes.flat):\n",
    "    col = heart.columns[i]\n",
    "    heart[col].hist(bins=50, ax=ax, grid=False, color='royalblue', alpha=.5)\n",
    "    ax.set_title(col.upper().replace('_', ' '), weight='bold', size=10);"
   ]
  },
  {
   "cell_type": "markdown",
   "metadata": {},
   "source": [
    "### 1.b - Random TRAIN/TEST Data Sets"
   ]
  },
  {
   "cell_type": "code",
   "execution_count": 9,
   "metadata": {},
   "outputs": [
    {
     "data": {
      "text/plain": [
       "734.4000000000001"
      ]
     },
     "execution_count": 9,
     "metadata": {},
     "output_type": "execute_result"
    }
   ],
   "source": [
    "# length of 80% of data rows\n",
    "heart.shape[0]*.8"
   ]
  },
  {
   "cell_type": "markdown",
   "metadata": {},
   "source": [
    "### Create two random partitions: train and test"
   ]
  },
  {
   "cell_type": "code",
   "execution_count": 26,
   "metadata": {},
   "outputs": [
    {
     "name": "stdout",
     "output_type": "stream",
     "text": [
      "734 184\n"
     ]
    }
   ],
   "source": [
    "train, test = train_test_split(\n",
    "    heart, test_size=0.20, random_state=39) #39 seed is for reproducible output across multiple function calls\n",
    "\n",
    "print(len(train), len(test))"
   ]
  },
  {
   "cell_type": "markdown",
   "metadata": {},
   "source": [
    "### 2.a - ID Non-numeric Columns"
   ]
  },
  {
   "cell_type": "code",
   "execution_count": 19,
   "metadata": {},
   "outputs": [
    {
     "data": {
      "text/html": [
       "<div>\n",
       "<style scoped>\n",
       "    .dataframe tbody tr th:only-of-type {\n",
       "        vertical-align: middle;\n",
       "    }\n",
       "\n",
       "    .dataframe tbody tr th {\n",
       "        vertical-align: top;\n",
       "    }\n",
       "\n",
       "    .dataframe thead th {\n",
       "        text-align: right;\n",
       "    }\n",
       "</style>\n",
       "<table border=\"1\" class=\"dataframe\">\n",
       "  <thead>\n",
       "    <tr style=\"text-align: right;\">\n",
       "      <th></th>\n",
       "      <th>Sex</th>\n",
       "      <th>ChestPainType</th>\n",
       "      <th>RestingECG</th>\n",
       "      <th>ExerciseAngina</th>\n",
       "      <th>ST_Slope</th>\n",
       "    </tr>\n",
       "  </thead>\n",
       "  <tbody>\n",
       "    <tr>\n",
       "      <th>0</th>\n",
       "      <td>M</td>\n",
       "      <td>ATA</td>\n",
       "      <td>Normal</td>\n",
       "      <td>N</td>\n",
       "      <td>Up</td>\n",
       "    </tr>\n",
       "    <tr>\n",
       "      <th>1</th>\n",
       "      <td>F</td>\n",
       "      <td>NAP</td>\n",
       "      <td>Normal</td>\n",
       "      <td>N</td>\n",
       "      <td>Flat</td>\n",
       "    </tr>\n",
       "    <tr>\n",
       "      <th>2</th>\n",
       "      <td>M</td>\n",
       "      <td>ATA</td>\n",
       "      <td>ST</td>\n",
       "      <td>N</td>\n",
       "      <td>Up</td>\n",
       "    </tr>\n",
       "    <tr>\n",
       "      <th>3</th>\n",
       "      <td>F</td>\n",
       "      <td>ASY</td>\n",
       "      <td>Normal</td>\n",
       "      <td>Y</td>\n",
       "      <td>Flat</td>\n",
       "    </tr>\n",
       "    <tr>\n",
       "      <th>4</th>\n",
       "      <td>M</td>\n",
       "      <td>NAP</td>\n",
       "      <td>Normal</td>\n",
       "      <td>N</td>\n",
       "      <td>Up</td>\n",
       "    </tr>\n",
       "    <tr>\n",
       "      <th>...</th>\n",
       "      <td>...</td>\n",
       "      <td>...</td>\n",
       "      <td>...</td>\n",
       "      <td>...</td>\n",
       "      <td>...</td>\n",
       "    </tr>\n",
       "    <tr>\n",
       "      <th>913</th>\n",
       "      <td>M</td>\n",
       "      <td>TA</td>\n",
       "      <td>Normal</td>\n",
       "      <td>N</td>\n",
       "      <td>Flat</td>\n",
       "    </tr>\n",
       "    <tr>\n",
       "      <th>914</th>\n",
       "      <td>M</td>\n",
       "      <td>ASY</td>\n",
       "      <td>Normal</td>\n",
       "      <td>N</td>\n",
       "      <td>Flat</td>\n",
       "    </tr>\n",
       "    <tr>\n",
       "      <th>915</th>\n",
       "      <td>M</td>\n",
       "      <td>ASY</td>\n",
       "      <td>Normal</td>\n",
       "      <td>Y</td>\n",
       "      <td>Flat</td>\n",
       "    </tr>\n",
       "    <tr>\n",
       "      <th>916</th>\n",
       "      <td>F</td>\n",
       "      <td>ATA</td>\n",
       "      <td>LVH</td>\n",
       "      <td>N</td>\n",
       "      <td>Flat</td>\n",
       "    </tr>\n",
       "    <tr>\n",
       "      <th>917</th>\n",
       "      <td>M</td>\n",
       "      <td>NAP</td>\n",
       "      <td>Normal</td>\n",
       "      <td>N</td>\n",
       "      <td>Up</td>\n",
       "    </tr>\n",
       "  </tbody>\n",
       "</table>\n",
       "<p>918 rows × 5 columns</p>\n",
       "</div>"
      ],
      "text/plain": [
       "    Sex ChestPainType RestingECG ExerciseAngina ST_Slope\n",
       "0     M           ATA     Normal              N       Up\n",
       "1     F           NAP     Normal              N     Flat\n",
       "2     M           ATA         ST              N       Up\n",
       "3     F           ASY     Normal              Y     Flat\n",
       "4     M           NAP     Normal              N       Up\n",
       "..   ..           ...        ...            ...      ...\n",
       "913   M            TA     Normal              N     Flat\n",
       "914   M           ASY     Normal              N     Flat\n",
       "915   M           ASY     Normal              Y     Flat\n",
       "916   F           ATA        LVH              N     Flat\n",
       "917   M           NAP     Normal              N       Up\n",
       "\n",
       "[918 rows x 5 columns]"
      ]
     },
     "execution_count": 19,
     "metadata": {},
     "output_type": "execute_result"
    }
   ],
   "source": [
    "# View of raw non-numeric data\n",
    "heart.select_dtypes(exclude=['number'])"
   ]
  },
  {
   "cell_type": "markdown",
   "metadata": {},
   "source": [
    "Non-Numeric Columns"
   ]
  },
  {
   "cell_type": "code",
   "execution_count": 20,
   "metadata": {},
   "outputs": [],
   "source": [
    "charvar = heart.select_dtypes(exclude=['number']).columns"
   ]
  },
  {
   "cell_type": "code",
   "execution_count": 22,
   "metadata": {},
   "outputs": [
    {
     "name": "stdout",
     "output_type": "stream",
     "text": [
      "Index(['Sex', 'ChestPainType', 'RestingECG', 'ExerciseAngina', 'ST_Slope'], dtype='object') are non-nueric columns.\n"
     ]
    }
   ],
   "source": [
    "print(f'{charvar} are non-nueric columns.')"
   ]
  },
  {
   "cell_type": "markdown",
   "metadata": {},
   "source": [
    "### 2.b - Create Binary Flags"
   ]
  },
  {
   "cell_type": "code",
   "execution_count": 29,
   "metadata": {},
   "outputs": [],
   "source": [
    "train = pd.get_dummies(train)\n",
    "test = pd.get_dummies(test)"
   ]
  },
  {
   "cell_type": "markdown",
   "metadata": {},
   "source": [
    "NTS: No columns listed defaults to all objects and category data w/binary flags"
   ]
  },
  {
   "cell_type": "code",
   "execution_count": 30,
   "metadata": {},
   "outputs": [
    {
     "data": {
      "text/html": [
       "<div>\n",
       "<style scoped>\n",
       "    .dataframe tbody tr th:only-of-type {\n",
       "        vertical-align: middle;\n",
       "    }\n",
       "\n",
       "    .dataframe tbody tr th {\n",
       "        vertical-align: top;\n",
       "    }\n",
       "\n",
       "    .dataframe thead th {\n",
       "        text-align: right;\n",
       "    }\n",
       "</style>\n",
       "<table border=\"1\" class=\"dataframe\">\n",
       "  <thead>\n",
       "    <tr style=\"text-align: right;\">\n",
       "      <th></th>\n",
       "      <th>Age</th>\n",
       "      <th>RestingBP</th>\n",
       "      <th>Cholesterol</th>\n",
       "      <th>FastingBS</th>\n",
       "      <th>MaxHR</th>\n",
       "      <th>Oldpeak</th>\n",
       "      <th>HeartDisease</th>\n",
       "      <th>Sex_F</th>\n",
       "      <th>Sex_M</th>\n",
       "      <th>ChestPainType_ASY</th>\n",
       "      <th>...</th>\n",
       "      <th>ChestPainType_NAP</th>\n",
       "      <th>ChestPainType_TA</th>\n",
       "      <th>RestingECG_LVH</th>\n",
       "      <th>RestingECG_Normal</th>\n",
       "      <th>RestingECG_ST</th>\n",
       "      <th>ExerciseAngina_N</th>\n",
       "      <th>ExerciseAngina_Y</th>\n",
       "      <th>ST_Slope_Down</th>\n",
       "      <th>ST_Slope_Flat</th>\n",
       "      <th>ST_Slope_Up</th>\n",
       "    </tr>\n",
       "  </thead>\n",
       "  <tbody>\n",
       "    <tr>\n",
       "      <th>473</th>\n",
       "      <td>60</td>\n",
       "      <td>141</td>\n",
       "      <td>316</td>\n",
       "      <td>1</td>\n",
       "      <td>122</td>\n",
       "      <td>1.7</td>\n",
       "      <td>1</td>\n",
       "      <td>0</td>\n",
       "      <td>1</td>\n",
       "      <td>0</td>\n",
       "      <td>...</td>\n",
       "      <td>1</td>\n",
       "      <td>0</td>\n",
       "      <td>0</td>\n",
       "      <td>0</td>\n",
       "      <td>1</td>\n",
       "      <td>0</td>\n",
       "      <td>1</td>\n",
       "      <td>0</td>\n",
       "      <td>1</td>\n",
       "      <td>0</td>\n",
       "    </tr>\n",
       "    <tr>\n",
       "      <th>339</th>\n",
       "      <td>64</td>\n",
       "      <td>95</td>\n",
       "      <td>0</td>\n",
       "      <td>1</td>\n",
       "      <td>145</td>\n",
       "      <td>1.1</td>\n",
       "      <td>1</td>\n",
       "      <td>1</td>\n",
       "      <td>0</td>\n",
       "      <td>1</td>\n",
       "      <td>...</td>\n",
       "      <td>0</td>\n",
       "      <td>0</td>\n",
       "      <td>0</td>\n",
       "      <td>1</td>\n",
       "      <td>0</td>\n",
       "      <td>1</td>\n",
       "      <td>0</td>\n",
       "      <td>1</td>\n",
       "      <td>0</td>\n",
       "      <td>0</td>\n",
       "    </tr>\n",
       "    <tr>\n",
       "      <th>583</th>\n",
       "      <td>69</td>\n",
       "      <td>142</td>\n",
       "      <td>271</td>\n",
       "      <td>0</td>\n",
       "      <td>126</td>\n",
       "      <td>0.3</td>\n",
       "      <td>0</td>\n",
       "      <td>0</td>\n",
       "      <td>1</td>\n",
       "      <td>0</td>\n",
       "      <td>...</td>\n",
       "      <td>1</td>\n",
       "      <td>0</td>\n",
       "      <td>1</td>\n",
       "      <td>0</td>\n",
       "      <td>0</td>\n",
       "      <td>1</td>\n",
       "      <td>0</td>\n",
       "      <td>0</td>\n",
       "      <td>0</td>\n",
       "      <td>1</td>\n",
       "    </tr>\n",
       "    <tr>\n",
       "      <th>915</th>\n",
       "      <td>57</td>\n",
       "      <td>130</td>\n",
       "      <td>131</td>\n",
       "      <td>0</td>\n",
       "      <td>115</td>\n",
       "      <td>1.2</td>\n",
       "      <td>1</td>\n",
       "      <td>0</td>\n",
       "      <td>1</td>\n",
       "      <td>1</td>\n",
       "      <td>...</td>\n",
       "      <td>0</td>\n",
       "      <td>0</td>\n",
       "      <td>0</td>\n",
       "      <td>1</td>\n",
       "      <td>0</td>\n",
       "      <td>0</td>\n",
       "      <td>1</td>\n",
       "      <td>0</td>\n",
       "      <td>1</td>\n",
       "      <td>0</td>\n",
       "    </tr>\n",
       "    <tr>\n",
       "      <th>773</th>\n",
       "      <td>56</td>\n",
       "      <td>120</td>\n",
       "      <td>193</td>\n",
       "      <td>0</td>\n",
       "      <td>162</td>\n",
       "      <td>1.9</td>\n",
       "      <td>0</td>\n",
       "      <td>0</td>\n",
       "      <td>1</td>\n",
       "      <td>0</td>\n",
       "      <td>...</td>\n",
       "      <td>0</td>\n",
       "      <td>1</td>\n",
       "      <td>1</td>\n",
       "      <td>0</td>\n",
       "      <td>0</td>\n",
       "      <td>1</td>\n",
       "      <td>0</td>\n",
       "      <td>0</td>\n",
       "      <td>1</td>\n",
       "      <td>0</td>\n",
       "    </tr>\n",
       "  </tbody>\n",
       "</table>\n",
       "<p>5 rows × 21 columns</p>\n",
       "</div>"
      ],
      "text/plain": [
       "     Age  RestingBP  Cholesterol  FastingBS  MaxHR  Oldpeak  HeartDisease  \\\n",
       "473   60        141          316          1    122      1.7             1   \n",
       "339   64         95            0          1    145      1.1             1   \n",
       "583   69        142          271          0    126      0.3             0   \n",
       "915   57        130          131          0    115      1.2             1   \n",
       "773   56        120          193          0    162      1.9             0   \n",
       "\n",
       "     Sex_F  Sex_M  ChestPainType_ASY  ...  ChestPainType_NAP  \\\n",
       "473      0      1                  0  ...                  1   \n",
       "339      1      0                  1  ...                  0   \n",
       "583      0      1                  0  ...                  1   \n",
       "915      0      1                  1  ...                  0   \n",
       "773      0      1                  0  ...                  0   \n",
       "\n",
       "     ChestPainType_TA  RestingECG_LVH  RestingECG_Normal  RestingECG_ST  \\\n",
       "473                 0               0                  0              1   \n",
       "339                 0               0                  1              0   \n",
       "583                 0               1                  0              0   \n",
       "915                 0               0                  1              0   \n",
       "773                 1               1                  0              0   \n",
       "\n",
       "     ExerciseAngina_N  ExerciseAngina_Y  ST_Slope_Down  ST_Slope_Flat  \\\n",
       "473                 0                 1              0              1   \n",
       "339                 1                 0              1              0   \n",
       "583                 1                 0              0              0   \n",
       "915                 0                 1              0              1   \n",
       "773                 1                 0              0              1   \n",
       "\n",
       "     ST_Slope_Up  \n",
       "473            0  \n",
       "339            0  \n",
       "583            1  \n",
       "915            0  \n",
       "773            0  \n",
       "\n",
       "[5 rows x 21 columns]"
      ]
     },
     "execution_count": 30,
     "metadata": {},
     "output_type": "execute_result"
    }
   ],
   "source": [
    "# validate\n",
    "train.head()"
   ]
  },
  {
   "cell_type": "markdown",
   "metadata": {},
   "source": [
    "### 3 - Calculate z-scores (Standardize)\n",
    "NTS: The entire data set (including dummies) is standardized."
   ]
  },
  {
   "cell_type": "markdown",
   "metadata": {},
   "source": [
    "Address target"
   ]
  },
  {
   "cell_type": "code",
   "execution_count": 49,
   "metadata": {},
   "outputs": [],
   "source": [
    "X_train = train.drop(target, axis=1)\n",
    "X_test = test.drop(target, axis=1)\n",
    "\n",
    "y_train = train[target]\n",
    "y_test = test[target]"
   ]
  },
  {
   "cell_type": "code",
   "execution_count": 51,
   "metadata": {},
   "outputs": [
    {
     "data": {
      "text/html": [
       "<div>\n",
       "<style scoped>\n",
       "    .dataframe tbody tr th:only-of-type {\n",
       "        vertical-align: middle;\n",
       "    }\n",
       "\n",
       "    .dataframe tbody tr th {\n",
       "        vertical-align: top;\n",
       "    }\n",
       "\n",
       "    .dataframe thead th {\n",
       "        text-align: right;\n",
       "    }\n",
       "</style>\n",
       "<table border=\"1\" class=\"dataframe\">\n",
       "  <thead>\n",
       "    <tr style=\"text-align: right;\">\n",
       "      <th></th>\n",
       "      <th>Age</th>\n",
       "      <th>RestingBP</th>\n",
       "      <th>Cholesterol</th>\n",
       "      <th>FastingBS</th>\n",
       "      <th>MaxHR</th>\n",
       "      <th>Oldpeak</th>\n",
       "      <th>Sex_F</th>\n",
       "      <th>Sex_M</th>\n",
       "      <th>ChestPainType_ASY</th>\n",
       "      <th>ChestPainType_ATA</th>\n",
       "      <th>ChestPainType_NAP</th>\n",
       "      <th>ChestPainType_TA</th>\n",
       "      <th>RestingECG_LVH</th>\n",
       "      <th>RestingECG_Normal</th>\n",
       "      <th>RestingECG_ST</th>\n",
       "      <th>ExerciseAngina_N</th>\n",
       "      <th>ExerciseAngina_Y</th>\n",
       "      <th>ST_Slope_Down</th>\n",
       "      <th>ST_Slope_Flat</th>\n",
       "      <th>ST_Slope_Up</th>\n",
       "    </tr>\n",
       "  </thead>\n",
       "  <tbody>\n",
       "    <tr>\n",
       "      <th>473</th>\n",
       "      <td>60</td>\n",
       "      <td>141</td>\n",
       "      <td>316</td>\n",
       "      <td>1</td>\n",
       "      <td>122</td>\n",
       "      <td>1.7</td>\n",
       "      <td>0</td>\n",
       "      <td>1</td>\n",
       "      <td>0</td>\n",
       "      <td>0</td>\n",
       "      <td>1</td>\n",
       "      <td>0</td>\n",
       "      <td>0</td>\n",
       "      <td>0</td>\n",
       "      <td>1</td>\n",
       "      <td>0</td>\n",
       "      <td>1</td>\n",
       "      <td>0</td>\n",
       "      <td>1</td>\n",
       "      <td>0</td>\n",
       "    </tr>\n",
       "    <tr>\n",
       "      <th>339</th>\n",
       "      <td>64</td>\n",
       "      <td>95</td>\n",
       "      <td>0</td>\n",
       "      <td>1</td>\n",
       "      <td>145</td>\n",
       "      <td>1.1</td>\n",
       "      <td>1</td>\n",
       "      <td>0</td>\n",
       "      <td>1</td>\n",
       "      <td>0</td>\n",
       "      <td>0</td>\n",
       "      <td>0</td>\n",
       "      <td>0</td>\n",
       "      <td>1</td>\n",
       "      <td>0</td>\n",
       "      <td>1</td>\n",
       "      <td>0</td>\n",
       "      <td>1</td>\n",
       "      <td>0</td>\n",
       "      <td>0</td>\n",
       "    </tr>\n",
       "    <tr>\n",
       "      <th>583</th>\n",
       "      <td>69</td>\n",
       "      <td>142</td>\n",
       "      <td>271</td>\n",
       "      <td>0</td>\n",
       "      <td>126</td>\n",
       "      <td>0.3</td>\n",
       "      <td>0</td>\n",
       "      <td>1</td>\n",
       "      <td>0</td>\n",
       "      <td>0</td>\n",
       "      <td>1</td>\n",
       "      <td>0</td>\n",
       "      <td>1</td>\n",
       "      <td>0</td>\n",
       "      <td>0</td>\n",
       "      <td>1</td>\n",
       "      <td>0</td>\n",
       "      <td>0</td>\n",
       "      <td>0</td>\n",
       "      <td>1</td>\n",
       "    </tr>\n",
       "    <tr>\n",
       "      <th>915</th>\n",
       "      <td>57</td>\n",
       "      <td>130</td>\n",
       "      <td>131</td>\n",
       "      <td>0</td>\n",
       "      <td>115</td>\n",
       "      <td>1.2</td>\n",
       "      <td>0</td>\n",
       "      <td>1</td>\n",
       "      <td>1</td>\n",
       "      <td>0</td>\n",
       "      <td>0</td>\n",
       "      <td>0</td>\n",
       "      <td>0</td>\n",
       "      <td>1</td>\n",
       "      <td>0</td>\n",
       "      <td>0</td>\n",
       "      <td>1</td>\n",
       "      <td>0</td>\n",
       "      <td>1</td>\n",
       "      <td>0</td>\n",
       "    </tr>\n",
       "    <tr>\n",
       "      <th>773</th>\n",
       "      <td>56</td>\n",
       "      <td>120</td>\n",
       "      <td>193</td>\n",
       "      <td>0</td>\n",
       "      <td>162</td>\n",
       "      <td>1.9</td>\n",
       "      <td>0</td>\n",
       "      <td>1</td>\n",
       "      <td>0</td>\n",
       "      <td>0</td>\n",
       "      <td>0</td>\n",
       "      <td>1</td>\n",
       "      <td>1</td>\n",
       "      <td>0</td>\n",
       "      <td>0</td>\n",
       "      <td>1</td>\n",
       "      <td>0</td>\n",
       "      <td>0</td>\n",
       "      <td>1</td>\n",
       "      <td>0</td>\n",
       "    </tr>\n",
       "  </tbody>\n",
       "</table>\n",
       "</div>"
      ],
      "text/plain": [
       "     Age  RestingBP  Cholesterol  FastingBS  MaxHR  Oldpeak  Sex_F  Sex_M  \\\n",
       "473   60        141          316          1    122      1.7      0      1   \n",
       "339   64         95            0          1    145      1.1      1      0   \n",
       "583   69        142          271          0    126      0.3      0      1   \n",
       "915   57        130          131          0    115      1.2      0      1   \n",
       "773   56        120          193          0    162      1.9      0      1   \n",
       "\n",
       "     ChestPainType_ASY  ChestPainType_ATA  ChestPainType_NAP  \\\n",
       "473                  0                  0                  1   \n",
       "339                  1                  0                  0   \n",
       "583                  0                  0                  1   \n",
       "915                  1                  0                  0   \n",
       "773                  0                  0                  0   \n",
       "\n",
       "     ChestPainType_TA  RestingECG_LVH  RestingECG_Normal  RestingECG_ST  \\\n",
       "473                 0               0                  0              1   \n",
       "339                 0               0                  1              0   \n",
       "583                 0               1                  0              0   \n",
       "915                 0               0                  1              0   \n",
       "773                 1               1                  0              0   \n",
       "\n",
       "     ExerciseAngina_N  ExerciseAngina_Y  ST_Slope_Down  ST_Slope_Flat  \\\n",
       "473                 0                 1              0              1   \n",
       "339                 1                 0              1              0   \n",
       "583                 1                 0              0              0   \n",
       "915                 0                 1              0              1   \n",
       "773                 1                 0              0              1   \n",
       "\n",
       "     ST_Slope_Up  \n",
       "473            0  \n",
       "339            0  \n",
       "583            1  \n",
       "915            0  \n",
       "773            0  "
      ]
     },
     "execution_count": 51,
     "metadata": {},
     "output_type": "execute_result"
    }
   ],
   "source": [
    "X_train.head()"
   ]
  },
  {
   "cell_type": "code",
   "execution_count": 52,
   "metadata": {},
   "outputs": [
    {
     "data": {
      "text/html": [
       "<div>\n",
       "<style scoped>\n",
       "    .dataframe tbody tr th:only-of-type {\n",
       "        vertical-align: middle;\n",
       "    }\n",
       "\n",
       "    .dataframe tbody tr th {\n",
       "        vertical-align: top;\n",
       "    }\n",
       "\n",
       "    .dataframe thead th {\n",
       "        text-align: right;\n",
       "    }\n",
       "</style>\n",
       "<table border=\"1\" class=\"dataframe\">\n",
       "  <thead>\n",
       "    <tr style=\"text-align: right;\">\n",
       "      <th></th>\n",
       "      <th>Age</th>\n",
       "      <th>RestingBP</th>\n",
       "      <th>Cholesterol</th>\n",
       "      <th>FastingBS</th>\n",
       "      <th>MaxHR</th>\n",
       "      <th>Oldpeak</th>\n",
       "      <th>HeartDisease</th>\n",
       "      <th>Sex_F</th>\n",
       "      <th>Sex_M</th>\n",
       "      <th>ChestPainType_ASY</th>\n",
       "      <th>...</th>\n",
       "      <th>ChestPainType_NAP</th>\n",
       "      <th>ChestPainType_TA</th>\n",
       "      <th>RestingECG_LVH</th>\n",
       "      <th>RestingECG_Normal</th>\n",
       "      <th>RestingECG_ST</th>\n",
       "      <th>ExerciseAngina_N</th>\n",
       "      <th>ExerciseAngina_Y</th>\n",
       "      <th>ST_Slope_Down</th>\n",
       "      <th>ST_Slope_Flat</th>\n",
       "      <th>ST_Slope_Up</th>\n",
       "    </tr>\n",
       "  </thead>\n",
       "  <tbody>\n",
       "    <tr>\n",
       "      <th>473</th>\n",
       "      <td>0.701102</td>\n",
       "      <td>0.480242</td>\n",
       "      <td>1.070214</td>\n",
       "      <td>1.894070</td>\n",
       "      <td>-0.577331</td>\n",
       "      <td>0.778028</td>\n",
       "      <td>0.903787</td>\n",
       "      <td>-0.523742</td>\n",
       "      <td>0.523742</td>\n",
       "      <td>-1.073542</td>\n",
       "      <td>...</td>\n",
       "      <td>1.871648</td>\n",
       "      <td>-0.223767</td>\n",
       "      <td>-0.519515</td>\n",
       "      <td>-1.230325</td>\n",
       "      <td>2.096917</td>\n",
       "      <td>-1.202775</td>\n",
       "      <td>1.202775</td>\n",
       "      <td>-0.270369</td>\n",
       "      <td>1.0</td>\n",
       "      <td>-0.871890</td>\n",
       "    </tr>\n",
       "    <tr>\n",
       "      <th>339</th>\n",
       "      <td>1.126839</td>\n",
       "      <td>-1.979170</td>\n",
       "      <td>-1.848693</td>\n",
       "      <td>1.894070</td>\n",
       "      <td>0.307990</td>\n",
       "      <td>0.213820</td>\n",
       "      <td>0.903787</td>\n",
       "      <td>1.909337</td>\n",
       "      <td>-1.909337</td>\n",
       "      <td>0.931496</td>\n",
       "      <td>...</td>\n",
       "      <td>-0.534288</td>\n",
       "      <td>-0.223767</td>\n",
       "      <td>-0.519515</td>\n",
       "      <td>0.812794</td>\n",
       "      <td>-0.476891</td>\n",
       "      <td>0.831411</td>\n",
       "      <td>-0.831411</td>\n",
       "      <td>3.698648</td>\n",
       "      <td>-1.0</td>\n",
       "      <td>-0.871890</td>\n",
       "    </tr>\n",
       "    <tr>\n",
       "      <th>583</th>\n",
       "      <td>1.659009</td>\n",
       "      <td>0.533708</td>\n",
       "      <td>0.654547</td>\n",
       "      <td>-0.527964</td>\n",
       "      <td>-0.423362</td>\n",
       "      <td>-0.538458</td>\n",
       "      <td>-1.106455</td>\n",
       "      <td>-0.523742</td>\n",
       "      <td>0.523742</td>\n",
       "      <td>-1.073542</td>\n",
       "      <td>...</td>\n",
       "      <td>1.871648</td>\n",
       "      <td>-0.223767</td>\n",
       "      <td>1.924871</td>\n",
       "      <td>-1.230325</td>\n",
       "      <td>-0.476891</td>\n",
       "      <td>0.831411</td>\n",
       "      <td>-0.831411</td>\n",
       "      <td>-0.270369</td>\n",
       "      <td>-1.0</td>\n",
       "      <td>1.146934</td>\n",
       "    </tr>\n",
       "    <tr>\n",
       "      <th>915</th>\n",
       "      <td>0.381800</td>\n",
       "      <td>-0.107878</td>\n",
       "      <td>-0.638640</td>\n",
       "      <td>-0.527964</td>\n",
       "      <td>-0.846777</td>\n",
       "      <td>0.307855</td>\n",
       "      <td>0.903787</td>\n",
       "      <td>-0.523742</td>\n",
       "      <td>0.523742</td>\n",
       "      <td>0.931496</td>\n",
       "      <td>...</td>\n",
       "      <td>-0.534288</td>\n",
       "      <td>-0.223767</td>\n",
       "      <td>-0.519515</td>\n",
       "      <td>0.812794</td>\n",
       "      <td>-0.476891</td>\n",
       "      <td>-1.202775</td>\n",
       "      <td>1.202775</td>\n",
       "      <td>-0.270369</td>\n",
       "      <td>1.0</td>\n",
       "      <td>-0.871890</td>\n",
       "    </tr>\n",
       "    <tr>\n",
       "      <th>773</th>\n",
       "      <td>0.275366</td>\n",
       "      <td>-0.642533</td>\n",
       "      <td>-0.065943</td>\n",
       "      <td>-0.527964</td>\n",
       "      <td>0.962358</td>\n",
       "      <td>0.966098</td>\n",
       "      <td>-1.106455</td>\n",
       "      <td>-0.523742</td>\n",
       "      <td>0.523742</td>\n",
       "      <td>-1.073542</td>\n",
       "      <td>...</td>\n",
       "      <td>-0.534288</td>\n",
       "      <td>4.468940</td>\n",
       "      <td>1.924871</td>\n",
       "      <td>-1.230325</td>\n",
       "      <td>-0.476891</td>\n",
       "      <td>0.831411</td>\n",
       "      <td>-0.831411</td>\n",
       "      <td>-0.270369</td>\n",
       "      <td>1.0</td>\n",
       "      <td>-0.871890</td>\n",
       "    </tr>\n",
       "  </tbody>\n",
       "</table>\n",
       "<p>5 rows × 21 columns</p>\n",
       "</div>"
      ],
      "text/plain": [
       "          Age  RestingBP  Cholesterol  FastingBS     MaxHR   Oldpeak  \\\n",
       "473  0.701102   0.480242     1.070214   1.894070 -0.577331  0.778028   \n",
       "339  1.126839  -1.979170    -1.848693   1.894070  0.307990  0.213820   \n",
       "583  1.659009   0.533708     0.654547  -0.527964 -0.423362 -0.538458   \n",
       "915  0.381800  -0.107878    -0.638640  -0.527964 -0.846777  0.307855   \n",
       "773  0.275366  -0.642533    -0.065943  -0.527964  0.962358  0.966098   \n",
       "\n",
       "     HeartDisease     Sex_F     Sex_M  ChestPainType_ASY  ...  \\\n",
       "473      0.903787 -0.523742  0.523742          -1.073542  ...   \n",
       "339      0.903787  1.909337 -1.909337           0.931496  ...   \n",
       "583     -1.106455 -0.523742  0.523742          -1.073542  ...   \n",
       "915      0.903787 -0.523742  0.523742           0.931496  ...   \n",
       "773     -1.106455 -0.523742  0.523742          -1.073542  ...   \n",
       "\n",
       "     ChestPainType_NAP  ChestPainType_TA  RestingECG_LVH  RestingECG_Normal  \\\n",
       "473           1.871648         -0.223767       -0.519515          -1.230325   \n",
       "339          -0.534288         -0.223767       -0.519515           0.812794   \n",
       "583           1.871648         -0.223767        1.924871          -1.230325   \n",
       "915          -0.534288         -0.223767       -0.519515           0.812794   \n",
       "773          -0.534288          4.468940        1.924871          -1.230325   \n",
       "\n",
       "     RestingECG_ST  ExerciseAngina_N  ExerciseAngina_Y  ST_Slope_Down  \\\n",
       "473       2.096917         -1.202775          1.202775      -0.270369   \n",
       "339      -0.476891          0.831411         -0.831411       3.698648   \n",
       "583      -0.476891          0.831411         -0.831411      -0.270369   \n",
       "915      -0.476891         -1.202775          1.202775      -0.270369   \n",
       "773      -0.476891          0.831411         -0.831411      -0.270369   \n",
       "\n",
       "     ST_Slope_Flat  ST_Slope_Up  \n",
       "473            1.0    -0.871890  \n",
       "339           -1.0    -0.871890  \n",
       "583           -1.0     1.146934  \n",
       "915            1.0    -0.871890  \n",
       "773            1.0    -0.871890  \n",
       "\n",
       "[5 rows x 21 columns]"
      ]
     },
     "execution_count": 52,
     "metadata": {},
     "output_type": "execute_result"
    }
   ],
   "source": [
    "X_train_z = X_train.select_dtypes(include='number').apply(stats.zscore)\n",
    "X_test_z = X_test.select_dtypes(include='number').apply(stats.zscore)\n",
    "train_z.head()"
   ]
  },
  {
   "cell_type": "code",
   "execution_count": 48,
   "metadata": {},
   "outputs": [
    {
     "data": {
      "text/plain": [
       "Age                 -0.039946\n",
       "RestingBP            0.005884\n",
       "Cholesterol          0.198965\n",
       "FastingBS           -0.107916\n",
       "MaxHR                0.188230\n",
       "Oldpeak             -0.125847\n",
       "Sex_F                1.000000\n",
       "Sex_M               -1.000000\n",
       "ChestPainType_ASY   -0.183417\n",
       "ChestPainType_ATA    0.160843\n",
       "ChestPainType_NAP    0.071082\n",
       "ChestPainType_TA    -0.008308\n",
       "RestingECG_LVH       0.060119\n",
       "RestingECG_Normal    0.012567\n",
       "RestingECG_ST       -0.079133\n",
       "ExerciseAngina_N     0.192698\n",
       "ExerciseAngina_Y    -0.192698\n",
       "ST_Slope_Down       -0.075821\n",
       "ST_Slope_Flat       -0.092815\n",
       "ST_Slope_Up          0.132254\n",
       "Name: Sex_F, dtype: float64"
      ]
     },
     "execution_count": 48,
     "metadata": {},
     "output_type": "execute_result"
    }
   ],
   "source": [
    "# Check correlations\n",
    "X_train_z.corr()['Sex_F']"
   ]
  },
  {
   "cell_type": "markdown",
   "metadata": {},
   "source": [
    "Think this is a good sign, checked correlationsSex_F and that was 1.0 for that row. Note, Sex_M is exact opposite (good). "
   ]
  },
  {
   "cell_type": "markdown",
   "metadata": {},
   "source": [
    "# **4**"
   ]
  },
  {
   "cell_type": "markdown",
   "metadata": {},
   "source": [
    "## 4.a - Logistic Regression \n",
    "- Model using `HeartDisease` as target var"
   ]
  },
  {
   "cell_type": "markdown",
   "metadata": {},
   "source": [
    "#### Model Building"
   ]
  },
  {
   "cell_type": "code",
   "execution_count": 57,
   "metadata": {},
   "outputs": [
    {
     "data": {
      "text/html": [
       "<div>\n",
       "<style scoped>\n",
       "    .dataframe tbody tr th:only-of-type {\n",
       "        vertical-align: middle;\n",
       "    }\n",
       "\n",
       "    .dataframe tbody tr th {\n",
       "        vertical-align: top;\n",
       "    }\n",
       "\n",
       "    .dataframe thead th {\n",
       "        text-align: right;\n",
       "    }\n",
       "</style>\n",
       "<table border=\"1\" class=\"dataframe\">\n",
       "  <thead>\n",
       "    <tr style=\"text-align: right;\">\n",
       "      <th></th>\n",
       "      <th>Age</th>\n",
       "      <th>RestingBP</th>\n",
       "      <th>Cholesterol</th>\n",
       "      <th>FastingBS</th>\n",
       "      <th>MaxHR</th>\n",
       "      <th>Oldpeak</th>\n",
       "      <th>Sex_F</th>\n",
       "      <th>Sex_M</th>\n",
       "      <th>ChestPainType_ASY</th>\n",
       "      <th>ChestPainType_ATA</th>\n",
       "      <th>...</th>\n",
       "      <th>ChestPainType_TA</th>\n",
       "      <th>RestingECG_LVH</th>\n",
       "      <th>RestingECG_Normal</th>\n",
       "      <th>RestingECG_ST</th>\n",
       "      <th>ExerciseAngina_N</th>\n",
       "      <th>ExerciseAngina_Y</th>\n",
       "      <th>ST_Slope_Down</th>\n",
       "      <th>ST_Slope_Flat</th>\n",
       "      <th>ST_Slope_Up</th>\n",
       "      <th>HeartDisease</th>\n",
       "    </tr>\n",
       "  </thead>\n",
       "  <tbody>\n",
       "    <tr>\n",
       "      <th>473</th>\n",
       "      <td>0.701102</td>\n",
       "      <td>0.480242</td>\n",
       "      <td>1.070214</td>\n",
       "      <td>1.894070</td>\n",
       "      <td>-0.577331</td>\n",
       "      <td>0.778028</td>\n",
       "      <td>-0.523742</td>\n",
       "      <td>0.523742</td>\n",
       "      <td>-1.073542</td>\n",
       "      <td>-0.491897</td>\n",
       "      <td>...</td>\n",
       "      <td>-0.223767</td>\n",
       "      <td>-0.519515</td>\n",
       "      <td>-1.230325</td>\n",
       "      <td>2.096917</td>\n",
       "      <td>-1.202775</td>\n",
       "      <td>1.202775</td>\n",
       "      <td>-0.270369</td>\n",
       "      <td>1.0</td>\n",
       "      <td>-0.871890</td>\n",
       "      <td>1</td>\n",
       "    </tr>\n",
       "    <tr>\n",
       "      <th>339</th>\n",
       "      <td>1.126839</td>\n",
       "      <td>-1.979170</td>\n",
       "      <td>-1.848693</td>\n",
       "      <td>1.894070</td>\n",
       "      <td>0.307990</td>\n",
       "      <td>0.213820</td>\n",
       "      <td>1.909337</td>\n",
       "      <td>-1.909337</td>\n",
       "      <td>0.931496</td>\n",
       "      <td>-0.491897</td>\n",
       "      <td>...</td>\n",
       "      <td>-0.223767</td>\n",
       "      <td>-0.519515</td>\n",
       "      <td>0.812794</td>\n",
       "      <td>-0.476891</td>\n",
       "      <td>0.831411</td>\n",
       "      <td>-0.831411</td>\n",
       "      <td>3.698648</td>\n",
       "      <td>-1.0</td>\n",
       "      <td>-0.871890</td>\n",
       "      <td>1</td>\n",
       "    </tr>\n",
       "    <tr>\n",
       "      <th>583</th>\n",
       "      <td>1.659009</td>\n",
       "      <td>0.533708</td>\n",
       "      <td>0.654547</td>\n",
       "      <td>-0.527964</td>\n",
       "      <td>-0.423362</td>\n",
       "      <td>-0.538458</td>\n",
       "      <td>-0.523742</td>\n",
       "      <td>0.523742</td>\n",
       "      <td>-1.073542</td>\n",
       "      <td>-0.491897</td>\n",
       "      <td>...</td>\n",
       "      <td>-0.223767</td>\n",
       "      <td>1.924871</td>\n",
       "      <td>-1.230325</td>\n",
       "      <td>-0.476891</td>\n",
       "      <td>0.831411</td>\n",
       "      <td>-0.831411</td>\n",
       "      <td>-0.270369</td>\n",
       "      <td>-1.0</td>\n",
       "      <td>1.146934</td>\n",
       "      <td>0</td>\n",
       "    </tr>\n",
       "    <tr>\n",
       "      <th>915</th>\n",
       "      <td>0.381800</td>\n",
       "      <td>-0.107878</td>\n",
       "      <td>-0.638640</td>\n",
       "      <td>-0.527964</td>\n",
       "      <td>-0.846777</td>\n",
       "      <td>0.307855</td>\n",
       "      <td>-0.523742</td>\n",
       "      <td>0.523742</td>\n",
       "      <td>0.931496</td>\n",
       "      <td>-0.491897</td>\n",
       "      <td>...</td>\n",
       "      <td>-0.223767</td>\n",
       "      <td>-0.519515</td>\n",
       "      <td>0.812794</td>\n",
       "      <td>-0.476891</td>\n",
       "      <td>-1.202775</td>\n",
       "      <td>1.202775</td>\n",
       "      <td>-0.270369</td>\n",
       "      <td>1.0</td>\n",
       "      <td>-0.871890</td>\n",
       "      <td>1</td>\n",
       "    </tr>\n",
       "    <tr>\n",
       "      <th>773</th>\n",
       "      <td>0.275366</td>\n",
       "      <td>-0.642533</td>\n",
       "      <td>-0.065943</td>\n",
       "      <td>-0.527964</td>\n",
       "      <td>0.962358</td>\n",
       "      <td>0.966098</td>\n",
       "      <td>-0.523742</td>\n",
       "      <td>0.523742</td>\n",
       "      <td>-1.073542</td>\n",
       "      <td>-0.491897</td>\n",
       "      <td>...</td>\n",
       "      <td>4.468940</td>\n",
       "      <td>1.924871</td>\n",
       "      <td>-1.230325</td>\n",
       "      <td>-0.476891</td>\n",
       "      <td>0.831411</td>\n",
       "      <td>-0.831411</td>\n",
       "      <td>-0.270369</td>\n",
       "      <td>1.0</td>\n",
       "      <td>-0.871890</td>\n",
       "      <td>0</td>\n",
       "    </tr>\n",
       "    <tr>\n",
       "      <th>...</th>\n",
       "      <td>...</td>\n",
       "      <td>...</td>\n",
       "      <td>...</td>\n",
       "      <td>...</td>\n",
       "      <td>...</td>\n",
       "      <td>...</td>\n",
       "      <td>...</td>\n",
       "      <td>...</td>\n",
       "      <td>...</td>\n",
       "      <td>...</td>\n",
       "      <td>...</td>\n",
       "      <td>...</td>\n",
       "      <td>...</td>\n",
       "      <td>...</td>\n",
       "      <td>...</td>\n",
       "      <td>...</td>\n",
       "      <td>...</td>\n",
       "      <td>...</td>\n",
       "      <td>...</td>\n",
       "      <td>...</td>\n",
       "      <td>...</td>\n",
       "    </tr>\n",
       "    <tr>\n",
       "      <th>582</th>\n",
       "      <td>1.659009</td>\n",
       "      <td>-0.535602</td>\n",
       "      <td>0.146509</td>\n",
       "      <td>1.894070</td>\n",
       "      <td>-2.040036</td>\n",
       "      <td>-0.820562</td>\n",
       "      <td>-0.523742</td>\n",
       "      <td>0.523742</td>\n",
       "      <td>0.931496</td>\n",
       "      <td>-0.491897</td>\n",
       "      <td>...</td>\n",
       "      <td>-0.223767</td>\n",
       "      <td>1.924871</td>\n",
       "      <td>-1.230325</td>\n",
       "      <td>-0.476891</td>\n",
       "      <td>-1.202775</td>\n",
       "      <td>1.202775</td>\n",
       "      <td>-0.270369</td>\n",
       "      <td>1.0</td>\n",
       "      <td>-0.871890</td>\n",
       "      <td>1</td>\n",
       "    </tr>\n",
       "    <tr>\n",
       "      <th>64</th>\n",
       "      <td>-0.363239</td>\n",
       "      <td>-1.177188</td>\n",
       "      <td>0.017190</td>\n",
       "      <td>-0.527964</td>\n",
       "      <td>0.307990</td>\n",
       "      <td>-0.820562</td>\n",
       "      <td>1.909337</td>\n",
       "      <td>-1.909337</td>\n",
       "      <td>-1.073542</td>\n",
       "      <td>2.032945</td>\n",
       "      <td>...</td>\n",
       "      <td>-0.223767</td>\n",
       "      <td>-0.519515</td>\n",
       "      <td>0.812794</td>\n",
       "      <td>-0.476891</td>\n",
       "      <td>0.831411</td>\n",
       "      <td>-0.831411</td>\n",
       "      <td>-0.270369</td>\n",
       "      <td>-1.0</td>\n",
       "      <td>1.146934</td>\n",
       "      <td>0</td>\n",
       "    </tr>\n",
       "    <tr>\n",
       "      <th>41</th>\n",
       "      <td>0.062497</td>\n",
       "      <td>-0.107878</td>\n",
       "      <td>0.866999</td>\n",
       "      <td>-0.527964</td>\n",
       "      <td>-1.424160</td>\n",
       "      <td>-0.820562</td>\n",
       "      <td>1.909337</td>\n",
       "      <td>-1.909337</td>\n",
       "      <td>-1.073542</td>\n",
       "      <td>-0.491897</td>\n",
       "      <td>...</td>\n",
       "      <td>-0.223767</td>\n",
       "      <td>-0.519515</td>\n",
       "      <td>-1.230325</td>\n",
       "      <td>2.096917</td>\n",
       "      <td>-1.202775</td>\n",
       "      <td>1.202775</td>\n",
       "      <td>-0.270369</td>\n",
       "      <td>1.0</td>\n",
       "      <td>-0.871890</td>\n",
       "      <td>1</td>\n",
       "    </tr>\n",
       "    <tr>\n",
       "      <th>105</th>\n",
       "      <td>0.381800</td>\n",
       "      <td>0.426777</td>\n",
       "      <td>0.552939</td>\n",
       "      <td>1.894070</td>\n",
       "      <td>0.115529</td>\n",
       "      <td>-0.820562</td>\n",
       "      <td>-0.523742</td>\n",
       "      <td>0.523742</td>\n",
       "      <td>-1.073542</td>\n",
       "      <td>2.032945</td>\n",
       "      <td>...</td>\n",
       "      <td>-0.223767</td>\n",
       "      <td>-0.519515</td>\n",
       "      <td>0.812794</td>\n",
       "      <td>-0.476891</td>\n",
       "      <td>0.831411</td>\n",
       "      <td>-0.831411</td>\n",
       "      <td>-0.270369</td>\n",
       "      <td>-1.0</td>\n",
       "      <td>1.146934</td>\n",
       "      <td>0</td>\n",
       "    </tr>\n",
       "    <tr>\n",
       "      <th>393</th>\n",
       "      <td>-1.640449</td>\n",
       "      <td>0.961432</td>\n",
       "      <td>-1.848693</td>\n",
       "      <td>1.894070</td>\n",
       "      <td>-0.654316</td>\n",
       "      <td>-0.162319</td>\n",
       "      <td>-0.523742</td>\n",
       "      <td>0.523742</td>\n",
       "      <td>0.931496</td>\n",
       "      <td>-0.491897</td>\n",
       "      <td>...</td>\n",
       "      <td>-0.223767</td>\n",
       "      <td>-0.519515</td>\n",
       "      <td>0.812794</td>\n",
       "      <td>-0.476891</td>\n",
       "      <td>-1.202775</td>\n",
       "      <td>1.202775</td>\n",
       "      <td>-0.270369</td>\n",
       "      <td>1.0</td>\n",
       "      <td>-0.871890</td>\n",
       "      <td>1</td>\n",
       "    </tr>\n",
       "  </tbody>\n",
       "</table>\n",
       "<p>734 rows × 21 columns</p>\n",
       "</div>"
      ],
      "text/plain": [
       "          Age  RestingBP  Cholesterol  FastingBS     MaxHR   Oldpeak  \\\n",
       "473  0.701102   0.480242     1.070214   1.894070 -0.577331  0.778028   \n",
       "339  1.126839  -1.979170    -1.848693   1.894070  0.307990  0.213820   \n",
       "583  1.659009   0.533708     0.654547  -0.527964 -0.423362 -0.538458   \n",
       "915  0.381800  -0.107878    -0.638640  -0.527964 -0.846777  0.307855   \n",
       "773  0.275366  -0.642533    -0.065943  -0.527964  0.962358  0.966098   \n",
       "..        ...        ...          ...        ...       ...       ...   \n",
       "582  1.659009  -0.535602     0.146509   1.894070 -2.040036 -0.820562   \n",
       "64  -0.363239  -1.177188     0.017190  -0.527964  0.307990 -0.820562   \n",
       "41   0.062497  -0.107878     0.866999  -0.527964 -1.424160 -0.820562   \n",
       "105  0.381800   0.426777     0.552939   1.894070  0.115529 -0.820562   \n",
       "393 -1.640449   0.961432    -1.848693   1.894070 -0.654316 -0.162319   \n",
       "\n",
       "        Sex_F     Sex_M  ChestPainType_ASY  ChestPainType_ATA  ...  \\\n",
       "473 -0.523742  0.523742          -1.073542          -0.491897  ...   \n",
       "339  1.909337 -1.909337           0.931496          -0.491897  ...   \n",
       "583 -0.523742  0.523742          -1.073542          -0.491897  ...   \n",
       "915 -0.523742  0.523742           0.931496          -0.491897  ...   \n",
       "773 -0.523742  0.523742          -1.073542          -0.491897  ...   \n",
       "..        ...       ...                ...                ...  ...   \n",
       "582 -0.523742  0.523742           0.931496          -0.491897  ...   \n",
       "64   1.909337 -1.909337          -1.073542           2.032945  ...   \n",
       "41   1.909337 -1.909337          -1.073542          -0.491897  ...   \n",
       "105 -0.523742  0.523742          -1.073542           2.032945  ...   \n",
       "393 -0.523742  0.523742           0.931496          -0.491897  ...   \n",
       "\n",
       "     ChestPainType_TA  RestingECG_LVH  RestingECG_Normal  RestingECG_ST  \\\n",
       "473         -0.223767       -0.519515          -1.230325       2.096917   \n",
       "339         -0.223767       -0.519515           0.812794      -0.476891   \n",
       "583         -0.223767        1.924871          -1.230325      -0.476891   \n",
       "915         -0.223767       -0.519515           0.812794      -0.476891   \n",
       "773          4.468940        1.924871          -1.230325      -0.476891   \n",
       "..                ...             ...                ...            ...   \n",
       "582         -0.223767        1.924871          -1.230325      -0.476891   \n",
       "64          -0.223767       -0.519515           0.812794      -0.476891   \n",
       "41          -0.223767       -0.519515          -1.230325       2.096917   \n",
       "105         -0.223767       -0.519515           0.812794      -0.476891   \n",
       "393         -0.223767       -0.519515           0.812794      -0.476891   \n",
       "\n",
       "     ExerciseAngina_N  ExerciseAngina_Y  ST_Slope_Down  ST_Slope_Flat  \\\n",
       "473         -1.202775          1.202775      -0.270369            1.0   \n",
       "339          0.831411         -0.831411       3.698648           -1.0   \n",
       "583          0.831411         -0.831411      -0.270369           -1.0   \n",
       "915         -1.202775          1.202775      -0.270369            1.0   \n",
       "773          0.831411         -0.831411      -0.270369            1.0   \n",
       "..                ...               ...            ...            ...   \n",
       "582         -1.202775          1.202775      -0.270369            1.0   \n",
       "64           0.831411         -0.831411      -0.270369           -1.0   \n",
       "41          -1.202775          1.202775      -0.270369            1.0   \n",
       "105          0.831411         -0.831411      -0.270369           -1.0   \n",
       "393         -1.202775          1.202775      -0.270369            1.0   \n",
       "\n",
       "     ST_Slope_Up  HeartDisease  \n",
       "473    -0.871890             1  \n",
       "339    -0.871890             1  \n",
       "583     1.146934             0  \n",
       "915    -0.871890             1  \n",
       "773    -0.871890             0  \n",
       "..           ...           ...  \n",
       "582    -0.871890             1  \n",
       "64      1.146934             0  \n",
       "41     -0.871890             1  \n",
       "105     1.146934             0  \n",
       "393    -0.871890             1  \n",
       "\n",
       "[734 rows x 21 columns]"
      ]
     },
     "execution_count": 57,
     "metadata": {},
     "output_type": "execute_result"
    }
   ],
   "source": [
    "#create joined df of standardized data and target\n",
    "df_trn = pd.concat([X_train_z, y_train], axis=1, join='inner')\n",
    "df_tst = pd.concat([X_test_z, y_test], axis=1, join='inner')\n",
    "df_trn"
   ]
  },
  {
   "cell_type": "markdown",
   "metadata": {},
   "source": [
    "734 rows in the training set with `actual` events coded"
   ]
  },
  {
   "cell_type": "code",
   "execution_count": 96,
   "metadata": {},
   "outputs": [],
   "source": [
    "# set up predictors and target (X, y)\n",
    "\n",
    "preds = df_trn.columns[1:-1]\n",
    "\n",
    "X_trnS = df_trn[preds]\n",
    "y_trnS = df_trn['HeartDisease']\n",
    "\n",
    "X_tstS = df_tst[preds]\n",
    "y_tstS = df_tst['HeartDisease']"
   ]
  },
  {
   "cell_type": "markdown",
   "metadata": {},
   "source": [
    "Data Check on X, y"
   ]
  },
  {
   "cell_type": "code",
   "execution_count": 97,
   "metadata": {},
   "outputs": [
    {
     "data": {
      "text/html": [
       "<div>\n",
       "<style scoped>\n",
       "    .dataframe tbody tr th:only-of-type {\n",
       "        vertical-align: middle;\n",
       "    }\n",
       "\n",
       "    .dataframe tbody tr th {\n",
       "        vertical-align: top;\n",
       "    }\n",
       "\n",
       "    .dataframe thead th {\n",
       "        text-align: right;\n",
       "    }\n",
       "</style>\n",
       "<table border=\"1\" class=\"dataframe\">\n",
       "  <thead>\n",
       "    <tr style=\"text-align: right;\">\n",
       "      <th></th>\n",
       "      <th>RestingBP</th>\n",
       "      <th>Cholesterol</th>\n",
       "      <th>FastingBS</th>\n",
       "      <th>MaxHR</th>\n",
       "      <th>Oldpeak</th>\n",
       "      <th>Sex_F</th>\n",
       "      <th>Sex_M</th>\n",
       "      <th>ChestPainType_ASY</th>\n",
       "      <th>ChestPainType_ATA</th>\n",
       "      <th>ChestPainType_NAP</th>\n",
       "      <th>ChestPainType_TA</th>\n",
       "      <th>RestingECG_LVH</th>\n",
       "      <th>RestingECG_Normal</th>\n",
       "      <th>RestingECG_ST</th>\n",
       "      <th>ExerciseAngina_N</th>\n",
       "      <th>ExerciseAngina_Y</th>\n",
       "      <th>ST_Slope_Down</th>\n",
       "      <th>ST_Slope_Flat</th>\n",
       "      <th>ST_Slope_Up</th>\n",
       "    </tr>\n",
       "  </thead>\n",
       "  <tbody>\n",
       "    <tr>\n",
       "      <th>473</th>\n",
       "      <td>0.480242</td>\n",
       "      <td>1.070214</td>\n",
       "      <td>1.894070</td>\n",
       "      <td>-0.577331</td>\n",
       "      <td>0.778028</td>\n",
       "      <td>-0.523742</td>\n",
       "      <td>0.523742</td>\n",
       "      <td>-1.073542</td>\n",
       "      <td>-0.491897</td>\n",
       "      <td>1.871648</td>\n",
       "      <td>-0.223767</td>\n",
       "      <td>-0.519515</td>\n",
       "      <td>-1.230325</td>\n",
       "      <td>2.096917</td>\n",
       "      <td>-1.202775</td>\n",
       "      <td>1.202775</td>\n",
       "      <td>-0.270369</td>\n",
       "      <td>1.0</td>\n",
       "      <td>-0.871890</td>\n",
       "    </tr>\n",
       "    <tr>\n",
       "      <th>339</th>\n",
       "      <td>-1.979170</td>\n",
       "      <td>-1.848693</td>\n",
       "      <td>1.894070</td>\n",
       "      <td>0.307990</td>\n",
       "      <td>0.213820</td>\n",
       "      <td>1.909337</td>\n",
       "      <td>-1.909337</td>\n",
       "      <td>0.931496</td>\n",
       "      <td>-0.491897</td>\n",
       "      <td>-0.534288</td>\n",
       "      <td>-0.223767</td>\n",
       "      <td>-0.519515</td>\n",
       "      <td>0.812794</td>\n",
       "      <td>-0.476891</td>\n",
       "      <td>0.831411</td>\n",
       "      <td>-0.831411</td>\n",
       "      <td>3.698648</td>\n",
       "      <td>-1.0</td>\n",
       "      <td>-0.871890</td>\n",
       "    </tr>\n",
       "    <tr>\n",
       "      <th>583</th>\n",
       "      <td>0.533708</td>\n",
       "      <td>0.654547</td>\n",
       "      <td>-0.527964</td>\n",
       "      <td>-0.423362</td>\n",
       "      <td>-0.538458</td>\n",
       "      <td>-0.523742</td>\n",
       "      <td>0.523742</td>\n",
       "      <td>-1.073542</td>\n",
       "      <td>-0.491897</td>\n",
       "      <td>1.871648</td>\n",
       "      <td>-0.223767</td>\n",
       "      <td>1.924871</td>\n",
       "      <td>-1.230325</td>\n",
       "      <td>-0.476891</td>\n",
       "      <td>0.831411</td>\n",
       "      <td>-0.831411</td>\n",
       "      <td>-0.270369</td>\n",
       "      <td>-1.0</td>\n",
       "      <td>1.146934</td>\n",
       "    </tr>\n",
       "  </tbody>\n",
       "</table>\n",
       "</div>"
      ],
      "text/plain": [
       "     RestingBP  Cholesterol  FastingBS     MaxHR   Oldpeak     Sex_F  \\\n",
       "473   0.480242     1.070214   1.894070 -0.577331  0.778028 -0.523742   \n",
       "339  -1.979170    -1.848693   1.894070  0.307990  0.213820  1.909337   \n",
       "583   0.533708     0.654547  -0.527964 -0.423362 -0.538458 -0.523742   \n",
       "\n",
       "        Sex_M  ChestPainType_ASY  ChestPainType_ATA  ChestPainType_NAP  \\\n",
       "473  0.523742          -1.073542          -0.491897           1.871648   \n",
       "339 -1.909337           0.931496          -0.491897          -0.534288   \n",
       "583  0.523742          -1.073542          -0.491897           1.871648   \n",
       "\n",
       "     ChestPainType_TA  RestingECG_LVH  RestingECG_Normal  RestingECG_ST  \\\n",
       "473         -0.223767       -0.519515          -1.230325       2.096917   \n",
       "339         -0.223767       -0.519515           0.812794      -0.476891   \n",
       "583         -0.223767        1.924871          -1.230325      -0.476891   \n",
       "\n",
       "     ExerciseAngina_N  ExerciseAngina_Y  ST_Slope_Down  ST_Slope_Flat  \\\n",
       "473         -1.202775          1.202775      -0.270369            1.0   \n",
       "339          0.831411         -0.831411       3.698648           -1.0   \n",
       "583          0.831411         -0.831411      -0.270369           -1.0   \n",
       "\n",
       "     ST_Slope_Up  \n",
       "473    -0.871890  \n",
       "339    -0.871890  \n",
       "583     1.146934  "
      ]
     },
     "execution_count": 97,
     "metadata": {},
     "output_type": "execute_result"
    }
   ],
   "source": [
    "X_trnS.head(3)"
   ]
  },
  {
   "cell_type": "code",
   "execution_count": 98,
   "metadata": {},
   "outputs": [
    {
     "data": {
      "text/plain": [
       "864    1\n",
       "901    1\n",
       "480    1\n",
       "Name: HeartDisease, dtype: int64"
      ]
     },
     "execution_count": 98,
     "metadata": {},
     "output_type": "execute_result"
    }
   ],
   "source": [
    "y_tstS.head(3)"
   ]
  },
  {
   "cell_type": "markdown",
   "metadata": {},
   "source": [
    "### Target distributions in the training and test partitions"
   ]
  },
  {
   "cell_type": "code",
   "execution_count": 99,
   "metadata": {},
   "outputs": [
    {
     "data": {
      "text/plain": [
       "1    0.550409\n",
       "0    0.449591\n",
       "Name: HeartDisease, dtype: float64"
      ]
     },
     "execution_count": 99,
     "metadata": {},
     "output_type": "execute_result"
    }
   ],
   "source": [
    "# train % dist.\n",
    "y_trnS.value_counts() / len(y_trnS)"
   ]
  },
  {
   "cell_type": "code",
   "execution_count": 100,
   "metadata": {},
   "outputs": [
    {
     "data": {
      "text/plain": [
       "1    0.565217\n",
       "0    0.434783\n",
       "Name: HeartDisease, dtype: float64"
      ]
     },
     "execution_count": 100,
     "metadata": {},
     "output_type": "execute_result"
    }
   ],
   "source": [
    "# test % dist.\n",
    "y_tstS.value_counts() / len(y_tstS)"
   ]
  },
  {
   "cell_type": "markdown",
   "metadata": {},
   "source": [
    "**Distributions look good for both partitions.**"
   ]
  },
  {
   "cell_type": "code",
   "execution_count": 101,
   "metadata": {},
   "outputs": [],
   "source": [
    "from sklearn.linear_model import LogisticRegression\n",
    "\n",
    "# define the model object ('liblinear' is recommended for small datasets)\n",
    "clf = LogisticRegression(solver='liblinear', random_state=314)\n",
    "\n",
    "# train (fit) the model using the training sample\n",
    "clf.fit(X_trnS, y_trnS)\n",
    "\n",
    "# make predictions on the test sample\n",
    "y_trn_preds = clf.predict(X_tstS)"
   ]
  },
  {
   "cell_type": "markdown",
   "metadata": {},
   "source": [
    "### Model Accuracy"
   ]
  },
  {
   "cell_type": "code",
   "execution_count": 102,
   "metadata": {},
   "outputs": [
    {
     "data": {
      "text/plain": [
       "0.8478260869565217"
      ]
     },
     "execution_count": 102,
     "metadata": {},
     "output_type": "execute_result"
    }
   ],
   "source": [
    "from sklearn.metrics import accuracy_score\n",
    "\n",
    "accuracy_score(y_tstS, y_trn_preds)"
   ]
  },
  {
   "cell_type": "markdown",
   "metadata": {},
   "source": [
    "Not too shabby."
   ]
  },
  {
   "cell_type": "code",
   "execution_count": 103,
   "metadata": {},
   "outputs": [
    {
     "data": {
      "text/html": [
       "<div>\n",
       "<style scoped>\n",
       "    .dataframe tbody tr th:only-of-type {\n",
       "        vertical-align: middle;\n",
       "    }\n",
       "\n",
       "    .dataframe tbody tr th {\n",
       "        vertical-align: top;\n",
       "    }\n",
       "\n",
       "    .dataframe thead th {\n",
       "        text-align: right;\n",
       "    }\n",
       "</style>\n",
       "<table border=\"1\" class=\"dataframe\">\n",
       "  <thead>\n",
       "    <tr style=\"text-align: right;\">\n",
       "      <th>col_0</th>\n",
       "      <th>0</th>\n",
       "      <th>1</th>\n",
       "      <th>All</th>\n",
       "    </tr>\n",
       "    <tr>\n",
       "      <th>HeartDisease</th>\n",
       "      <th></th>\n",
       "      <th></th>\n",
       "      <th></th>\n",
       "    </tr>\n",
       "  </thead>\n",
       "  <tbody>\n",
       "    <tr>\n",
       "      <th>0</th>\n",
       "      <td>64</td>\n",
       "      <td>16</td>\n",
       "      <td>80</td>\n",
       "    </tr>\n",
       "    <tr>\n",
       "      <th>1</th>\n",
       "      <td>12</td>\n",
       "      <td>92</td>\n",
       "      <td>104</td>\n",
       "    </tr>\n",
       "    <tr>\n",
       "      <th>All</th>\n",
       "      <td>76</td>\n",
       "      <td>108</td>\n",
       "      <td>184</td>\n",
       "    </tr>\n",
       "  </tbody>\n",
       "</table>\n",
       "</div>"
      ],
      "text/plain": [
       "col_0          0    1  All\n",
       "HeartDisease              \n",
       "0             64   16   80\n",
       "1             12   92  104\n",
       "All           76  108  184"
      ]
     },
     "execution_count": 103,
     "metadata": {},
     "output_type": "execute_result"
    }
   ],
   "source": [
    "# check model's predictions against actual value of the target event\n",
    "\n",
    "pd.crosstab(y_tstS, y_trn_preds, margins=True)"
   ]
  },
  {
   "cell_type": "markdown",
   "metadata": {},
   "source": [
    "Matches, 184 rows in test set."
   ]
  },
  {
   "cell_type": "markdown",
   "metadata": {},
   "source": [
    "### 4.b - Decision (Classification Tree)"
   ]
  },
  {
   "cell_type": "markdown",
   "metadata": {},
   "source": [
    "#### Max Depth"
   ]
  },
  {
   "cell_type": "code",
   "execution_count": 104,
   "metadata": {},
   "outputs": [
    {
     "data": {
      "text/plain": [
       "array([ 1.,  2.,  3.,  4.,  5.,  6.,  7.,  8.,  9., 10., 11., 12., 13.,\n",
       "       14., 15., 16., 17., 18., 19., 20.])"
      ]
     },
     "execution_count": 104,
     "metadata": {},
     "output_type": "execute_result"
    }
   ],
   "source": [
    "# create a list of all values we would like to test\n",
    "max_depths = np.linspace(1, 20, 20)\n",
    "max_depths"
   ]
  },
  {
   "cell_type": "code",
   "execution_count": 320,
   "metadata": {},
   "outputs": [],
   "source": [
    "# create empty arrays -- the higher the auc, the better the model\n",
    "auc_train, auc_test = [], []\n",
    "\n",
    "for depth in max_depths:\n",
    "    \n",
    "    # define the model\n",
    "    tree = DecisionTreeClassifier(max_depth=depth, \n",
    "                                  random_state=314)\n",
    "    \n",
    "    # fit the model\n",
    "    tree.fit(X_trnS, y_trnS)\n",
    "    \n",
    "    # get model scores\n",
    "    scores_train = tree.predict_proba(X_trnS)[:, 1]\n",
    "    scores_test = tree.predict_proba(X_tstS)[:, 1] \n",
    "    \n",
    "    _auc_train = roc_auc_score(y_trnS, scores_train)\n",
    "    _auc_test = roc_auc_score(y_tstS, scores_test)\n",
    "\n",
    "    # save the AUC values\n",
    "    auc_train.append(_auc_train)\n",
    "    auc_test.append(_auc_test)\n"
   ]
  },
  {
   "cell_type": "code",
   "execution_count": 228,
   "metadata": {},
   "outputs": [
    {
     "data": {
      "text/plain": [
       "[0.8096309630963096,\n",
       " 0.8793579357935795,\n",
       " 0.9141314131413142,\n",
       " 0.9352835283528352,\n",
       " 0.9556893189318931,\n",
       " 0.9739911491149116,\n",
       " 0.9845109510951096,\n",
       " 0.990954095409541,\n",
       " 0.995979597959796,\n",
       " 0.9988861386138614,\n",
       " 0.9997937293729373,\n",
       " 0.9999362436243625,\n",
       " 0.999992499249925,\n",
       " 1.0,\n",
       " 1.0,\n",
       " 1.0,\n",
       " 1.0,\n",
       " 1.0,\n",
       " 1.0,\n",
       " 1.0]"
      ]
     },
     "execution_count": 228,
     "metadata": {},
     "output_type": "execute_result"
    }
   ],
   "source": [
    "# Look at first 5 auc's (areas unther the curve)\n",
    "auc_train"
   ]
  },
  {
   "cell_type": "markdown",
   "metadata": {},
   "source": [
    "# Optimization - Decision (Classification) Tree"
   ]
  },
  {
   "cell_type": "markdown",
   "metadata": {},
   "source": [
    "`Optimization Technique - Grid Search` - avoid fine-tuning one hyper-parameter at a time."
   ]
  },
  {
   "cell_type": "code",
   "execution_count": 380,
   "metadata": {},
   "outputs": [
    {
     "name": "stdout",
     "output_type": "stream",
     "text": [
      "Fitting 3 folds for each of 126 candidates, totalling 378 fits\n"
     ]
    },
    {
     "name": "stderr",
     "output_type": "stream",
     "text": [
      "C:\\ProgramData\\Anaconda3x\\lib\\site-packages\\sklearn\\model_selection\\_search.py:922: UserWarning: One or more of the test scores are non-finite: [0.80251478 0.80251478 0.80251478 0.80929519 0.80929519 0.80929519\n",
      " 0.81344931 0.81208877 0.81208877 0.80251478 0.80251478 0.80251478\n",
      " 0.80656853 0.80656853 0.80656853 0.80936211 0.81072265 0.81072265\n",
      " 0.80251478 0.80251478 0.80251478 0.80656853 0.80656853 0.80656853\n",
      " 0.80936211 0.81072265 0.81072265 0.80251478 0.80251478 0.80251478\n",
      " 0.80656853 0.80656853 0.80656853 0.80936211 0.81072265 0.81072265\n",
      " 0.80251478 0.80251478 0.80251478 0.80656853 0.80656853 0.80656853\n",
      " 0.80936211 0.81072265 0.81072265 0.80251478 0.80251478 0.80251478\n",
      " 0.80656853 0.80656853 0.80656853 0.80936211 0.81072265 0.81072265\n",
      "        nan        nan        nan        nan        nan        nan\n",
      "        nan        nan        nan 0.81612022 0.81612022 0.81612022\n",
      " 0.82426118 0.82426118 0.82426118 0.83249693 0.83249693 0.83249693\n",
      " 0.81612022 0.81612022 0.81612022 0.82426118 0.82426118 0.82426118\n",
      " 0.83249693 0.83249693 0.83249693 0.81612022 0.81612022 0.81612022\n",
      " 0.82426118 0.82426118 0.82426118 0.83249693 0.83249693 0.83249693\n",
      " 0.81612022 0.81612022 0.81612022 0.82426118 0.82426118 0.82426118\n",
      " 0.83249693 0.83249693 0.83249693 0.81612022 0.81612022 0.81612022\n",
      " 0.82426118 0.82426118 0.82426118 0.83249693 0.83249693 0.83249693\n",
      " 0.81612022 0.81612022 0.81612022 0.82426118 0.82426118 0.82426118\n",
      " 0.83249693 0.83249693 0.83249693        nan        nan        nan\n",
      "        nan        nan        nan        nan        nan        nan]\n",
      "  warnings.warn(\n"
     ]
    },
    {
     "data": {
      "text/plain": [
       "GridSearchCV(cv=3, estimator=DecisionTreeClassifier(random_state=314),\n",
       "             n_jobs=-1,\n",
       "             param_grid={'criterion': ['gini', 'entropy'],\n",
       "                         'max_depth': [4, 5, 6, 7, 8, 9, 'depth'],\n",
       "                         'min_samples_leaf': [0.05, 0.03, 0.02],\n",
       "                         'min_samples_split': [0.05, 0.03, 0.02]},\n",
       "             verbose=2)"
      ]
     },
     "execution_count": 380,
     "metadata": {},
     "output_type": "execute_result"
    }
   ],
   "source": [
    "tree = DecisionTreeClassifier(random_state=314)\n",
    "\n",
    "# create a list of all parameters we want to test\n",
    "param_grid = {'max_depth': [4, 5, 6, 7, 8, 9, 'depth'], \n",
    "              'min_samples_leaf': [0.05, 0.03, 0.02], \n",
    "              'min_samples_split': [0.05, 0.03, 0.02], \n",
    "              'criterion': ['gini', 'entropy']}\n",
    "\n",
    "# define the gridsearch object\n",
    "tree_gs = GridSearchCV(tree, param_grid, cv=3, verbose=2, n_jobs=-1)\n",
    "\n",
    "# fit the model\n",
    "tree_gs.fit(X_train, y_train)"
   ]
  },
  {
   "cell_type": "code",
   "execution_count": 381,
   "metadata": {},
   "outputs": [
    {
     "data": {
      "text/plain": [
       "{'criterion': 'entropy',\n",
       " 'max_depth': 4,\n",
       " 'min_samples_leaf': 0.02,\n",
       " 'min_samples_split': 0.05}"
      ]
     },
     "execution_count": 381,
     "metadata": {},
     "output_type": "execute_result"
    }
   ],
   "source": [
    "tree_gs.best_params_"
   ]
  },
  {
   "cell_type": "code",
   "execution_count": 389,
   "metadata": {},
   "outputs": [],
   "source": [
    "# create empty arrays -- the higher the auc, the better the model\n",
    "auc_train, auc_test = [], []\n",
    "\n",
    "for depth in max_depths:\n",
    "    \n",
    "    # define the model\n",
    "    tree = DecisionTreeClassifier(criterion= 'entropy',\n",
    "                                  max_depth = depth,\n",
    "                                  min_samples_split = 0.05,\n",
    "                                  random_state = 314)\n",
    "    \n",
    "    # fit the model\n",
    "    tree.fit(X_trnS, y_trnS)\n",
    "    \n",
    "    # get model scores\n",
    "    scores_train = tree.predict_proba(X_trnS)[:, 1]\n",
    "    scores_test = tree.predict_proba(X_tstS)[:, 1] \n",
    "    \n",
    "    _auc_train = roc_auc_score(y_trnS, scores_train)\n",
    "    _auc_test = roc_auc_score(y_tstS, scores_test)\n",
    "\n",
    "    # save the AUC values\n",
    "    auc_train.append(_auc_train)\n",
    "    auc_test.append(_auc_test)"
   ]
  },
  {
   "cell_type": "code",
   "execution_count": 390,
   "metadata": {},
   "outputs": [
    {
     "data": {
      "text/plain": [
       "[0.8096309630963096,\n",
       " 0.8793579357935795,\n",
       " 0.9161491149114911,\n",
       " 0.9352572757275728,\n",
       " 0.9477535253525352]"
      ]
     },
     "execution_count": 390,
     "metadata": {},
     "output_type": "execute_result"
    }
   ],
   "source": [
    "# Look at first 5 auc's (areas unther the curve)\n",
    "auc_train[:5]"
   ]
  },
  {
   "cell_type": "markdown",
   "metadata": {},
   "source": [
    "Find out where AUC on the test set maximizes."
   ]
  },
  {
   "cell_type": "code",
   "execution_count": 391,
   "metadata": {},
   "outputs": [
    {
     "data": {
      "text/plain": [
       "[3]"
      ]
     },
     "execution_count": 391,
     "metadata": {},
     "output_type": "execute_result"
    }
   ],
   "source": [
    "best_loc = [i for i, v in enumerate(auc_test) \\\n",
    "    if v == max(auc_test)]\n",
    "\n",
    "best_loc"
   ]
  },
  {
   "cell_type": "code",
   "execution_count": 392,
   "metadata": {},
   "outputs": [
    {
     "data": {
      "text/plain": [
       "0.9035456730769231"
      ]
     },
     "execution_count": 392,
     "metadata": {},
     "output_type": "execute_result"
    }
   ],
   "source": [
    "best_auc = auc_test[best_loc[0]]\n",
    "\n",
    "best_auc"
   ]
  },
  {
   "cell_type": "code",
   "execution_count": 393,
   "metadata": {},
   "outputs": [
    {
     "data": {
      "text/plain": [
       "4"
      ]
     },
     "execution_count": 393,
     "metadata": {},
     "output_type": "execute_result"
    }
   ],
   "source": [
    "best_max_depth = int(best_loc[0]) + 1\n",
    "best_max_depth"
   ]
  },
  {
   "cell_type": "code",
   "execution_count": 394,
   "metadata": {},
   "outputs": [
    {
     "data": {
      "image/png": "[encoded data removed]",
      "text/plain": [
       "<Figure size 1080x648 with 1 Axes>"
      ]
     },
     "metadata": {},
     "output_type": "display_data"
    }
   ],
   "source": [
    "plt.figure(figsize=(15, 9))\n",
    "\n",
    "plt.plot(max_depths, auc_train, color='royalblue', lw=2, label='Train')\n",
    "plt.plot(max_depths, auc_test, color='midnightblue', lw=2.5, label='Test')\n",
    "\n",
    "plt.plot([4, 4], [0, 1], color='salmon', linewidth=2, linestyle='--')\n",
    "plt.text(5.5 - 1.2, .91, f'Best AUC = {best_auc:.2f} (max_depth = {best_max_depth})', fontsize=17,\n",
    "         color='black', weight='semibold')\n",
    "\n",
    "plt.xticks(max_depths)\n",
    "plt.ylim([0.8, 1.0])\n",
    "plt.xlim([1, 10])\n",
    "\n",
    "plt.xlabel('Max Depth', fontsize = 14)\n",
    "plt.ylabel('AUC', fontsize = 14)\n",
    "plt.title('Default Risk Model: Decision Tree (Max Depth)', fontsize = 16)\n",
    "plt.legend(loc='best', fontsize = 14);"
   ]
  },
  {
   "cell_type": "markdown",
   "metadata": {},
   "source": [
    "AFter using Grid search for hyper-parameters optimization, a couple were modified as the output did not support the optimization (suggested `max_depth` = 4, or any int was not helpful and removed the `min_samples_leaf` = 0.02 was not helpful)."
   ]
  },
  {
   "cell_type": "markdown",
   "metadata": {},
   "source": [
    "### 4.c - Random Forest"
   ]
  },
  {
   "cell_type": "markdown",
   "metadata": {},
   "source": [
    "`Perform Random Search`"
   ]
  },
  {
   "cell_type": "code",
   "execution_count": 440,
   "metadata": {},
   "outputs": [
    {
     "name": "stdout",
     "output_type": "stream",
     "text": [
      "Fitting 3 folds for each of 10 candidates, totalling 30 fits\n"
     ]
    },
    {
     "name": "stderr",
     "output_type": "stream",
     "text": [
      "C:\\ProgramData\\Anaconda3x\\lib\\site-packages\\sklearn\\model_selection\\_search.py:922: UserWarning: One or more of the test scores are non-finite: [0.85698115        nan 0.86106836 0.87467938 0.86379503        nan\n",
      "        nan 0.86107394        nan        nan]\n",
      "  warnings.warn(\n"
     ]
    },
    {
     "data": {
      "text/plain": [
       "RandomizedSearchCV(cv=3, estimator=RandomForestClassifier(random_state=314),\n",
       "                   n_jobs=-1,\n",
       "                   param_distributions={'bootstrap': [True, False],\n",
       "                                        'criterion': ['gini', 'entropy'],\n",
       "                                        'max_depth': [3, 6, 7, 10, 'depth'],\n",
       "                                        'max_features': ['auto', 'n_features'],\n",
       "                                        'min_samples_leaf': [0.02, 0.05],\n",
       "                                        'n_estimators': [100, 200, 300, 550,\n",
       "                                                         700]},\n",
       "                   random_state=314, verbose=2)"
      ]
     },
     "execution_count": 440,
     "metadata": {},
     "output_type": "execute_result"
    }
   ],
   "source": [
    "forest = RandomForestClassifier(random_state=314)\n",
    "\n",
    "param_grid = {'n_estimators': [100, 200, 300, 550, 700],  \n",
    "              'max_depth': [3, 6, 7, 10, 'depth'],\n",
    "              'min_samples_leaf': [0.02, 0.05],\n",
    "              'bootstrap': [True, False], \n",
    "              'max_features':['auto', 'n_features'], \n",
    "              'criterion': ['gini', 'entropy']}\n",
    "\n",
    "forest_gs = RandomizedSearchCV(forest, param_grid, cv=3, verbose=2, n_iter=10,\n",
    "                               n_jobs=-1, random_state=314)\n",
    "\n",
    "\n",
    "forest_gs.fit(X_trnS, y_trnS)"
   ]
  },
  {
   "cell_type": "code",
   "execution_count": 441,
   "metadata": {},
   "outputs": [
    {
     "data": {
      "text/plain": [
       "{'n_estimators': 300,\n",
       " 'min_samples_leaf': 0.02,\n",
       " 'max_features': 'auto',\n",
       " 'max_depth': 3,\n",
       " 'criterion': 'gini',\n",
       " 'bootstrap': True}"
      ]
     },
     "execution_count": 441,
     "metadata": {},
     "output_type": "execute_result"
    }
   ],
   "source": [
    "forest_gs.best_params_"
   ]
  },
  {
   "cell_type": "markdown",
   "metadata": {},
   "source": [
    "**`Default Risk Model (Random Forest)`**"
   ]
  },
  {
   "cell_type": "code",
   "execution_count": 423,
   "metadata": {},
   "outputs": [
    {
     "data": {
      "image/png": "[encoded data removed]",
      "text/plain": [
       "<Figure size 864x648 with 1 Axes>"
      ]
     },
     "metadata": {},
     "output_type": "display_data"
    }
   ],
   "source": [
    "forest_scores_train = forest_gs.predict_proba(X_trnS)[:, 1]\n",
    "forest_scores_test = forest_gs.predict_proba(X_tstS)[:, 1]\n",
    "\n",
    "forest_fpr_train, forest_tpr_train, _ = roc_curve(y_trnS, forest_scores_train)\n",
    "forest_fpr_test, forest_tpr_test, _ = roc_curve(y_tstS, forest_scores_test)\n",
    "\n",
    "plt.figure(figsize=(12, 9))\n",
    "\n",
    "plt.plot(forest_fpr_train, forest_tpr_train, color='purple', lw=2, alpha = 0.5, linestyle = '-',\n",
    "         label=f'RF Train (AUC = {roc_auc_score(y_train, forest_scores_train):0.3f})')\n",
    "\n",
    "plt.plot(forest_fpr_test, forest_tpr_test, color='purple', lw=2, linestyle = '-',\n",
    "         label=f'RF Test (AUC = {roc_auc_score(y_test, forest_scores_test):0.3f})')\n",
    "\n",
    "\n",
    "plt.plot([0, 1], [0, 1], color='gray', lw=1, linestyle='--')\n",
    "plt.xlim([0.0, 1.0])\n",
    "plt.ylim([0.0, 1.0])\n",
    "plt.xlabel('False Positive Rate', fontsize=14)\n",
    "plt.ylabel('True Positive Rate', fontsize=14)\n",
    "plt.title('Default Risk Model: Random Forest', fontsize=16)\n",
    "plt.legend(loc='lower right', fontsize=14);"
   ]
  },
  {
   "cell_type": "markdown",
   "metadata": {},
   "source": [
    "**`OPTIMIZED Risk Model (Random Forest)`**"
   ]
  },
  {
   "cell_type": "code",
   "execution_count": 443,
   "metadata": {},
   "outputs": [
    {
     "data": {
      "text/plain": [
       "array([1, 1, 1, 0, 1, 0, 0, 1, 0, 0, 1, 1, 0, 0, 0, 0, 1, 1, 1, 1, 1, 1,\n",
       "       0, 0, 1, 1, 1, 1, 0, 0, 1, 0, 1, 1, 1, 1, 1, 1, 0, 0, 1, 1, 1, 1,\n",
       "       0, 0, 0, 1, 0, 1, 1, 1, 1, 0, 0, 1, 0, 1, 0, 1, 0, 1, 1, 1, 0, 1,\n",
       "       1, 0, 0, 0, 1, 1, 0, 1, 0, 0, 1, 0, 1, 1, 1, 0, 1, 0, 0, 1, 1, 1,\n",
       "       1, 1, 1, 0, 0, 0, 0, 0, 1, 1, 1, 0, 0, 1, 1, 1, 1, 1, 0, 1, 1, 1,\n",
       "       1, 0, 1, 1, 0, 1, 1, 0, 0, 0, 0, 0, 1, 1, 0, 1, 0, 1, 1, 1, 1, 1,\n",
       "       0, 0, 1, 0, 1, 0, 1, 0, 1, 1, 1, 1, 1, 1, 1, 1, 1, 0, 1, 1, 1, 1,\n",
       "       0, 0, 1, 1, 1, 1, 1, 0, 1, 1, 1, 0, 1, 0, 0, 0, 1, 1, 0, 0, 0, 1,\n",
       "       1, 1, 1, 1, 0, 1, 1, 0], dtype=int64)"
      ]
     },
     "execution_count": 443,
     "metadata": {},
     "output_type": "execute_result"
    }
   ],
   "source": [
    "# define the model using suggested hyperpparameters\n",
    "forest_gs = RandomForestClassifier(random_state = 314,\n",
    "                                   n_estimators = 300, \n",
    "                                   min_samples_leaf = 0.02, \n",
    "                                   max_depth = 3, \n",
    "                                   bootstrap = True, \n",
    "                                   max_features='auto',\n",
    "                                   criterion = 'gini')\n",
    "\n",
    "# fit the model\n",
    "forest_gs.fit(X_trnS, y_trnS)\n",
    "    \n",
    "# predict \n",
    "forest_gs.predict(X_tstS)"
   ]
  },
  {
   "cell_type": "code",
   "execution_count": 448,
   "metadata": {},
   "outputs": [
    {
     "data": {
      "image/png": "[encoded data removed]",
      "text/plain": [
       "<Figure size 864x648 with 1 Axes>"
      ]
     },
     "metadata": {},
     "output_type": "display_data"
    }
   ],
   "source": [
    "forest_scores_train = forest_gs.predict_proba(X_trnS)[:, 1]\n",
    "forest_scores_test = forest_gs.predict_proba(X_tstS)[:, 1]\n",
    "\n",
    "forest_fpr_train, forest_tpr_train, _ = roc_curve(y_trnS, forest_scores_train)\n",
    "forest_fpr_test, forest_tpr_test, _ = roc_curve(y_tstS, forest_scores_test)\n",
    "\n",
    "plt.figure(figsize=(12, 9))\n",
    "\n",
    "plt.plot(forest_fpr_train, forest_tpr_train, color='purple', lw=2, alpha = 0.4, linestyle = '-',\n",
    "         label=f'RF Train (AUC = {roc_auc_score(y_train, forest_scores_train):0.3f})')\n",
    "\n",
    "plt.plot(forest_fpr_test, forest_tpr_test, color='purple', lw=2, linestyle = '-',\n",
    "         label=f'RF Test (AUC = {roc_auc_score(y_test, forest_scores_test):0.3f})')\n",
    "\n",
    "\n",
    "plt.plot([0, 1], [0, 1], color='gray', lw=1, linestyle='--')\n",
    "plt.xlim([0.0, 1.0])\n",
    "plt.ylim([0.0, 1.0])\n",
    "plt.xlabel('False Positive Rate', fontsize=14)\n",
    "plt.ylabel('True Positive Rate', fontsize=14)\n",
    "plt.title('Optimized Risk Model: Random Forest', fontsize=16)\n",
    "plt.legend(loc='lower right', fontsize=14);"
   ]
  },
  {
   "cell_type": "markdown",
   "metadata": {},
   "source": [
    "Test AUC went from .928 (default model) to .933 using hyper=parameters optimized via a random search. Should I be concerned that the curve is not smoothe, can it be smoothed?"
   ]
  }
 ],
 "metadata": {
  "kernelspec": {
   "display_name": "Python 3.10.4 64-bit",
   "language": "python",
   "name": "python3"
  },
  "language_info": {
   "codemirror_mode": {
    "name": "ipython",
    "version": 3
   },
   "file_extension": ".py",
   "mimetype": "text/x-python",
   "name": "python",
   "nbconvert_exporter": "python",
   "pygments_lexer": "ipython3",
   "version": "3.10.4"
  },
  "orig_nbformat": 4,
  "vscode": {
   "interpreter": {
    "hash": "71f0978da29d4e0328141b02f7c164ebd97a13d85b2259693f44c153b4b14490"
   }
  }
 },
 "nbformat": 4,
 "nbformat_minor": 2
}
